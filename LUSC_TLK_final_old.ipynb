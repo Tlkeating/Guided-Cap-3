{
 "cells": [
  {
   "cell_type": "markdown",
   "id": "ecef6328-c82e-4d3c-8877-455ec4f0437a",
   "metadata": {},
   "source": [
    "# Final Capstone"
   ]
  },
  {
   "cell_type": "markdown",
   "id": "745af117-8e60-4380-a2f1-6927f56d5697",
   "metadata": {},
   "source": [
    "## Gene Expression database mining"
   ]
  },
  {
   "cell_type": "markdown",
   "id": "ea86adf4-2965-4265-be45-e924a703e641",
   "metadata": {},
   "source": [
    "### Part 1. Introduction and goals; data wrangling."
   ]
  },
  {
   "cell_type": "markdown",
   "id": "060473b8-2e3f-4b38-8a11-5dbe41bc3e1f",
   "metadata": {},
   "source": [
    "Can we detect cancer with a simple blood test?  Can we discover new treatment targets with expression arrays?  Over the last 25 years a great deal of research has been devoted to answering these questions. In this paper we explore and assess a gene expression dataset to discover what patterns are present and how they might be usefully interpreted.\n",
    "\n",
    "This dataset is the 'TCGA - LUSC (Lung Cell Squamous Carcinoma)' Expression Profiling by Array Dataset and is publicly available at https://portal.gdc.cancer.gov/. The data is normalized by TPM (transcripts per kilobase million) to make it interpretable across the samples but needs further processing.\n",
    "\n",
    "Lung cancer is one of the deadliest cancers in the world and LUSC is the one of the most common subtypes of lung cancer. The microarray measures the activity of genes in a sample by performing selective binding and measuring fluorescence of mRNA fragments (or gene 'transcripts': recall that DNA is transcribed into mRNA and released to the cytosome where it encounters ribosomes and is then translated into proteins). We expect to see both up- and down-regulation of genes in ways that differ between cancer and healthy samples.\n",
    "\n",
    "The dataset consist of 551 patients. Every patient's array has 56,907 different transcripts. This dataset is imbalanced, with 49 patients diagnosed as healthy and the rest having cancer (n=502).  Each gene is labeled but is not annotated to describe its function; hence, a publically available database of gene annotations will be added in Section 2.  These annotations will be of great importance for selecting subsets of genes that are specific to lung cell activity, and whose functions can be analyzed in various ways to interpret the results from a biological standpoint as well as a purely analytic one. \n",
    "\n",
    "Goals: Add annotations to filter genes by specific activity in lung cells.  Find a subset of genes based on biological considerations, and evaluate their use in a model to predict normal vs. cancer based on differential expression.\n",
    "\n",
    "-----------------------------------------------------------------------------------------\n",
    "\n",
    "References\n",
    "**PLoS Genet. 2011 Aug; 7(8): e1002207.\n",
    "Published online 2011 Aug 11. doi: 10.1371/journal.pgen.1002207\n",
    "PMCID: PMC3154954\n",
    "PMID: 21852951\n",
    "Variance of Gene Expression Identifies Altered Network Constraints in Neurological Disease\n",
    "\n",
    "Implications of applied research for prognosis and therapy of breast cancer\n",
    "M.F. Barginear, ... D.R. Budman, in \n",
    "Critical Reviews in Oncology/Hematology\n",
    ", 2008  chapter 3.1 Microarray analysis"
   ]
  },
  {
   "cell_type": "markdown",
   "id": "7bde95d8-1e26-4d82-a983-3445f0bc893d",
   "metadata": {},
   "source": [
    "## Data import and cleanup"
   ]
  },
  {
   "cell_type": "markdown",
   "id": "1f64898c-c640-4973-96ae-1c16c6d87a2a",
   "metadata": {},
   "source": [
    "The dataset has mixed datatypes, uses a combination of delimiters and has headers that mask patient ID:"
   ]
  },
  {
   "cell_type": "code",
   "execution_count": 291,
   "id": "71adc556-eeaa-40ef-aeb1-8241174c753f",
   "metadata": {},
   "outputs": [
    {
     "name": "stderr",
     "output_type": "stream",
     "text": [
      "C:\\Users\\Owner\\AppData\\Local\\Temp\\ipykernel_43980\\1890420037.py:5: DtypeWarning: Columns (1,2,3,4,5,6,7,8,9,10,11,12,13,14,15,16,17,18,19,20,21,22,23,24,25,26,27,28,29,30,31,32,33,34,35,36,37,38,39,40,41,42,43,44,45,46,47,48,49,50,51,52,53,54,55,56,57,58,59,60,61,62,63,64,65,66,67,68,69,70,71,72,73,74,75,76,77,78,79,80,81,82,83,84,85,86,87,88,89,90,91,92,93,94,95,96,97,98,99,100,101,102,103,104,105,106,107,108,109,110,111,112,113,114,115,116,117,118,119,120,121,122,123,124,125,126,127,128,129,130,131,132,133,134,135,136,137,138,139,140,141,142,143,144,145,146,147,148,149,150,151,152,153,154,155,156,157,158,159,160,161,162,163,164,165,166,167,168,169,170,171,172,173,174,175,176,177,178,179,180,181,182,183,184,185,186,187,188,189,190,191,192,193,194,195,196,197,198,199,200,201,202,203,204,205,206,207,208,209,210,211,212,213,214,215,216,217,218,219,220,221,222,223,224,225,226,227,228,229,230,231,232,233,234,235,236,237,238,239,240,241,242,243,244,245,246,247,248,249,250,251,252,253,254,255,256,257,258,259,260,261,262,263,264,265,266,267,268,269,270,271,272,273,274,275,276,277,278,279,280,281,282,283,284,285,286,287,288,289,290,291,292,293,294,295,296,297,298,299,300,301,302,303,304,305,306,307,308,309,310,311,312,313,314,315,316,317,318,319,320,321,322,323,324,325,326,327,328,329,330,331,332,333,334,335,336,337,338,339,340,341,342,343,344,345,346,347,348,349,350,351,352,353,354,355,356,357,358,359,360,361,362,363,364,365,366,367,368,369,370,371,372,373,374,375,376,377,378,379,380,381,382,383,384,385,386,387,388,389,390,391,392,393,394,395,396,397,398,399,400,401,402,403,404,405,406,407,408,409,410,411,412,413,414,415,416,417,418,419,420,421,422,423,424,425,426,427,428,429,430,431,432,433,434,435,436,437,438,439,440,441,442,443,444,445,446,447,448,449,450,451,452,453,454,455,456,457,458,459,460,461,462,463,464,465,466,467,468,469,470,471,472,473,474,475,476,477,478,479,480,481,482,483,484,485,486,487,488,489,490,491,492,493,494,495,496,497,498,499,500,501,502,503,504,505,506,507,508,509,510,511,512,513,514,515,516,517,518,519,520,521,522,523,524,525,526,527,528,529,530,531,532,533,534,535,536,537,538,539,540,541,542,543,544,545,546,547,548,549,550,551) have mixed types. Specify dtype option on import or set low_memory=False.\n",
      "  df = pd.read_csv('LUSCexpfile.csv', sep = ';')\n"
     ]
    }
   ],
   "source": [
    "import pandas as pd\n",
    "import numpy as np\n",
    "import matplotlib.pyplot as plt\n",
    "import seaborn as sns\n",
    "df = pd.read_csv('LUSCexpfile.csv', sep = ';') \n",
    "#print(df.head())"
   ]
  },
  {
   "cell_type": "markdown",
   "id": "35dcb319-ed7d-4db0-aba0-19dd8fee0b93",
   "metadata": {},
   "source": [
    "First let's remove the patient identifiers, and temporarily replace them with just a number."
   ]
  },
  {
   "cell_type": "code",
   "execution_count": 292,
   "id": "90d954ca-6af3-4889-90c2-67426e78e444",
   "metadata": {},
   "outputs": [],
   "source": [
    "df.columns = np.arange(len(df.columns)) "
   ]
  },
  {
   "cell_type": "code",
   "execution_count": 293,
   "id": "784c7488-799b-4c47-8538-8503bc3c68f1",
   "metadata": {},
   "outputs": [
    {
     "name": "stdout",
     "output_type": "stream",
     "text": [
      "        0            1    ...          550          551\n",
      "0       NaN       normal  ...        tumor        tumor\n",
      "1      A1BG  0.108403483  ...  0.067741511  0.017848088\n",
      "2  A1BG-AS1  1.187325638  ...  0.394044479  0.187729763\n",
      "3      A1CF  0.001370356  ...  0.004709856  0.003722766\n",
      "4       A2M  459.7836081  ...   120.810731  57.23277815\n",
      "\n",
      "[5 rows x 552 columns]\n"
     ]
    }
   ],
   "source": [
    "print(df.head())"
   ]
  },
  {
   "cell_type": "markdown",
   "id": "ed851cfd-3ecd-4c04-a14f-910bc006aed1",
   "metadata": {},
   "source": [
    "The data would look nicer transposed:"
   ]
  },
  {
   "cell_type": "code",
   "execution_count": 294,
   "id": "51912ca8-9637-4e31-876d-b7906063c1dd",
   "metadata": {},
   "outputs": [
    {
     "name": "stdout",
     "output_type": "stream",
     "text": [
      "    0            1      ...  56906     56907\n",
      "0     NaN         A1BG  ...  ZYXP1     ZZEF1\n",
      "1  normal  0.108403483  ...    0.0  4.552543\n",
      "2  normal  0.095187869  ...    0.0  5.626856\n",
      "3  normal  0.097042537  ...    0.0  2.309259\n",
      "4  normal   0.04302861  ...    0.0  5.302771\n",
      "\n",
      "[5 rows x 56908 columns]\n"
     ]
    }
   ],
   "source": [
    "df2 = df.T\n",
    "print(df2.head())"
   ]
  },
  {
   "cell_type": "code",
   "execution_count": 295,
   "id": "cbabfbfa-bbb8-4425-b49c-6822945f42cf",
   "metadata": {},
   "outputs": [
    {
     "name": "stdout",
     "output_type": "stream",
     "text": [
      "        0            1      ...  56906     56907\n",
      "0  SampleType         A1BG  ...  ZYXP1     ZZEF1\n",
      "1      normal  0.108403483  ...    0.0  4.552543\n",
      "2      normal  0.095187869  ...    0.0  5.626856\n",
      "3      normal  0.097042537  ...    0.0  2.309259\n",
      "4      normal   0.04302861  ...    0.0  5.302771\n",
      "\n",
      "[5 rows x 56908 columns]\n"
     ]
    }
   ],
   "source": [
    "df2.loc[0, 0] = 'SampleType'  #quick fix to column header\n",
    "print(df2.head())"
   ]
  },
  {
   "cell_type": "markdown",
   "id": "6d94a151-cf20-4eda-a1ab-f0ce9db10f57",
   "metadata": {},
   "source": [
    "Fix the other column headers by removing the index numbers from earlier."
   ]
  },
  {
   "cell_type": "code",
   "execution_count": 296,
   "id": "23ecbb0a-11a0-4642-9cf7-fe44117ca3c8",
   "metadata": {},
   "outputs": [
    {
     "name": "stdout",
     "output_type": "stream",
     "text": [
      "0 SampleType         A1BG  ... ZYXP1     ZZEF1\n",
      "1     normal  0.108403483  ...   0.0  4.552543\n",
      "2     normal  0.095187869  ...   0.0  5.626856\n",
      "3     normal  0.097042537  ...   0.0  2.309259\n",
      "4     normal   0.04302861  ...   0.0  5.302771\n",
      "5     normal  0.095016254  ...   0.0  5.399341\n",
      "\n",
      "[5 rows x 56908 columns]\n"
     ]
    }
   ],
   "source": [
    "df2.columns = df2.iloc[0]\n",
    "\n",
    "#remove first row from DataFrame\n",
    "df2 = df2[1:]\n",
    "\n",
    "#view updated DataFrame\n",
    "print(df2.head())"
   ]
  },
  {
   "cell_type": "code",
   "execution_count": 297,
   "id": "85e80a08-0a0c-4ec4-88f6-8838157ba0d8",
   "metadata": {},
   "outputs": [
    {
     "name": "stdout",
     "output_type": "stream",
     "text": [
      "0\n",
      "SampleType    object\n",
      "A1BG          object\n",
      "A1BG-AS1      object\n",
      "A1CF          object\n",
      "A2M           object\n",
      "               ...  \n",
      "ZYG11AP1      object\n",
      "ZYG11B        object\n",
      "ZYX           object\n",
      "ZYXP1         object\n",
      "ZZEF1         object\n",
      "Length: 56908, dtype: object\n"
     ]
    }
   ],
   "source": [
    "print(df2.dtypes)  "
   ]
  },
  {
   "cell_type": "markdown",
   "id": "8d348e79-ae0b-4ba0-9e3d-2004378d54aa",
   "metadata": {},
   "source": [
    "This is a problem: ALL but the 'sampletype' column must be changed into floats otherwise it will create problems down the line."
   ]
  },
  {
   "cell_type": "markdown",
   "id": "3193d048-9615-4bee-8f38-d91e8f698674",
   "metadata": {},
   "source": [
    "### Fix data type problems:"
   ]
  },
  {
   "cell_type": "code",
   "execution_count": 298,
   "id": "db9ae069-72ac-4ab4-9730-a266f7248e47",
   "metadata": {},
   "outputs": [
    {
     "name": "stdout",
     "output_type": "stream",
     "text": [
      "0   SampleType         A1BG  ... ZYXP1     ZZEF1\n",
      "1          0.0  0.108403483  ...   0.0  4.552543\n",
      "2          0.0  0.095187869  ...   0.0  5.626856\n",
      "3          0.0  0.097042537  ...   0.0  2.309259\n",
      "4          0.0   0.04302861  ...   0.0  5.302771\n",
      "5          0.0  0.095016254  ...   0.0  5.399341\n",
      "6          0.0  0.184691931  ...   0.0  5.538256\n",
      "7          0.0  0.049553602  ...   0.0  4.099797\n",
      "8          0.0  0.084045631  ...   0.0   4.20028\n",
      "9          0.0  0.055256044  ...   0.0  6.300417\n",
      "10         0.0   0.11879959  ...   0.0  6.482868\n",
      "11         0.0  0.233579579  ...   0.0  6.754923\n",
      "12         0.0  0.074725214  ...   0.0  5.522444\n",
      "13         0.0  0.088147982  ...   0.0  3.728021\n",
      "14         0.0  0.082127798  ...   0.0  5.299801\n",
      "15         0.0  0.092215664  ...   0.0  5.676879\n",
      "16         0.0  0.194815279  ...   0.0  5.329231\n",
      "17         0.0  0.123645772  ...   0.0  2.989586\n",
      "18         0.0  0.079961586  ...   0.0  4.132045\n",
      "19         0.0  0.050850568  ...   0.0  2.772167\n",
      "20         0.0   0.10145186  ...   0.0  3.921015\n",
      "21         0.0  0.056325847  ...   0.0  3.975357\n",
      "22         0.0  0.069485208  ...   0.0  4.661956\n",
      "23         0.0  0.098389744  ...   0.0  6.496785\n",
      "24         0.0  0.069580294  ...   0.0  6.857431\n",
      "25         0.0  0.089047163  ...   0.0  5.279625\n",
      "26         0.0  0.105123139  ...   0.0  3.367435\n",
      "27         0.0  0.035379142  ...   0.0  1.614139\n",
      "28         0.0  0.056345672  ...   0.0  4.809728\n",
      "29         0.0  0.187807071  ...   0.0  5.698429\n",
      "30         0.0  0.048419026  ...   0.0   6.71807\n",
      "31         0.0  0.061162426  ...   0.0  4.347742\n",
      "32         0.0  0.125191658  ...   0.0  5.475218\n",
      "33         0.0  0.128483501  ...   0.0  5.534719\n",
      "34         0.0  0.041030903  ...   0.0  6.483832\n",
      "35         0.0   0.03643404  ...   0.0  5.775499\n",
      "36         0.0   0.00793879  ...   0.0  3.218736\n",
      "37         0.0  0.056020589  ...   0.0  6.140181\n",
      "38         0.0  0.062016119  ...   0.0  5.223354\n",
      "39         0.0  0.091720761  ...   0.0   4.55107\n",
      "40         0.0  0.242161919  ...   0.0  3.864395\n",
      "41         0.0  0.084442009  ...   0.0  6.661527\n",
      "42         0.0  0.088420754  ...   0.0   5.45975\n",
      "43         0.0  0.084500176  ...   0.0  7.024706\n",
      "44         0.0  0.110153617  ...   0.0  4.859087\n",
      "45         0.0  0.055694389  ...   0.0  3.199447\n",
      "46         0.0  0.038845891  ...   0.0  5.104024\n",
      "47         0.0  0.074626375  ...   0.0  5.228844\n",
      "48         0.0  0.069899488  ...   0.0   5.07904\n",
      "49         0.0  0.071824847  ...   0.0  3.848969\n",
      "50         1.0  0.064198517  ...   0.0   1.50634\n",
      "\n",
      "[50 rows x 56908 columns]\n"
     ]
    }
   ],
   "source": [
    "df2['SampleType'] = df2['SampleType'].map({'normal': 0.0, 'tumor': 1.0}) #temporarily removing the string values\n",
    "pd.options.display.max_columns = 5\n",
    "print(df2.head(50))"
   ]
  },
  {
   "cell_type": "markdown",
   "id": "a45864ac-53f2-4b04-aab6-7c2a25bdfacc",
   "metadata": {},
   "source": [
    "Now convert the datatypes:"
   ]
  },
  {
   "cell_type": "code",
   "execution_count": 299,
   "id": "3b41dca1-22ec-4348-801f-70db09016208",
   "metadata": {},
   "outputs": [
    {
     "name": "stdout",
     "output_type": "stream",
     "text": [
      "0\n",
      "SampleType             Int64\n",
      "A1BG          string[python]\n",
      "A1BG-AS1      string[python]\n",
      "A1CF          string[python]\n",
      "A2M           string[python]\n",
      "                   ...      \n",
      "ZYG11AP1             Float64\n",
      "ZYG11B               Float64\n",
      "ZYX                  Float64\n",
      "ZYXP1                Float64\n",
      "ZZEF1                Float64\n",
      "Length: 56908, dtype: object\n"
     ]
    }
   ],
   "source": [
    "df3=df2.convert_dtypes()\n",
    "print(df3.dtypes)"
   ]
  },
  {
   "cell_type": "markdown",
   "id": "ca3de4c8-a583-4468-9203-2f7bfaea5558",
   "metadata": {},
   "source": [
    "Some of these didn't convert properly, so let's fix that."
   ]
  },
  {
   "cell_type": "code",
   "execution_count": 300,
   "id": "5ce5e7c8-84d5-4755-923c-421eeb2c2f76",
   "metadata": {},
   "outputs": [
    {
     "name": "stdout",
     "output_type": "stream",
     "text": [
      "0\n",
      "SampleType    float64\n",
      "A1BG          float64\n",
      "A1BG-AS1      float64\n",
      "A1CF          float64\n",
      "A2M           float64\n",
      "               ...   \n",
      "ZYG11AP1      float64\n",
      "ZYG11B        float64\n",
      "ZYX           float64\n",
      "ZYXP1         float64\n",
      "ZZEF1         float64\n",
      "Length: 56908, dtype: object\n"
     ]
    }
   ],
   "source": [
    "df4=df3.astype(float)\n",
    "print(df4.dtypes)"
   ]
  },
  {
   "cell_type": "markdown",
   "id": "81460419-a463-467c-9351-a6e8a41e3ef4",
   "metadata": {},
   "source": [
    "This completes the first round of cleanup; more may be done as we proceed."
   ]
  },
  {
   "cell_type": "markdown",
   "id": "3efac1ca-2b90-4410-b13b-02c91e8ae0fc",
   "metadata": {},
   "source": [
    "### Initial data exploration"
   ]
  },
  {
   "cell_type": "markdown",
   "id": "1af0d217-b62b-4fc0-ac67-91fd556d0ce4",
   "metadata": {},
   "source": [
    "The data should be separated into groups (normal and cancer) before running summary stats.  However--it's important to take a look at the data.  It was 'normalized', but how?  Expression data can vary by orders of magnitude, and it's conventional to take the log based 2 in order to arrive at data that's closer to normally distributed.  Did the owners of the dataset do this already or not?"
   ]
  },
  {
   "cell_type": "code",
   "execution_count": 301,
   "id": "cb41e011-732c-4c1b-91ba-e09f57961137",
   "metadata": {},
   "outputs": [
    {
     "data": {
      "image/png": "[encoded data removed]",
      "text/plain": [
       "<Figure size 640x480 with 1 Axes>"
      ]
     },
     "metadata": {},
     "output_type": "display_data"
    }
   ],
   "source": [
    "import seaborn as sns\n",
    "# Here I could also plot a histogram but these are nicer...!\n",
    "sns.kdeplot(data=df4, x='A1BG', hue=\"SampleType\", fill=True, common_norm=False, alpha=1)  #just picked a random gene for illustration\n",
    "plt.show()\n"
   ]
  },
  {
   "cell_type": "markdown",
   "id": "ed635179-5913-4e42-b1e4-1467b56eaaa5",
   "metadata": {},
   "source": [
    "Remember the kde will smooth things out, so we 'appear' to have negative values--but the overall variance doesn't *look* super large.  Let's be sure there aren't actual negative numbers in the data (or zeroes, which would be a clue they didn't do the log)."
   ]
  },
  {
   "cell_type": "code",
   "execution_count": 302,
   "id": "3aeaa51e-3855-4ffb-8822-6d48f936f1b6",
   "metadata": {},
   "outputs": [
    {
     "name": "stdout",
     "output_type": "stream",
     "text": [
      "0.0\n"
     ]
    }
   ],
   "source": [
    "print(df4['A1BG'].min())"
   ]
  },
  {
   "cell_type": "code",
   "execution_count": 303,
   "id": "ce1c9782-a302-4e6f-9a39-a9084fe798bc",
   "metadata": {},
   "outputs": [
    {
     "name": "stdout",
     "output_type": "stream",
     "text": [
      "252    0.000000\n",
      "500    0.000000\n",
      "432    0.004394\n",
      "440    0.005298\n",
      "447    0.007775\n",
      "         ...   \n",
      "386    0.425880\n",
      "316    0.443253\n",
      "215    0.477096\n",
      "360    0.505444\n",
      "424    0.518196\n",
      "Name: A1BG, Length: 551, dtype: float64\n"
     ]
    }
   ],
   "source": [
    "print(df4['A1BG'].sort_values())"
   ]
  },
  {
   "cell_type": "markdown",
   "id": "30a9f6ef-2973-4025-820d-998523275053",
   "metadata": {},
   "source": [
    "So it looks like we should take the log.  Let's try another gene."
   ]
  },
  {
   "cell_type": "code",
   "execution_count": 611,
   "id": "aeeb295c-e353-4cfb-90ae-921daf64eb74",
   "metadata": {},
   "outputs": [
    {
     "data": {
      "image/png": "[encoded data removed]",
      "text/plain": [
       "<Figure size 640x480 with 1 Axes>"
      ]
     },
     "metadata": {},
     "output_type": "display_data"
    }
   ],
   "source": [
    "sns.kdeplot(data=df4, x='AAGAB', hue=\"SampleType\", fill=True, common_norm=False, alpha=1)\n",
    "plt.show()"
   ]
  },
  {
   "cell_type": "markdown",
   "id": "0b9728ef-711e-47a5-b398-b47901725522",
   "metadata": {},
   "source": [
    "It may be important to know how many genes are expressed at null as we proceed with the analysis:"
   ]
  },
  {
   "cell_type": "code",
   "execution_count": 305,
   "id": "45cf0b06-02be-47f5-98b6-3bb59a413d12",
   "metadata": {},
   "outputs": [
    {
     "data": {
      "image/png": "[encoded data removed]",
      "text/plain": [
       "<Figure size 640x480 with 1 Axes>"
      ]
     },
     "metadata": {},
     "output_type": "display_data"
    }
   ],
   "source": [
    "sns.kdeplot(data=df4, x='GCG', hue=\"SampleType\", fill=True, common_norm=False, alpha=1)\n",
    "plt.show()"
   ]
  },
  {
   "cell_type": "markdown",
   "id": "4e079470-bf50-4659-a5d7-62437e1f881b",
   "metadata": {},
   "source": [
    "Here it appears we have almost no activity for normal, but broad activity in the tumor type.  We will have to address the matter of low or no gene activity in normal samples."
   ]
  },
  {
   "cell_type": "code",
   "execution_count": 306,
   "id": "76aec9a7-ae69-423a-bf24-765416634a2a",
   "metadata": {},
   "outputs": [
    {
     "name": "stdout",
     "output_type": "stream",
     "text": [
      "0   SampleType      A1BG  ...  ZYXP1     ZZEF1\n",
      "1          0.0  0.108403  ...    0.0  4.552543\n",
      "2          0.0  0.095188  ...    0.0  5.626856\n",
      "3          0.0  0.097043  ...    0.0  2.309259\n",
      "4          0.0  0.043029  ...    0.0  5.302771\n",
      "5          0.0  0.095016  ...    0.0  5.399341\n",
      "50         1.0  0.064199  ...    0.0  1.506340\n",
      "51         1.0  0.023191  ...    0.0  3.548103\n",
      "52         1.0  0.039013  ...    0.0  1.999125\n",
      "53         1.0  0.095058  ...    0.0  4.715684\n",
      "54         1.0  0.024949  ...    0.0  4.604486\n",
      "\n",
      "[10 rows x 56908 columns]\n"
     ]
    }
   ],
   "source": [
    "grouped_raw = df4.groupby('SampleType')  #Here we see, for instance, ZYXP1 is not being expressed for either sample type.\n",
    "print(grouped_raw.head()) "
   ]
  },
  {
   "cell_type": "markdown",
   "id": "e83d228d-e64d-4eb1-a5d0-8d379e9b3ad3",
   "metadata": {},
   "source": [
    "We should check on the total activity by sample type:  are there still genes with null expression?"
   ]
  },
  {
   "cell_type": "code",
   "execution_count": 307,
   "id": "731f6533-5797-4043-b1c7-922cfbc4cf2f",
   "metadata": {},
   "outputs": [
    {
     "name": "stdout",
     "output_type": "stream",
     "text": [
      "0                A1BG    A1BG-AS1  ...     ZYXP1        ZZEF1\n",
      "SampleType                         ...                       \n",
      "0.0          4.399017   46.155635  ...  0.000000   242.497597\n",
      "1.0         53.455919  415.002253  ...  1.730455  1570.635163\n",
      "\n",
      "[2 rows x 56907 columns]\n"
     ]
    }
   ],
   "source": [
    "gene_activity = grouped_raw.sum()\n",
    "pd.options.display.max_columns = 5\n",
    "print(gene_activity)"
   ]
  },
  {
   "cell_type": "markdown",
   "id": "917bbd85-609a-4473-aed3-e8d83c26f37b",
   "metadata": {},
   "source": [
    "Apparently so. "
   ]
  },
  {
   "cell_type": "markdown",
   "id": "3275a281-1d07-4ad7-8526-9f7d56dee905",
   "metadata": {},
   "source": [
    "## Normalization discussion and treatment of zeroes in the dataset"
   ]
  },
  {
   "cell_type": "markdown",
   "id": "34f5b1b7-6715-4a81-ba62-bbd05a81edea",
   "metadata": {},
   "source": [
    "It is clear now that a high number of genes are not active in normal cell types.  Because we want to perform further operations like log, we have to deal with this situation.\n",
    "\n",
    "There is an important decision to be made in terms of the approach:\n",
    "\n",
    "One approach would be to simply discard or ignore genes with zero expression in normal tissue.  There are many potential reasons for doing so; one, for instance, is that some of the genes active in cancerous samples may have nothing to do with cancer, but rather, reflect other biological processes that may not be active in healthy patients (e.g. inflammatory response or other immune-related modulations). In other words, we don't want to select genes that would give a positive result when they are active for other reasons entirely---and then get false positives, where normal patients with a respiratory infection get labeled as possibly having cancer!  (The issue of false positives and false negatives will be of enormous importance in evaluating the performance of the model).\n",
    "\n",
    "The second, more neutral approach is to add a tiny number, say, .000001 to all the expression data.  It won't do much at all to shift the mean and certainly doesn't harm standard deviation, and may be better than throwing away the zero data points so early on in the analysis.  (This is what most differential sequencing algorithms do anyway).\n",
    "\n",
    "For now, we will proceed with the second approach, but revisit the decision as needed."
   ]
  },
  {
   "cell_type": "code",
   "execution_count": 308,
   "id": "f2fff725-c7ca-4866-9728-ac58661700ba",
   "metadata": {},
   "outputs": [
    {
     "name": "stdout",
     "output_type": "stream",
     "text": [
      "0  SampleType      A1BG  ...      ZYXP1     ZZEF1\n",
      "1  -19.931569 -3.205504  ... -19.931569  2.186673\n",
      "2  -19.931569 -3.393063  ... -19.931569  2.492329\n",
      "3  -19.931569 -3.365224  ... -19.931569  1.207431\n",
      "4  -19.931569 -4.538526  ... -19.931569  2.406747\n",
      "5  -19.931569 -3.395667  ... -19.931569  2.432784\n",
      "\n",
      "[5 rows x 56908 columns]\n"
     ]
    }
   ],
   "source": [
    "df5 = df4.add(1e-6)\n",
    "logdf = np.log2(df5) \n",
    "print(logdf.head())"
   ]
  },
  {
   "cell_type": "code",
   "execution_count": 309,
   "id": "4beb6242-8114-4328-9ae8-eee0b759567b",
   "metadata": {},
   "outputs": [
    {
     "name": "stdout",
     "output_type": "stream",
     "text": [
      "0  SampleType      A1BG  ...      ZYXP1     ZZEF1\n",
      "1         0.0 -3.205504  ... -19.931569  2.186673\n",
      "2         0.0 -3.393063  ... -19.931569  2.492329\n",
      "3         0.0 -3.365224  ... -19.931569  1.207431\n",
      "4         0.0 -4.538526  ... -19.931569  2.406747\n",
      "5         0.0 -3.395667  ... -19.931569  2.432784\n",
      "\n",
      "[5 rows x 56908 columns]\n"
     ]
    }
   ],
   "source": [
    "logdf['SampleType']=df4['SampleType'] #here we made sure sample type was ok.\n",
    "print(logdf.head())"
   ]
  },
  {
   "cell_type": "markdown",
   "id": "53b9b2ce-6499-43fe-8758-ff3140df3696",
   "metadata": {},
   "source": [
    "Now to proceed with grouping and taking mean and std:"
   ]
  },
  {
   "cell_type": "code",
   "execution_count": 310,
   "id": "efdf1520-96ac-4c00-8483-776e8dadc416",
   "metadata": {},
   "outputs": [
    {
     "name": "stdout",
     "output_type": "stream",
     "text": [
      "0               A1BG  A1BG-AS1  ...      ZYXP1     ZZEF1\n",
      "SampleType                      ...                     \n",
      "0.0        -3.678356 -0.181150  ... -19.931569  2.251051\n",
      "1.0        -3.750148 -0.658819  ... -19.890288  1.508643\n",
      "\n",
      "[2 rows x 56907 columns]\n"
     ]
    }
   ],
   "source": [
    "grouped = logdf.groupby('SampleType')\n",
    "avg_exp = grouped.mean()\n",
    "pd.options.display.max_columns = 5\n",
    "print(avg_exp)"
   ]
  },
  {
   "cell_type": "code",
   "execution_count": 311,
   "id": "d0c43d04-e92f-46df-ae26-02ca3c5ee925",
   "metadata": {},
   "outputs": [
    {
     "name": "stdout",
     "output_type": "stream",
     "text": [
      "0               A1BG  A1BG-AS1  ...   ZYXP1     ZZEF1\n",
      "SampleType                      ...                  \n",
      "0.0         0.817152  0.534636  ...  0.0000  0.432589\n",
      "1.0         1.582747  1.106743  ...  0.9249  0.667813\n",
      "\n",
      "[2 rows x 56907 columns]\n"
     ]
    }
   ],
   "source": [
    "std_exp = grouped.std()\n",
    "pd.options.display.max_columns = 5\n",
    "print(std_exp)"
   ]
  },
  {
   "cell_type": "code",
   "execution_count": 312,
   "id": "13d6704f-04b4-4b85-9c24-12ba9eaff484",
   "metadata": {},
   "outputs": [
    {
     "name": "stdout",
     "output_type": "stream",
     "text": [
      "0               A1BG  A1BG-AS1  ...      ZYXP1     ZZEF1\n",
      "SampleType                      ...                     \n",
      "0.0        -3.678356 -0.181150  ... -19.931569  2.251051\n",
      "1.0        -3.750148 -0.658819  ... -19.890288  1.508643\n",
      "0.0         0.817152  0.534636  ...   0.000000  0.432589\n",
      "1.0         1.582747  1.106743  ...   0.924900  0.667813\n",
      "\n",
      "[4 rows x 56907 columns]\n"
     ]
    }
   ],
   "source": [
    "exp_stats = pd.concat([avg_exp, std_exp], axis=0)   #there might be more elegant ways to do this, but this worked easily\n",
    "pd.options.display.max_columns = 5\n",
    "print(exp_stats)"
   ]
  },
  {
   "cell_type": "code",
   "execution_count": 313,
   "id": "314672dd-1524-4518-bb11-260d2fb0436b",
   "metadata": {},
   "outputs": [
    {
     "name": "stdout",
     "output_type": "stream",
     "text": [
      "SampleType        0.0        1.0       0.0       1.0\n",
      "0                                                   \n",
      "A1BG        -3.678356  -3.750148  0.817152  1.582747\n",
      "A1BG-AS1    -0.181150  -0.658819  0.534636  1.106743\n",
      "A1CF       -12.826603 -11.492063  5.785683  5.886855\n",
      "A2M          9.506983   5.746430  0.559679  1.281895\n",
      "A2M-AS1     -0.314353  -0.910212  0.416750  0.937864\n"
     ]
    }
   ],
   "source": [
    "#Now I'd like to transpose and then compare and sort based on std\n",
    "finaldf = exp_stats.T\n",
    "print(finaldf.head())"
   ]
  },
  {
   "cell_type": "code",
   "execution_count": 314,
   "id": "7e4f7d91-7f93-4afc-b4b4-83a175148c68",
   "metadata": {},
   "outputs": [
    {
     "data": {
      "text/plain": [
       "(56907, 4)"
      ]
     },
     "execution_count": 314,
     "metadata": {},
     "output_type": "execute_result"
    }
   ],
   "source": [
    "finaldf.shape  #just checking"
   ]
  },
  {
   "cell_type": "code",
   "execution_count": 315,
   "id": "1a01f9c5-95e6-4f2b-959f-5d09810e8abf",
   "metadata": {},
   "outputs": [
    {
     "name": "stdout",
     "output_type": "stream",
     "text": [
      "          Norm_mean  Tumor_mean  Norm_std  Tumor_std\n",
      "0                                                   \n",
      "A1BG      -3.678356   -3.750148  0.817152   1.582747\n",
      "A1BG-AS1  -0.181150   -0.658819  0.534636   1.106743\n",
      "A1CF     -12.826603  -11.492063  5.785683   5.886855\n",
      "A2M        9.506983    5.746430  0.559679   1.281895\n",
      "A2M-AS1   -0.314353   -0.910212  0.416750   0.937864\n"
     ]
    }
   ],
   "source": [
    "#Let's rename columns now...\n",
    "new_col_names = ['Norm_mean', 'Tumor_mean', 'Norm_std','Tumor_std']\n",
    "finaldf.columns = new_col_names\n",
    "print(finaldf.head())"
   ]
  },
  {
   "cell_type": "code",
   "execution_count": 316,
   "id": "1264a8b4-53b3-401f-ba7c-75e09a336235",
   "metadata": {},
   "outputs": [
    {
     "name": "stdout",
     "output_type": "stream",
     "text": [
      "          0  Norm_mean  Tumor_mean  Norm_std  Tumor_std\n",
      "0      A1BG  -3.678356   -3.750148  0.817152   1.582747\n",
      "1  A1BG-AS1  -0.181150   -0.658819  0.534636   1.106743\n",
      "2      A1CF -12.826603  -11.492063  5.785683   5.886855\n",
      "3       A2M   9.506983    5.746430  0.559679   1.281895\n",
      "4   A2M-AS1  -0.314353   -0.910212  0.416750   0.937864\n"
     ]
    }
   ],
   "source": [
    "#and reset the index:\n",
    "finaldf=finaldf.reset_index()\n",
    "print(finaldf.head())"
   ]
  },
  {
   "cell_type": "code",
   "execution_count": 317,
   "id": "8b50ed36-9cf3-47ea-a6db-b503d35524eb",
   "metadata": {},
   "outputs": [
    {
     "name": "stdout",
     "output_type": "stream",
     "text": [
      "       NAME  Norm_mean  Tumor_mean  Norm_std  Tumor_std\n",
      "0      A1BG  -3.678356   -3.750148  0.817152   1.582747\n",
      "1  A1BG-AS1  -0.181150   -0.658819  0.534636   1.106743\n",
      "2      A1CF -12.826603  -11.492063  5.785683   5.886855\n",
      "3       A2M   9.506983    5.746430  0.559679   1.281895\n",
      "4   A2M-AS1  -0.314353   -0.910212  0.416750   0.937864\n"
     ]
    }
   ],
   "source": [
    "#now, fix that new first column and call it NAME\n",
    "new_col_names = ['NAME', 'Norm_mean', 'Tumor_mean', 'Norm_std','Tumor_std']\n",
    "finaldf.columns=new_col_names\n",
    "print(finaldf.head())"
   ]
  },
  {
   "cell_type": "markdown",
   "id": "d5cf1382-1093-461e-a2e2-0fab691a6355",
   "metadata": {},
   "source": [
    "### Summary:  we now have two new dataframes that will be useful as we proceed.\n",
    "1) finaldf:  this dataframe contains the mean and standard deviation for each gene, grouped by sample type.\n",
    "2) logdf:  this dataframe contains the log of expression values, for which 1e-6 was added to avoid zero mean values\n",
    "\n",
    "All genes are included in these two dataframes."
   ]
  },
  {
   "cell_type": "markdown",
   "id": "fbb5e9ac-2248-455d-8868-0a3b7fcb76af",
   "metadata": {},
   "source": [
    "### Calculating ratios, filtering and sorting"
   ]
  },
  {
   "cell_type": "markdown",
   "id": "f2ef6802-d340-4401-90fc-dd1ea1ed39bf",
   "metadata": {},
   "source": [
    "At this point I'd like to take the ratio of STDs (tumor/normal) and get a sorted list of genes: per the literature, we expect to see a marked difference in standard deviation between normal and cancerous genes.  What are we seeing?  (Incidentally, we can't use these ratios to select genes or to incorporate into the model--this is being done as a sanity check on our hypotheses above)."
   ]
  },
  {
   "cell_type": "code",
   "execution_count": 318,
   "id": "09057e77-2c0a-4e8c-9b87-7456f6f0cbab",
   "metadata": {},
   "outputs": [],
   "source": [
    "finaldf['stdratio'] = finaldf['Tumor_std']/finaldf['Norm_std']"
   ]
  },
  {
   "cell_type": "code",
   "execution_count": 319,
   "id": "52d7c002-9ed2-441d-a6d9-baf4b0b318ff",
   "metadata": {},
   "outputs": [
    {
     "name": "stdout",
     "output_type": "stream",
     "text": [
      "           NAME  Norm_mean  ...  Tumor_std  stdratio\n",
      "0          A1BG  -3.678356  ...   1.582747  1.936906\n",
      "1      A1BG-AS1  -0.181150  ...   1.106743  2.070087\n",
      "2          A1CF -12.826603  ...   5.886855  1.017487\n",
      "3           A2M   9.506983  ...   1.281895  2.290412\n",
      "4       A2M-AS1  -0.314353  ...   0.937864  2.250421\n",
      "5         A2ML1  -5.701023  ...   3.281357  1.018108\n",
      "6     A2ML1-AS1 -17.154222  ...   7.158587  1.208757\n",
      "7     A2ML1-AS2 -18.986202  ...   4.942538  1.320596\n",
      "8         A2MP1  -3.503619  ...   3.405242  3.940431\n",
      "9       A3GALT2  -5.213303  ...   7.039031  2.155943\n",
      "10       A4GALT   2.903878  ...   1.354900  2.298174\n",
      "11        A4GNT  -4.067244  ...   6.174987  1.750156\n",
      "12         AAAS   2.712468  ...   0.456013  1.796454\n",
      "13         AACS   0.744734  ...   0.657045  2.544588\n",
      "14       AACSP1  -5.748758  ...   5.869836  1.493969\n",
      "15        AADAC   2.132542  ...   2.821134  2.182188\n",
      "16      AADACL2  -9.618874  ...   5.941547  0.885836\n",
      "17  AADACL2-AS1  -6.144172  ...   5.981093  0.829129\n",
      "18      AADACL3 -19.452675  ...   5.224968  2.227574\n",
      "19      AADACL4 -14.395904  ...   5.370437  0.795997\n",
      "\n",
      "[20 rows x 6 columns]\n"
     ]
    }
   ],
   "source": [
    "print(finaldf.head(20))"
   ]
  },
  {
   "cell_type": "markdown",
   "id": "4d80b9ad-4eae-4522-b694-940cc0ab1d29",
   "metadata": {},
   "source": [
    "## Biological reasons for narrowing down our feature search"
   ]
  },
  {
   "cell_type": "code",
   "execution_count": 320,
   "id": "053a6c9c-036e-492e-8f1a-5278e8d30886",
   "metadata": {},
   "outputs": [
    {
     "data": {
      "text/html": [
       "<div>\n",
       "<style scoped>\n",
       "    .dataframe tbody tr th:only-of-type {\n",
       "        vertical-align: middle;\n",
       "    }\n",
       "\n",
       "    .dataframe tbody tr th {\n",
       "        vertical-align: top;\n",
       "    }\n",
       "\n",
       "    .dataframe thead th {\n",
       "        text-align: right;\n",
       "    }\n",
       "</style>\n",
       "<table border=\"1\" class=\"dataframe\">\n",
       "  <thead>\n",
       "    <tr style=\"text-align: right;\">\n",
       "      <th></th>\n",
       "      <th>NAME</th>\n",
       "      <th>Norm_mean</th>\n",
       "      <th>...</th>\n",
       "      <th>Tumor_std</th>\n",
       "      <th>stdratio</th>\n",
       "    </tr>\n",
       "  </thead>\n",
       "  <tbody>\n",
       "    <tr>\n",
       "      <th>13246</th>\n",
       "      <td>AL031584.1</td>\n",
       "      <td>-19.931569</td>\n",
       "      <td>...</td>\n",
       "      <td>2.239269</td>\n",
       "      <td>inf</td>\n",
       "    </tr>\n",
       "    <tr>\n",
       "      <th>44269</th>\n",
       "      <td>RN7SKP267</td>\n",
       "      <td>-19.931569</td>\n",
       "      <td>...</td>\n",
       "      <td>3.898363</td>\n",
       "      <td>inf</td>\n",
       "    </tr>\n",
       "    <tr>\n",
       "      <th>44282</th>\n",
       "      <td>RN7SKP28</td>\n",
       "      <td>-19.931569</td>\n",
       "      <td>...</td>\n",
       "      <td>4.132280</td>\n",
       "      <td>inf</td>\n",
       "    </tr>\n",
       "    <tr>\n",
       "      <th>44281</th>\n",
       "      <td>RN7SKP279</td>\n",
       "      <td>-19.931569</td>\n",
       "      <td>...</td>\n",
       "      <td>1.514959</td>\n",
       "      <td>inf</td>\n",
       "    </tr>\n",
       "    <tr>\n",
       "      <th>44280</th>\n",
       "      <td>RN7SKP278</td>\n",
       "      <td>-19.931569</td>\n",
       "      <td>...</td>\n",
       "      <td>0.823488</td>\n",
       "      <td>inf</td>\n",
       "    </tr>\n",
       "    <tr>\n",
       "      <th>44279</th>\n",
       "      <td>RN7SKP277</td>\n",
       "      <td>-19.931569</td>\n",
       "      <td>...</td>\n",
       "      <td>4.126881</td>\n",
       "      <td>inf</td>\n",
       "    </tr>\n",
       "    <tr>\n",
       "      <th>44273</th>\n",
       "      <td>RN7SKP270</td>\n",
       "      <td>-19.931569</td>\n",
       "      <td>...</td>\n",
       "      <td>1.053577</td>\n",
       "      <td>inf</td>\n",
       "    </tr>\n",
       "    <tr>\n",
       "      <th>9618</th>\n",
       "      <td>AC105081.1</td>\n",
       "      <td>-19.931569</td>\n",
       "      <td>...</td>\n",
       "      <td>3.503421</td>\n",
       "      <td>inf</td>\n",
       "    </tr>\n",
       "    <tr>\n",
       "      <th>44272</th>\n",
       "      <td>RN7SKP27</td>\n",
       "      <td>-19.931569</td>\n",
       "      <td>...</td>\n",
       "      <td>1.523444</td>\n",
       "      <td>inf</td>\n",
       "    </tr>\n",
       "    <tr>\n",
       "      <th>44268</th>\n",
       "      <td>RN7SKP266</td>\n",
       "      <td>-19.931569</td>\n",
       "      <td>...</td>\n",
       "      <td>3.803292</td>\n",
       "      <td>inf</td>\n",
       "    </tr>\n",
       "    <tr>\n",
       "      <th>44161</th>\n",
       "      <td>RN7SKP169</td>\n",
       "      <td>-19.931569</td>\n",
       "      <td>...</td>\n",
       "      <td>4.293402</td>\n",
       "      <td>inf</td>\n",
       "    </tr>\n",
       "    <tr>\n",
       "      <th>44264</th>\n",
       "      <td>RN7SKP262</td>\n",
       "      <td>-19.931569</td>\n",
       "      <td>...</td>\n",
       "      <td>1.925818</td>\n",
       "      <td>inf</td>\n",
       "    </tr>\n",
       "    <tr>\n",
       "      <th>44262</th>\n",
       "      <td>RN7SKP260</td>\n",
       "      <td>-19.931569</td>\n",
       "      <td>...</td>\n",
       "      <td>1.656918</td>\n",
       "      <td>inf</td>\n",
       "    </tr>\n",
       "    <tr>\n",
       "      <th>44261</th>\n",
       "      <td>RN7SKP260</td>\n",
       "      <td>-19.931569</td>\n",
       "      <td>...</td>\n",
       "      <td>2.208452</td>\n",
       "      <td>inf</td>\n",
       "    </tr>\n",
       "    <tr>\n",
       "      <th>44256</th>\n",
       "      <td>RN7SKP256</td>\n",
       "      <td>-19.931569</td>\n",
       "      <td>...</td>\n",
       "      <td>1.470746</td>\n",
       "      <td>inf</td>\n",
       "    </tr>\n",
       "  </tbody>\n",
       "</table>\n",
       "<p>15 rows × 6 columns</p>\n",
       "</div>"
      ],
      "text/plain": [
       "             NAME  Norm_mean  ...  Tumor_std  stdratio\n",
       "13246  AL031584.1 -19.931569  ...   2.239269       inf\n",
       "44269   RN7SKP267 -19.931569  ...   3.898363       inf\n",
       "44282    RN7SKP28 -19.931569  ...   4.132280       inf\n",
       "44281   RN7SKP279 -19.931569  ...   1.514959       inf\n",
       "44280   RN7SKP278 -19.931569  ...   0.823488       inf\n",
       "44279   RN7SKP277 -19.931569  ...   4.126881       inf\n",
       "44273   RN7SKP270 -19.931569  ...   1.053577       inf\n",
       "9618   AC105081.1 -19.931569  ...   3.503421       inf\n",
       "44272    RN7SKP27 -19.931569  ...   1.523444       inf\n",
       "44268   RN7SKP266 -19.931569  ...   3.803292       inf\n",
       "44161   RN7SKP169 -19.931569  ...   4.293402       inf\n",
       "44264   RN7SKP262 -19.931569  ...   1.925818       inf\n",
       "44262   RN7SKP260 -19.931569  ...   1.656918       inf\n",
       "44261   RN7SKP260 -19.931569  ...   2.208452       inf\n",
       "44256   RN7SKP256 -19.931569  ...   1.470746       inf\n",
       "\n",
       "[15 rows x 6 columns]"
      ]
     },
     "execution_count": 320,
     "metadata": {},
     "output_type": "execute_result"
    }
   ],
   "source": [
    "finaldf.sort_values(by=['stdratio'], ascending=False).nlargest(15,'stdratio')"
   ]
  },
  {
   "cell_type": "markdown",
   "id": "3b87fcd3-547d-4c4f-b9a5-766f1fc560f8",
   "metadata": {},
   "source": [
    "We will fix the 'inf' values seen in this table in the next few steps."
   ]
  },
  {
   "cell_type": "markdown",
   "id": "62498d99-5c96-401c-b5e9-bae93f866244",
   "metadata": {},
   "source": [
    "As noted earlier some genes aren't being expressed in normal, healthy patient samples.\n",
    "\n",
    "That said, many sequences in this array database are not genes, per se.  For instance, some of the above (anything with MIR as a prefix) are micro-rnas, which don't code for proteins directly, but are involved in regulating gene expression.  I am inclined to remove these from consideration.  Others, like RNArSP332, are pseudogenes (a nonfunctional segment that looks like a functional gene but can't code for a protein).  Still others, like RF00322, are small nucleolar RNAs and are involved in regulation of transcription factors.  Ultimately, rather than analyze all these, the goal will be to eliminate all but the genes coding for proteins.  In Section 2 we will further filter candidate genes based on annotations of their function (where known or predicted)."
   ]
  },
  {
   "cell_type": "code",
   "execution_count": 321,
   "id": "df4eefc1-b0ed-4d7d-95cd-4c9776266249",
   "metadata": {},
   "outputs": [
    {
     "data": {
      "text/html": [
       "<div>\n",
       "<style scoped>\n",
       "    .dataframe tbody tr th:only-of-type {\n",
       "        vertical-align: middle;\n",
       "    }\n",
       "\n",
       "    .dataframe tbody tr th {\n",
       "        vertical-align: top;\n",
       "    }\n",
       "\n",
       "    .dataframe thead th {\n",
       "        text-align: right;\n",
       "    }\n",
       "</style>\n",
       "<table border=\"1\" class=\"dataframe\">\n",
       "  <thead>\n",
       "    <tr style=\"text-align: right;\">\n",
       "      <th></th>\n",
       "      <th>NAME</th>\n",
       "      <th>Norm_mean</th>\n",
       "      <th>...</th>\n",
       "      <th>Tumor_std</th>\n",
       "      <th>stdratio</th>\n",
       "    </tr>\n",
       "  </thead>\n",
       "  <tbody>\n",
       "    <tr>\n",
       "      <th>39821</th>\n",
       "      <td>PGM5P4</td>\n",
       "      <td>0.501840</td>\n",
       "      <td>...</td>\n",
       "      <td>7.792972</td>\n",
       "      <td>14.249742</td>\n",
       "    </tr>\n",
       "    <tr>\n",
       "      <th>46064</th>\n",
       "      <td>RNU5B-4P</td>\n",
       "      <td>0.449240</td>\n",
       "      <td>...</td>\n",
       "      <td>8.969577</td>\n",
       "      <td>12.597440</td>\n",
       "    </tr>\n",
       "    <tr>\n",
       "      <th>14319</th>\n",
       "      <td>AL136452.1</td>\n",
       "      <td>1.328496</td>\n",
       "      <td>...</td>\n",
       "      <td>8.283594</td>\n",
       "      <td>12.526865</td>\n",
       "    </tr>\n",
       "    <tr>\n",
       "      <th>39820</th>\n",
       "      <td>PGM5P3-AS1</td>\n",
       "      <td>-2.623688</td>\n",
       "      <td>...</td>\n",
       "      <td>7.273343</td>\n",
       "      <td>12.189945</td>\n",
       "    </tr>\n",
       "    <tr>\n",
       "      <th>39822</th>\n",
       "      <td>PGM5P4-AS1</td>\n",
       "      <td>-2.306742</td>\n",
       "      <td>...</td>\n",
       "      <td>7.446278</td>\n",
       "      <td>11.753980</td>\n",
       "    </tr>\n",
       "    <tr>\n",
       "      <th>13008</th>\n",
       "      <td>AL008733.1</td>\n",
       "      <td>-0.548366</td>\n",
       "      <td>...</td>\n",
       "      <td>8.332124</td>\n",
       "      <td>11.667950</td>\n",
       "    </tr>\n",
       "    <tr>\n",
       "      <th>27111</th>\n",
       "      <td>GLOD5</td>\n",
       "      <td>0.021836</td>\n",
       "      <td>...</td>\n",
       "      <td>5.129703</td>\n",
       "      <td>11.483851</td>\n",
       "    </tr>\n",
       "    <tr>\n",
       "      <th>27080</th>\n",
       "      <td>GKN2</td>\n",
       "      <td>4.736892</td>\n",
       "      <td>...</td>\n",
       "      <td>6.978927</td>\n",
       "      <td>11.264977</td>\n",
       "    </tr>\n",
       "    <tr>\n",
       "      <th>12715</th>\n",
       "      <td>AF186192.1</td>\n",
       "      <td>-1.183763</td>\n",
       "      <td>...</td>\n",
       "      <td>7.107154</td>\n",
       "      <td>11.247891</td>\n",
       "    </tr>\n",
       "    <tr>\n",
       "      <th>13731</th>\n",
       "      <td>AL109741.3</td>\n",
       "      <td>-0.741398</td>\n",
       "      <td>...</td>\n",
       "      <td>7.162730</td>\n",
       "      <td>11.117462</td>\n",
       "    </tr>\n",
       "    <tr>\n",
       "      <th>1065</th>\n",
       "      <td>AC005884.1</td>\n",
       "      <td>-0.144821</td>\n",
       "      <td>...</td>\n",
       "      <td>8.061596</td>\n",
       "      <td>11.079987</td>\n",
       "    </tr>\n",
       "    <tr>\n",
       "      <th>49748</th>\n",
       "      <td>SFTA3</td>\n",
       "      <td>5.097280</td>\n",
       "      <td>...</td>\n",
       "      <td>5.227402</td>\n",
       "      <td>10.856845</td>\n",
       "    </tr>\n",
       "    <tr>\n",
       "      <th>8706</th>\n",
       "      <td>AC096531.2</td>\n",
       "      <td>0.147007</td>\n",
       "      <td>...</td>\n",
       "      <td>6.958371</td>\n",
       "      <td>10.801590</td>\n",
       "    </tr>\n",
       "    <tr>\n",
       "      <th>34093</th>\n",
       "      <td>MGAT3-AS1</td>\n",
       "      <td>-0.951417</td>\n",
       "      <td>...</td>\n",
       "      <td>8.164390</td>\n",
       "      <td>10.692957</td>\n",
       "    </tr>\n",
       "    <tr>\n",
       "      <th>14779</th>\n",
       "      <td>AL158055.1</td>\n",
       "      <td>-2.821824</td>\n",
       "      <td>...</td>\n",
       "      <td>7.737949</td>\n",
       "      <td>10.690223</td>\n",
       "    </tr>\n",
       "    <tr>\n",
       "      <th>8196</th>\n",
       "      <td>AC092569.1</td>\n",
       "      <td>-1.119437</td>\n",
       "      <td>...</td>\n",
       "      <td>8.053268</td>\n",
       "      <td>10.679629</td>\n",
       "    </tr>\n",
       "    <tr>\n",
       "      <th>5667</th>\n",
       "      <td>AC027288.1</td>\n",
       "      <td>0.391026</td>\n",
       "      <td>...</td>\n",
       "      <td>6.282366</td>\n",
       "      <td>10.584467</td>\n",
       "    </tr>\n",
       "    <tr>\n",
       "      <th>10576</th>\n",
       "      <td>AC116312.1</td>\n",
       "      <td>-1.011872</td>\n",
       "      <td>...</td>\n",
       "      <td>8.396823</td>\n",
       "      <td>10.535489</td>\n",
       "    </tr>\n",
       "    <tr>\n",
       "      <th>30670</th>\n",
       "      <td>KRT27</td>\n",
       "      <td>-1.868850</td>\n",
       "      <td>...</td>\n",
       "      <td>7.086526</td>\n",
       "      <td>10.468309</td>\n",
       "    </tr>\n",
       "    <tr>\n",
       "      <th>32603</th>\n",
       "      <td>LINC02104</td>\n",
       "      <td>-0.799729</td>\n",
       "      <td>...</td>\n",
       "      <td>6.380297</td>\n",
       "      <td>10.436955</td>\n",
       "    </tr>\n",
       "    <tr>\n",
       "      <th>14061</th>\n",
       "      <td>AL132857.1</td>\n",
       "      <td>-1.380650</td>\n",
       "      <td>...</td>\n",
       "      <td>7.638083</td>\n",
       "      <td>10.395375</td>\n",
       "    </tr>\n",
       "    <tr>\n",
       "      <th>10904</th>\n",
       "      <td>AC124854.1</td>\n",
       "      <td>-2.368592</td>\n",
       "      <td>...</td>\n",
       "      <td>8.068921</td>\n",
       "      <td>10.329760</td>\n",
       "    </tr>\n",
       "    <tr>\n",
       "      <th>31241</th>\n",
       "      <td>LINC00261</td>\n",
       "      <td>2.081175</td>\n",
       "      <td>...</td>\n",
       "      <td>5.534742</td>\n",
       "      <td>10.249661</td>\n",
       "    </tr>\n",
       "    <tr>\n",
       "      <th>48711</th>\n",
       "      <td>RPS29P11</td>\n",
       "      <td>3.445407</td>\n",
       "      <td>...</td>\n",
       "      <td>7.888660</td>\n",
       "      <td>10.233647</td>\n",
       "    </tr>\n",
       "    <tr>\n",
       "      <th>20383</th>\n",
       "      <td>BX842568.3</td>\n",
       "      <td>-3.040474</td>\n",
       "      <td>...</td>\n",
       "      <td>8.082240</td>\n",
       "      <td>10.106602</td>\n",
       "    </tr>\n",
       "    <tr>\n",
       "      <th>15306</th>\n",
       "      <td>AL354714.3</td>\n",
       "      <td>-0.389296</td>\n",
       "      <td>...</td>\n",
       "      <td>8.071914</td>\n",
       "      <td>10.079219</td>\n",
       "    </tr>\n",
       "    <tr>\n",
       "      <th>36754</th>\n",
       "      <td>MYBPHL</td>\n",
       "      <td>0.181291</td>\n",
       "      <td>...</td>\n",
       "      <td>6.172928</td>\n",
       "      <td>10.055557</td>\n",
       "    </tr>\n",
       "    <tr>\n",
       "      <th>31214</th>\n",
       "      <td>LINC00163</td>\n",
       "      <td>-1.632262</td>\n",
       "      <td>...</td>\n",
       "      <td>6.972058</td>\n",
       "      <td>9.944216</td>\n",
       "    </tr>\n",
       "    <tr>\n",
       "      <th>32139</th>\n",
       "      <td>LINC01625</td>\n",
       "      <td>-3.541576</td>\n",
       "      <td>...</td>\n",
       "      <td>7.298003</td>\n",
       "      <td>9.880353</td>\n",
       "    </tr>\n",
       "    <tr>\n",
       "      <th>13493</th>\n",
       "      <td>AL049634.1</td>\n",
       "      <td>-2.615583</td>\n",
       "      <td>...</td>\n",
       "      <td>6.687573</td>\n",
       "      <td>9.862954</td>\n",
       "    </tr>\n",
       "    <tr>\n",
       "      <th>32128</th>\n",
       "      <td>LINC01612</td>\n",
       "      <td>0.958156</td>\n",
       "      <td>...</td>\n",
       "      <td>8.436354</td>\n",
       "      <td>9.862219</td>\n",
       "    </tr>\n",
       "    <tr>\n",
       "      <th>3602</th>\n",
       "      <td>AC012511.1</td>\n",
       "      <td>-0.294518</td>\n",
       "      <td>...</td>\n",
       "      <td>5.841859</td>\n",
       "      <td>9.856618</td>\n",
       "    </tr>\n",
       "    <tr>\n",
       "      <th>37484</th>\n",
       "      <td>NKX2-1-AS1</td>\n",
       "      <td>1.169382</td>\n",
       "      <td>...</td>\n",
       "      <td>5.849730</td>\n",
       "      <td>9.813690</td>\n",
       "    </tr>\n",
       "    <tr>\n",
       "      <th>25391</th>\n",
       "      <td>F11</td>\n",
       "      <td>1.177153</td>\n",
       "      <td>...</td>\n",
       "      <td>6.506020</td>\n",
       "      <td>9.786670</td>\n",
       "    </tr>\n",
       "    <tr>\n",
       "      <th>249</th>\n",
       "      <td>AC002451.1</td>\n",
       "      <td>-1.998062</td>\n",
       "      <td>...</td>\n",
       "      <td>7.353941</td>\n",
       "      <td>9.645676</td>\n",
       "    </tr>\n",
       "    <tr>\n",
       "      <th>39818</th>\n",
       "      <td>PGM5-AS1</td>\n",
       "      <td>-1.048309</td>\n",
       "      <td>...</td>\n",
       "      <td>7.922052</td>\n",
       "      <td>9.638036</td>\n",
       "    </tr>\n",
       "    <tr>\n",
       "      <th>45637</th>\n",
       "      <td>RNF126P1</td>\n",
       "      <td>-2.478798</td>\n",
       "      <td>...</td>\n",
       "      <td>6.571011</td>\n",
       "      <td>9.598444</td>\n",
       "    </tr>\n",
       "    <tr>\n",
       "      <th>38338</th>\n",
       "      <td>OR1L8</td>\n",
       "      <td>-2.639527</td>\n",
       "      <td>...</td>\n",
       "      <td>7.184983</td>\n",
       "      <td>9.568890</td>\n",
       "    </tr>\n",
       "    <tr>\n",
       "      <th>3042</th>\n",
       "      <td>AC010890.1</td>\n",
       "      <td>-1.916292</td>\n",
       "      <td>...</td>\n",
       "      <td>6.671754</td>\n",
       "      <td>9.487519</td>\n",
       "    </tr>\n",
       "    <tr>\n",
       "      <th>8278</th>\n",
       "      <td>AC092691.1</td>\n",
       "      <td>0.123127</td>\n",
       "      <td>...</td>\n",
       "      <td>8.240222</td>\n",
       "      <td>9.454354</td>\n",
       "    </tr>\n",
       "    <tr>\n",
       "      <th>2245</th>\n",
       "      <td>AC008897.3</td>\n",
       "      <td>-1.001924</td>\n",
       "      <td>...</td>\n",
       "      <td>4.981883</td>\n",
       "      <td>9.436555</td>\n",
       "    </tr>\n",
       "    <tr>\n",
       "      <th>34112</th>\n",
       "      <td>MIA2</td>\n",
       "      <td>-3.585152</td>\n",
       "      <td>...</td>\n",
       "      <td>6.917209</td>\n",
       "      <td>9.415453</td>\n",
       "    </tr>\n",
       "    <tr>\n",
       "      <th>32977</th>\n",
       "      <td>LINC02489</td>\n",
       "      <td>1.982037</td>\n",
       "      <td>...</td>\n",
       "      <td>8.363608</td>\n",
       "      <td>9.295270</td>\n",
       "    </tr>\n",
       "    <tr>\n",
       "      <th>15437</th>\n",
       "      <td>AL355355.1</td>\n",
       "      <td>-2.763505</td>\n",
       "      <td>...</td>\n",
       "      <td>7.259975</td>\n",
       "      <td>9.251649</td>\n",
       "    </tr>\n",
       "    <tr>\n",
       "      <th>5705</th>\n",
       "      <td>AC027449.1</td>\n",
       "      <td>-1.801585</td>\n",
       "      <td>...</td>\n",
       "      <td>8.052539</td>\n",
       "      <td>9.240696</td>\n",
       "    </tr>\n",
       "    <tr>\n",
       "      <th>28259</th>\n",
       "      <td>HLX-AS1</td>\n",
       "      <td>-1.620793</td>\n",
       "      <td>...</td>\n",
       "      <td>7.853277</td>\n",
       "      <td>9.237601</td>\n",
       "    </tr>\n",
       "    <tr>\n",
       "      <th>3022</th>\n",
       "      <td>AC010776.2</td>\n",
       "      <td>-0.468854</td>\n",
       "      <td>...</td>\n",
       "      <td>7.782350</td>\n",
       "      <td>9.234190</td>\n",
       "    </tr>\n",
       "    <tr>\n",
       "      <th>31716</th>\n",
       "      <td>LINC01081</td>\n",
       "      <td>-1.710544</td>\n",
       "      <td>...</td>\n",
       "      <td>8.659409</td>\n",
       "      <td>9.213477</td>\n",
       "    </tr>\n",
       "    <tr>\n",
       "      <th>8609</th>\n",
       "      <td>AC093772.1</td>\n",
       "      <td>-1.248533</td>\n",
       "      <td>...</td>\n",
       "      <td>7.591667</td>\n",
       "      <td>9.206737</td>\n",
       "    </tr>\n",
       "    <tr>\n",
       "      <th>41940</th>\n",
       "      <td>RBMXL2</td>\n",
       "      <td>-5.246332</td>\n",
       "      <td>...</td>\n",
       "      <td>7.048846</td>\n",
       "      <td>9.198104</td>\n",
       "    </tr>\n",
       "  </tbody>\n",
       "</table>\n",
       "<p>50 rows × 6 columns</p>\n",
       "</div>"
      ],
      "text/plain": [
       "             NAME  Norm_mean  ...  Tumor_std   stdratio\n",
       "39821      PGM5P4   0.501840  ...   7.792972  14.249742\n",
       "46064    RNU5B-4P   0.449240  ...   8.969577  12.597440\n",
       "14319  AL136452.1   1.328496  ...   8.283594  12.526865\n",
       "39820  PGM5P3-AS1  -2.623688  ...   7.273343  12.189945\n",
       "39822  PGM5P4-AS1  -2.306742  ...   7.446278  11.753980\n",
       "13008  AL008733.1  -0.548366  ...   8.332124  11.667950\n",
       "27111       GLOD5   0.021836  ...   5.129703  11.483851\n",
       "27080        GKN2   4.736892  ...   6.978927  11.264977\n",
       "12715  AF186192.1  -1.183763  ...   7.107154  11.247891\n",
       "13731  AL109741.3  -0.741398  ...   7.162730  11.117462\n",
       "1065   AC005884.1  -0.144821  ...   8.061596  11.079987\n",
       "49748       SFTA3   5.097280  ...   5.227402  10.856845\n",
       "8706   AC096531.2   0.147007  ...   6.958371  10.801590\n",
       "34093   MGAT3-AS1  -0.951417  ...   8.164390  10.692957\n",
       "14779  AL158055.1  -2.821824  ...   7.737949  10.690223\n",
       "8196   AC092569.1  -1.119437  ...   8.053268  10.679629\n",
       "5667   AC027288.1   0.391026  ...   6.282366  10.584467\n",
       "10576  AC116312.1  -1.011872  ...   8.396823  10.535489\n",
       "30670       KRT27  -1.868850  ...   7.086526  10.468309\n",
       "32603   LINC02104  -0.799729  ...   6.380297  10.436955\n",
       "14061  AL132857.1  -1.380650  ...   7.638083  10.395375\n",
       "10904  AC124854.1  -2.368592  ...   8.068921  10.329760\n",
       "31241   LINC00261   2.081175  ...   5.534742  10.249661\n",
       "48711    RPS29P11   3.445407  ...   7.888660  10.233647\n",
       "20383  BX842568.3  -3.040474  ...   8.082240  10.106602\n",
       "15306  AL354714.3  -0.389296  ...   8.071914  10.079219\n",
       "36754      MYBPHL   0.181291  ...   6.172928  10.055557\n",
       "31214   LINC00163  -1.632262  ...   6.972058   9.944216\n",
       "32139   LINC01625  -3.541576  ...   7.298003   9.880353\n",
       "13493  AL049634.1  -2.615583  ...   6.687573   9.862954\n",
       "32128   LINC01612   0.958156  ...   8.436354   9.862219\n",
       "3602   AC012511.1  -0.294518  ...   5.841859   9.856618\n",
       "37484  NKX2-1-AS1   1.169382  ...   5.849730   9.813690\n",
       "25391         F11   1.177153  ...   6.506020   9.786670\n",
       "249    AC002451.1  -1.998062  ...   7.353941   9.645676\n",
       "39818    PGM5-AS1  -1.048309  ...   7.922052   9.638036\n",
       "45637    RNF126P1  -2.478798  ...   6.571011   9.598444\n",
       "38338       OR1L8  -2.639527  ...   7.184983   9.568890\n",
       "3042   AC010890.1  -1.916292  ...   6.671754   9.487519\n",
       "8278   AC092691.1   0.123127  ...   8.240222   9.454354\n",
       "2245   AC008897.3  -1.001924  ...   4.981883   9.436555\n",
       "34112        MIA2  -3.585152  ...   6.917209   9.415453\n",
       "32977   LINC02489   1.982037  ...   8.363608   9.295270\n",
       "15437  AL355355.1  -2.763505  ...   7.259975   9.251649\n",
       "5705   AC027449.1  -1.801585  ...   8.052539   9.240696\n",
       "28259     HLX-AS1  -1.620793  ...   7.853277   9.237601\n",
       "3022   AC010776.2  -0.468854  ...   7.782350   9.234190\n",
       "31716   LINC01081  -1.710544  ...   8.659409   9.213477\n",
       "8609   AC093772.1  -1.248533  ...   7.591667   9.206737\n",
       "41940      RBMXL2  -5.246332  ...   7.048846   9.198104\n",
       "\n",
       "[50 rows x 6 columns]"
      ]
     },
     "execution_count": 321,
     "metadata": {},
     "output_type": "execute_result"
    }
   ],
   "source": [
    "filtered_final = finaldf[finaldf['Norm_std'] > 1e-6]  #adding a tiny value to avoid NANs later\n",
    "filtered_final.sort_values(by=['stdratio'], ascending=False).nlargest(50,'stdratio')"
   ]
  },
  {
   "cell_type": "code",
   "execution_count": 322,
   "id": "63315f45-15cb-408d-b097-72ffcb919b6f",
   "metadata": {},
   "outputs": [
    {
     "data": {
      "text/plain": [
       "(49604, 6)"
      ]
     },
     "execution_count": 322,
     "metadata": {},
     "output_type": "execute_result"
    }
   ],
   "source": [
    "filtered_final.shape"
   ]
  },
  {
   "cell_type": "markdown",
   "id": "7fb834b3-9c39-4c1f-a00f-c332bd5cd822",
   "metadata": {},
   "source": [
    "### Summary\n",
    "\n",
    "Now it is clear that a lot of genes weren't being expressed in the normal samples (about 7000 or so).  These were filtered out indirectly: we could have removed genes for which Norm_mean was zero, but those genes would also have a standard deviation of zero.  Either way, they are no longer included in the analysis."
   ]
  },
  {
   "cell_type": "markdown",
   "id": "d3f1c8bd-7c9c-4bd5-857c-89eb9d0dd1ac",
   "metadata": {},
   "source": [
    "## Informing feature selection"
   ]
  },
  {
   "cell_type": "markdown",
   "id": "6feda0ba-62a2-4148-88ae-0cf7d407e4d1",
   "metadata": {},
   "source": [
    "Most oncogenes are NOT specific to a particular cancer, and because it is so important to know if a tumor is primary or secondary, the search for truly unique oncogenes that are only expressed in one, or a handful of related cancer types, is very useful.  Certain oncogenes may thus be rejected for use in the final model, due to lack of specificity, but we will analyze this more in depth after we have added annotations.\n",
    "\n",
    "As noted earlier there are more non-coding transcripts to be excluded as well.  For instance:\n",
    "\n",
    "Certain LincRNAs are upregulated in 13 cancers--above we see a number of them strongly upregulated.  See also 'The functions and unique features of long intergenic non-coding RNA'\n",
    "Julia D. Ransohoff,1 Yuning Wei,1 and Paul A. Khavari1,2  in Nat Rev Mol Cell Biol. Author manuscript; available in PMC 2018 Apr 6.\n",
    "Published in final edited form as:\n",
    "Nat Rev Mol Cell Biol. 2018 Mar; 19(3): 143–157.\n",
    "Published online 2017 Nov 15. doi: 10.1038/nrm.2017.104"
   ]
  },
  {
   "cell_type": "markdown",
   "id": "7ea359b8-5d2c-43be-b44b-f1838d9c6a4e",
   "metadata": {},
   "source": [
    "## Conclusions:  LUSC dataset wrangling"
   ]
  },
  {
   "cell_type": "markdown",
   "id": "10151bbd-a497-4c77-bf2e-1bf0fd0b5a25",
   "metadata": {},
   "source": [
    "At first glance we can see some strong differences in expression variance between normal and tumor genes; that said, we have some 57000 genes in the dataset, and while we have gene names, we don't have functions.  Adding gene function information is essential in understanding what may be actually significant versus random noise.  Recall that, by conservative estimates, 51.8% of the human genome is transcribed, but only 1.2% encodes proteins!  As a path forward, while it is interesting to note what is going on with LINCrnas and other non-protein coding RNAs, it will be essential from an analysis standpoint to narrow the array data to protein-coding genes that are active in healthy lung tissue samples.\n",
    "\n",
    "In the next section we add gene annotations, and attempt to downselect to roughly 25 genes *based entirely on biological considerations for normal activity*, that is, we will strenuously avoid using direct knowledge of tumor data as we choose candidate genes. The model will use these to predict tumor vs normal.  (We can also compare performance with sets of *known* oncogenes or biomarkers of disease as predictors).\n"
   ]
  },
  {
   "cell_type": "markdown",
   "id": "64a33f54-24c8-4bf6-b464-b1d5eacb140e",
   "metadata": {},
   "source": [
    "## 2. Data wrangling, continued: Adding gene annotations to narrow down feature selection"
   ]
  },
  {
   "cell_type": "markdown",
   "id": "dd3d8738-041c-4324-8ed9-919e5320665e",
   "metadata": {},
   "source": [
    "Now we will use annotations of human genes from the following source: https://www.alliancegenome.org/downloads#gene-descriptions\n",
    "which was found through this article: https://www.ncbi.nlm.nih.gov/pmc/articles/PMC7304461/ on automated gene annotation.\n",
    "\n",
    "The file will need to be parsed and then matched to existing genes in the expression database.  The high level goal is to select a relatively small number of human genes--preferably related to healthy lung cell function--so that the use of expression data is properly limited to prevent overfitting, and hopefully, to improve the explainability of the model.  The compressed file was downloaded and unzipped to the working directory. "
   ]
  },
  {
   "cell_type": "code",
   "execution_count": 323,
   "id": "7d75e933-16eb-4f0e-8a59-10987bb595a3",
   "metadata": {},
   "outputs": [
    {
     "name": "stdout",
     "output_type": "stream",
     "text": [
      "C:\\Users\\Owner\\Downloads\\archive (3)\n"
     ]
    },
    {
     "data": {
      "text/plain": [
       "['.ipynb_checkpoints',\n",
       " 'GENE-DESCRIPTION-JSON_HUMAN.json',\n",
       " 'GENE-DESCRIPTION-TSV_HUMAN.tsv',\n",
       " 'GENE-DES_HUMAN.txt',\n",
       " 'LUSCexpfile.csv',\n",
       " 'LUSC_TLK_DW_EDA.ipynb']"
      ]
     },
     "execution_count": 323,
     "metadata": {},
     "output_type": "execute_result"
    }
   ],
   "source": [
    "import os\n",
    "current_path = os.getcwd()\n",
    "print(current_path)\n",
    "\n",
    "os.listdir()"
   ]
  },
  {
   "cell_type": "markdown",
   "id": "6b0e3c39-8e56-4091-8617-766889a76292",
   "metadata": {},
   "source": [
    "To read a TSV (Tab-Separated Values) file into a pandas DataFrame, you can use the pd.read_csv() function with the sep parameter set to ‘\\t’ to specify that the file is tab-separated:"
   ]
  },
  {
   "cell_type": "code",
   "execution_count": 324,
   "id": "b96b913c-a83f-4a2f-a50a-2ea6214fc497",
   "metadata": {},
   "outputs": [
    {
     "name": "stdout",
     "output_type": "stream",
     "text": [
      "         CODE   NAME                                        DESCRIPTION\n",
      "0    HGNC:100  ASIC1  Enables pH-gated monoatomic ion channel activi...\n",
      "1  HGNC:10000   RGS4  Predicted to enable GTPase activator activity;...\n",
      "2  HGNC:10001   RGS5  Predicted to enable GTPase activator activity ...\n",
      "3  HGNC:10002   RGS6  Enables GTPase activator activity. Predicted t...\n",
      "4  HGNC:10003   RGS7  Enables G-protein alpha-subunit binding activi...\n"
     ]
    }
   ],
   "source": [
    "#let's try it.\n",
    "Annot_df = pd.read_csv('GENE-DESCRIPTION-TSV_HUMAN.tsv', skiprows=14, sep='\\t', names =['CODE', 'NAME', 'DESCRIPTION'])\n",
    "print(Annot_df.head())"
   ]
  },
  {
   "cell_type": "code",
   "execution_count": 325,
   "id": "b5776f6f-4e98-481f-a284-24b4a8dfac1a",
   "metadata": {},
   "outputs": [
    {
     "data": {
      "text/plain": [
       "(43404, 3)"
      ]
     },
     "execution_count": 325,
     "metadata": {},
     "output_type": "execute_result"
    }
   ],
   "source": [
    "#what have we here...\n",
    "Annot_df.shape"
   ]
  },
  {
   "cell_type": "markdown",
   "id": "768e61e3-7ea2-4f20-86f1-16fdc467d836",
   "metadata": {},
   "source": [
    "The goal now is to pull only those rows where the description includes the word 'Lung'.  Note that there are genes for which there is 'no description available'.  Those, perhaps, can be examined separately, if time permits."
   ]
  },
  {
   "cell_type": "code",
   "execution_count": 326,
   "id": "973856ef-652d-42db-af5d-ace6a131353b",
   "metadata": {},
   "outputs": [
    {
     "name": "stdout",
     "output_type": "stream",
     "text": [
      "           CODE   NAME                                        DESCRIPTION\n",
      "263   HGNC:1033   BDNF  Predicted to enable growth factor activity and...\n",
      "375  HGNC:10451   RRM1  Enables identical protein binding activity and...\n",
      "376  HGNC:10452   RRM2  Predicted to enable ribonucleoside-diphosphate...\n",
      "390  HGNC:10471  RUNX1  Enables several functions, including DNA-bindi...\n",
      "391  HGNC:10472  RUNX2  Enables sequence-specific double-stranded DNA ...\n"
     ]
    }
   ],
   "source": [
    "filtered_df = Annot_df[Annot_df[\"DESCRIPTION\"].str.contains(\"lung\")]\n",
    "print(filtered_df.head())"
   ]
  },
  {
   "cell_type": "code",
   "execution_count": 327,
   "id": "6dae24a7-1628-4c8b-8df0-07ea19909c2c",
   "metadata": {},
   "outputs": [
    {
     "data": {
      "text/plain": [
       "(425, 3)"
      ]
     },
     "execution_count": 327,
     "metadata": {},
     "output_type": "execute_result"
    }
   ],
   "source": [
    "filtered_df.shape"
   ]
  },
  {
   "cell_type": "markdown",
   "id": "4dd81a00-16d7-4fb0-af9d-2be3e9c7ce46",
   "metadata": {},
   "source": [
    "Excellent!  The total number of genes is much more manageable now, and we can filter further.\n",
    "\n",
    "We will proceed by matching with the 'finaldf' which may contain genes with zero expression in normal samples--this is a note of caution."
   ]
  },
  {
   "cell_type": "code",
   "execution_count": 328,
   "id": "e483d54e-490b-4218-a342-940b487be944",
   "metadata": {},
   "outputs": [
    {
     "name": "stdout",
     "output_type": "stream",
     "text": [
      "       NAME  Norm_mean  ...  Tumor_std  stdratio\n",
      "0      A1BG  -3.678356  ...   1.582747  1.936906\n",
      "1  A1BG-AS1  -0.181150  ...   1.106743  2.070087\n",
      "2      A1CF -12.826603  ...   5.886855  1.017487\n",
      "3       A2M   9.506983  ...   1.281895  2.290412\n",
      "4   A2M-AS1  -0.314353  ...   0.937864  2.250421\n",
      "\n",
      "[5 rows x 6 columns]\n"
     ]
    }
   ],
   "source": [
    "print(finaldf.head())"
   ]
  },
  {
   "cell_type": "code",
   "execution_count": 329,
   "id": "556938ae-d287-4418-a1a9-c4a0db84f41e",
   "metadata": {},
   "outputs": [
    {
     "name": "stdout",
     "output_type": "stream",
     "text": [
      "    NAME  Norm_mean  ...        CODE                                        DESCRIPTION\n",
      "0   BDNF  -0.078699  ...   HGNC:1033  Predicted to enable growth factor activity and...\n",
      "1   RRM1   3.111166  ...  HGNC:10451  Enables identical protein binding activity and...\n",
      "2   RRM2  -0.078324  ...  HGNC:10452  Predicted to enable ribonucleoside-diphosphate...\n",
      "3  RUNX1   2.695032  ...  HGNC:10471  Enables several functions, including DNA-bindi...\n",
      "4  RUNX2  -0.255691  ...  HGNC:10472  Enables sequence-specific double-stranded DNA ...\n",
      "\n",
      "[5 rows x 8 columns]\n"
     ]
    }
   ],
   "source": [
    "merged_df = pd.merge(finaldf, filtered_df, on='NAME', how='right') \n",
    "print(merged_df.head())"
   ]
  },
  {
   "cell_type": "code",
   "execution_count": 330,
   "id": "88d69451-fab0-4d3a-89f3-e7cde0d44144",
   "metadata": {},
   "outputs": [
    {
     "data": {
      "text/plain": [
       "(425, 8)"
      ]
     },
     "execution_count": 330,
     "metadata": {},
     "output_type": "execute_result"
    }
   ],
   "source": [
    "merged_df.shape"
   ]
  },
  {
   "cell_type": "markdown",
   "id": "bd961b37-b72d-4d41-bfe1-5bf440affad0",
   "metadata": {},
   "source": [
    "All of the genes matched.  Perhaps some are inactive in the normal tissue.  We can filter as before to check:"
   ]
  },
  {
   "cell_type": "code",
   "execution_count": 331,
   "id": "fa22072b-f7e5-43df-8772-dcbe41bf88f6",
   "metadata": {},
   "outputs": [
    {
     "data": {
      "text/plain": [
       "(406, 8)"
      ]
     },
     "execution_count": 331,
     "metadata": {},
     "output_type": "execute_result"
    }
   ],
   "source": [
    "filtered_merged = merged_df[merged_df['Norm_std'] > 1e-6]  \n",
    "filtered_merged.shape"
   ]
  },
  {
   "cell_type": "markdown",
   "id": "66b2155b-8927-4daa-9a00-10c9e2d49a8d",
   "metadata": {},
   "source": [
    "Ok:  19 genes off the list.  At this point we have gone through several iterations of the dataframe, and it is worth summarizing what we have."
   ]
  },
  {
   "cell_type": "markdown",
   "id": "d4fab47f-2239-47a1-b807-cfccdad6040b",
   "metadata": {},
   "source": [
    "### Summary of current dataframes:\n",
    "\n",
    "filtered_merged:  This dataframe contains ONLY lung genes with non-zero expression in normal tissue, plus annotations and summary statistics.\n",
    "logdf:  this dataframe contains the log expression values (with 1e-6 added), which will be needed in our analysis."
   ]
  },
  {
   "cell_type": "markdown",
   "id": "e2e21b4e-9a21-407b-9940-9933d41a9628",
   "metadata": {},
   "source": [
    "### More filtering:\n",
    "We don't want to include KNOWN biomarkers of disease, so let's remove those from consideration: "
   ]
  },
  {
   "cell_type": "code",
   "execution_count": 332,
   "id": "07ae6833-18fd-4dd0-97ac-f621f4656fbb",
   "metadata": {},
   "outputs": [
    {
     "name": "stdout",
     "output_type": "stream",
     "text": [
      "           NAME  Norm_mean  ...        CODE                                        DESCRIPTION\n",
      "18         SDHC   2.252911  ...  HGNC:10682  Predicted to enable heme binding activity. Pre...\n",
      "27        SHOX2  -5.147524  ...  HGNC:10854  Predicted to enable DNA-binding transcription ...\n",
      "28         SIM2  -2.986670  ...  HGNC:10883  Predicted to enable DNA-binding transcription ...\n",
      "50      SULT1A1   2.343635  ...  HGNC:11453  Enables 3'-phosphoadenosine 5'-phosphosulfate ...\n",
      "51         TBX4   3.392331  ...  HGNC:11603  Predicted to enable DNA-binding transcription ...\n",
      "52        DAGLA   0.729317  ...   HGNC:1165  Predicted to enable lipoprotein lipase activit...\n",
      "65        TRPC4  -1.367478  ...  HGNC:12336  Enables beta-catenin binding activity; cadheri...\n",
      "74         ZIC3 -16.524010  ...  HGNC:12874  Enables DNA-binding transcription activator ac...\n",
      "75       ZNF157  -4.162069  ...  HGNC:12942  Predicted to enable DNA-binding transcription ...\n",
      "89       CHRNA9  -6.707083  ...  HGNC:14079  Enables acetylcholine-gated monoatomic cation-...\n",
      "91          CIC   3.277328  ...  HGNC:14214  Predicted to enable DNA-binding transcription ...\n",
      "105       RTEL1  -2.851685  ...  HGNC:15888  Enables ATP binding activity and DNA helicase ...\n",
      "108       NCOA6   2.381360  ...  HGNC:15936  Enables enzyme binding activity; nuclear recep...\n",
      "136     NKIRAS2   2.731888  ...  HGNC:17898  Predicted to enable GTPase activating protein ...\n",
      "137     NKIRAS1   1.523857  ...  HGNC:17899  Predicted to enable GTPase activating protein ...\n",
      "139       CMPK1   5.360355  ...  HGNC:18170  Enables UMP kinase activity and nucleoside dip...\n",
      "140       ASXL1   3.033214  ...  HGNC:18318  Predicted to enable several functions, includi...\n",
      "147       DPPA2 -17.706303  ...  HGNC:19197  Predicted to enable chromatin binding activity...\n",
      "148       DPPA4  -7.029122  ...  HGNC:19200  Predicted to enable chromatin binding activity...\n",
      "153       RXFP1   0.675455  ...  HGNC:19718  Enables G protein-coupled receptor activity. P...\n",
      "157       TRPC7 -18.928888  ...  HGNC:20754  Predicted to enable inositol 1,4,5 trisphospha...\n",
      "158        PAOX   1.126756  ...  HGNC:20837  Enables polyamine oxidase activity. Involved i...\n",
      "162       STK40   4.139050  ...  HGNC:21373  Predicted to enable ATP binding activity; prot...\n",
      "168       PHF14   1.758414  ...  HGNC:22203  Enables histone binding activity. Predicted to...\n",
      "169        COPA   5.114477  ...   HGNC:2230  Predicted to enable mRNA binding activity. Act...\n",
      "181     TMEM38B   1.197102  ...  HGNC:25535  Predicted to enable potassium channel activity...\n",
      "188      CCDC40  -0.174904  ...  HGNC:26090  Involved in axonemal dynein complex assembly; ...\n",
      "190     CCDC116  -3.821066  ...  HGNC:26688  Located in centrosome. Implicated in lung cancer.\n",
      "193       MPZL3   2.652505  ...  HGNC:27279  Predicted to be involved in cell adhesion. Pre...\n",
      "208       STRAP   5.229397  ...  HGNC:30796  Enables RNA binding activity. Involved in main...\n",
      "209        DVL3   3.568958  ...   HGNC:3087  Enables beta-catenin binding activity; enzyme ...\n",
      "229      MIR367 -18.432784  ...  HGNC:31781  Predicted to be involved in miRNA-mediated pos...\n",
      "243      SNHG20   0.124062  ...  HGNC:33099  Predicted to be involved in cellular response ...\n",
      "245      ATXN1L   2.987904  ...  HGNC:33279  Predicted to enable DNA binding activity; POZ ...\n",
      "250       CFC1B -18.581555  ...  HGNC:33983  Predicted to enable activin receptor binding a...\n",
      "263         FES   3.069147  ...   HGNC:3657  Enables immunoglobulin receptor binding activi...\n",
      "264       FGF10  -0.326056  ...   HGNC:3666  Enables heparin binding activity; receptor lig...\n",
      "268          FH   4.173180  ...   HGNC:3700  Enables fumarate hydratase activity and histon...\n",
      "271  MIRLET7BHG  -1.572545  ...  HGNC:37189  Predicted to be involved in miRNA-mediated pos...\n",
      "274       FOXJ1   2.883319  ...   HGNC:3816  Enables transcription cis-regulatory region bi...\n",
      "285      FENDRR   2.784248  ...  HGNC:43894  Predicted to enable core promoter sequence-spe...\n",
      "306      HS3ST2   1.973635  ...   HGNC:5195  Enables [heparan sulfate]-glucosamine 3-sulfot...\n",
      "313       AP3B1   2.838824  ...    HGNC:566  Enables GTP-dependent protein binding activity...\n",
      "339       LAMA3   3.410678  ...   HGNC:6483  Predicted to enable integrin binding activity....\n",
      "348      MAN1A2   2.360571  ...   HGNC:6822  Predicted to enable mannosyl-oligosaccharide 1...\n",
      "349      MAN2A1   1.996711  ...   HGNC:6824  Predicted to enable alpha-mannosidase activity...\n",
      "356       MAT2A   5.184159  ...   HGNC:6904  Enables identical protein binding activity; me...\n",
      "357         MAX   3.776226  ...   HGNC:6913  Enables several functions, including DNA-bindi...\n",
      "358        MBD1   2.960976  ...   HGNC:6916  Enables DNA binding activity and zinc ion bind...\n",
      "359        MBD4   3.346776  ...   HGNC:6919  Enables pyrimidine-specific mismatch base pair...\n",
      "\n",
      "[50 rows x 8 columns]\n"
     ]
    }
   ],
   "source": [
    "possible_targets = filtered_merged[~filtered_merged[\"DESCRIPTION\"].str.contains(\"Biomarker\")]\n",
    "print(possible_targets.head(50))"
   ]
  },
  {
   "cell_type": "code",
   "execution_count": 333,
   "id": "f97dafde-f33b-474c-a701-f3e31912f5b7",
   "metadata": {},
   "outputs": [
    {
     "data": {
      "text/plain": [
       "(58, 8)"
      ]
     },
     "execution_count": 333,
     "metadata": {},
     "output_type": "execute_result"
    }
   ],
   "source": [
    "possible_targets.shape"
   ]
  },
  {
   "cell_type": "markdown",
   "id": "8175b9bf-74ba-4422-9241-6521846b0893",
   "metadata": {},
   "source": [
    "Ok now we are down to 58 candidate genes.  Let's remove the known genes where the description includes 'Enables'.\n",
    "\n",
    "The reason for this step is two-fold.  First, we'd like to get the number of variables down to roughly 25; secondly, we'd like to avoid using known genes (in the hopes that some biomarker discovery is a useful byproduct of the analysis)."
   ]
  },
  {
   "cell_type": "code",
   "execution_count": 334,
   "id": "a95b9d02-393e-4b4a-adbf-c06a2c1a4912",
   "metadata": {},
   "outputs": [
    {
     "name": "stdout",
     "output_type": "stream",
     "text": [
      "           NAME  Norm_mean  ...        CODE                                        DESCRIPTION\n",
      "18         SDHC   2.252911  ...  HGNC:10682  Predicted to enable heme binding activity. Pre...\n",
      "27        SHOX2  -5.147524  ...  HGNC:10854  Predicted to enable DNA-binding transcription ...\n",
      "28         SIM2  -2.986670  ...  HGNC:10883  Predicted to enable DNA-binding transcription ...\n",
      "51         TBX4   3.392331  ...  HGNC:11603  Predicted to enable DNA-binding transcription ...\n",
      "52        DAGLA   0.729317  ...   HGNC:1165  Predicted to enable lipoprotein lipase activit...\n",
      "75       ZNF157  -4.162069  ...  HGNC:12942  Predicted to enable DNA-binding transcription ...\n",
      "91          CIC   3.277328  ...  HGNC:14214  Predicted to enable DNA-binding transcription ...\n",
      "136     NKIRAS2   2.731888  ...  HGNC:17898  Predicted to enable GTPase activating protein ...\n",
      "137     NKIRAS1   1.523857  ...  HGNC:17899  Predicted to enable GTPase activating protein ...\n",
      "140       ASXL1   3.033214  ...  HGNC:18318  Predicted to enable several functions, includi...\n",
      "147       DPPA2 -17.706303  ...  HGNC:19197  Predicted to enable chromatin binding activity...\n",
      "148       DPPA4  -7.029122  ...  HGNC:19200  Predicted to enable chromatin binding activity...\n",
      "157       TRPC7 -18.928888  ...  HGNC:20754  Predicted to enable inositol 1,4,5 trisphospha...\n",
      "162       STK40   4.139050  ...  HGNC:21373  Predicted to enable ATP binding activity; prot...\n",
      "169        COPA   5.114477  ...   HGNC:2230  Predicted to enable mRNA binding activity. Act...\n",
      "181     TMEM38B   1.197102  ...  HGNC:25535  Predicted to enable potassium channel activity...\n",
      "188      CCDC40  -0.174904  ...  HGNC:26090  Involved in axonemal dynein complex assembly; ...\n",
      "190     CCDC116  -3.821066  ...  HGNC:26688  Located in centrosome. Implicated in lung cancer.\n",
      "193       MPZL3   2.652505  ...  HGNC:27279  Predicted to be involved in cell adhesion. Pre...\n",
      "229      MIR367 -18.432784  ...  HGNC:31781  Predicted to be involved in miRNA-mediated pos...\n",
      "243      SNHG20   0.124062  ...  HGNC:33099  Predicted to be involved in cellular response ...\n",
      "245      ATXN1L   2.987904  ...  HGNC:33279  Predicted to enable DNA binding activity; POZ ...\n",
      "250       CFC1B -18.581555  ...  HGNC:33983  Predicted to enable activin receptor binding a...\n",
      "271  MIRLET7BHG  -1.572545  ...  HGNC:37189  Predicted to be involved in miRNA-mediated pos...\n",
      "285      FENDRR   2.784248  ...  HGNC:43894  Predicted to enable core promoter sequence-spe...\n",
      "339       LAMA3   3.410678  ...   HGNC:6483  Predicted to enable integrin binding activity....\n",
      "348      MAN1A2   2.360571  ...   HGNC:6822  Predicted to enable mannosyl-oligosaccharide 1...\n",
      "349      MAN2A1   1.996711  ...   HGNC:6824  Predicted to enable alpha-mannosidase activity...\n",
      "376        MSH5  -2.524527  ...   HGNC:7328  Predicted to enable double-stranded DNA bindin...\n",
      "381        NAT2  -3.506457  ...   HGNC:7646  Predicted to enable arylamine N-acetyltransfer...\n",
      "407     PPP2R1B   2.077881  ...   HGNC:9303  Predicted to enable protein phosphatase regula...\n",
      "\n",
      "[31 rows x 8 columns]\n"
     ]
    }
   ],
   "source": [
    "final_targets = possible_targets[~possible_targets[\"DESCRIPTION\"].str.contains(\"Enables\")]\n",
    "print(final_targets.head(50))"
   ]
  },
  {
   "cell_type": "code",
   "execution_count": 335,
   "id": "68b68b7a-d62c-41b6-9b8e-def02485372f",
   "metadata": {},
   "outputs": [
    {
     "name": "stdout",
     "output_type": "stream",
     "text": [
      "        NAME  Norm_mean  ...        CODE                                        DESCRIPTION\n",
      "18      SDHC   2.252911  ...  HGNC:10682  Predicted to enable heme binding activity. Pre...\n",
      "28      SIM2  -2.986670  ...  HGNC:10883  Predicted to enable DNA-binding transcription ...\n",
      "51      TBX4   3.392331  ...  HGNC:11603  Predicted to enable DNA-binding transcription ...\n",
      "75    ZNF157  -4.162069  ...  HGNC:12942  Predicted to enable DNA-binding transcription ...\n",
      "91       CIC   3.277328  ...  HGNC:14214  Predicted to enable DNA-binding transcription ...\n",
      "136  NKIRAS2   2.731888  ...  HGNC:17898  Predicted to enable GTPase activating protein ...\n",
      "137  NKIRAS1   1.523857  ...  HGNC:17899  Predicted to enable GTPase activating protein ...\n",
      "140    ASXL1   3.033214  ...  HGNC:18318  Predicted to enable several functions, includi...\n",
      "147    DPPA2 -17.706303  ...  HGNC:19197  Predicted to enable chromatin binding activity...\n",
      "148    DPPA4  -7.029122  ...  HGNC:19200  Predicted to enable chromatin binding activity...\n",
      "162    STK40   4.139050  ...  HGNC:21373  Predicted to enable ATP binding activity; prot...\n",
      "169     COPA   5.114477  ...   HGNC:2230  Predicted to enable mRNA binding activity. Act...\n",
      "181  TMEM38B   1.197102  ...  HGNC:25535  Predicted to enable potassium channel activity...\n",
      "188   CCDC40  -0.174904  ...  HGNC:26090  Involved in axonemal dynein complex assembly; ...\n",
      "229   MIR367 -18.432784  ...  HGNC:31781  Predicted to be involved in miRNA-mediated pos...\n",
      "243   SNHG20   0.124062  ...  HGNC:33099  Predicted to be involved in cellular response ...\n",
      "245   ATXN1L   2.987904  ...  HGNC:33279  Predicted to enable DNA binding activity; POZ ...\n",
      "250    CFC1B -18.581555  ...  HGNC:33983  Predicted to enable activin receptor binding a...\n",
      "285   FENDRR   2.784248  ...  HGNC:43894  Predicted to enable core promoter sequence-spe...\n",
      "339    LAMA3   3.410678  ...   HGNC:6483  Predicted to enable integrin binding activity....\n",
      "348   MAN1A2   2.360571  ...   HGNC:6822  Predicted to enable mannosyl-oligosaccharide 1...\n",
      "349   MAN2A1   1.996711  ...   HGNC:6824  Predicted to enable alpha-mannosidase activity...\n",
      "376     MSH5  -2.524527  ...   HGNC:7328  Predicted to enable double-stranded DNA bindin...\n",
      "381     NAT2  -3.506457  ...   HGNC:7646  Predicted to enable arylamine N-acetyltransfer...\n",
      "\n",
      "[24 rows x 8 columns]\n"
     ]
    }
   ],
   "source": [
    "#Looking a lot better.  That said, consider row 190: 'Implicated in lung cancer'. We should apply another filter:\n",
    "final_targets2 = final_targets[~final_targets[\"DESCRIPTION\"].str.contains(\"cancer\")]\n",
    "print(final_targets2.head(50))"
   ]
  },
  {
   "cell_type": "markdown",
   "id": "3edfac2e-57bd-43ba-923a-00f01c64a08b",
   "metadata": {},
   "source": [
    "Now the dataset is approaching a small enough number to work with.  The other seven genes can be held out for now, and added back later if needed."
   ]
  },
  {
   "cell_type": "code",
   "execution_count": 336,
   "id": "f31dabce-a62b-4e17-b679-a77d6b1c8eb8",
   "metadata": {},
   "outputs": [
    {
     "name": "stdout",
     "output_type": "stream",
     "text": [
      "           NAME  Norm_mean  ...        CODE                                        DESCRIPTION\n",
      "27        SHOX2  -5.147524  ...  HGNC:10854  Predicted to enable DNA-binding transcription ...\n",
      "52        DAGLA   0.729317  ...   HGNC:1165  Predicted to enable lipoprotein lipase activit...\n",
      "157       TRPC7 -18.928888  ...  HGNC:20754  Predicted to enable inositol 1,4,5 trisphospha...\n",
      "190     CCDC116  -3.821066  ...  HGNC:26688  Located in centrosome. Implicated in lung cancer.\n",
      "193       MPZL3   2.652505  ...  HGNC:27279  Predicted to be involved in cell adhesion. Pre...\n",
      "271  MIRLET7BHG  -1.572545  ...  HGNC:37189  Predicted to be involved in miRNA-mediated pos...\n",
      "407     PPP2R1B   2.077881  ...   HGNC:9303  Predicted to enable protein phosphatase regula...\n",
      "\n",
      "[7 rows x 8 columns]\n"
     ]
    }
   ],
   "source": [
    "final_targets3 = final_targets[final_targets[\"DESCRIPTION\"].str.contains(\"cancer\")]\n",
    "print(final_targets3.head(50))"
   ]
  },
  {
   "cell_type": "markdown",
   "id": "e4177d74-8d36-47f2-8de7-9cc821c76306",
   "metadata": {},
   "source": [
    "## Finalizing predictor gene sets"
   ]
  },
  {
   "cell_type": "markdown",
   "id": "66737680-5327-418b-ae24-f34f0a9f26a6",
   "metadata": {},
   "source": [
    "After merging the gene expression data with gene annotations, and filtering to include only genes active in normal lung tissue, removing those known to be biomarkers of disease, and separating those already implicated in cancer, we arrived at two datasets.\n",
    "The first contains 24 genes with some predicted functions; the second set contains 7 which are implicated in lung cancer.  We will use the second set as needed if the performance of the first set is weak."
   ]
  },
  {
   "cell_type": "markdown",
   "id": "83d0c451-610e-46f4-9442-f3413dad6c01",
   "metadata": {},
   "source": [
    "Another note of caution on the gene set we have now.  Many of them are predicted to play some role in carcinomas:"
   ]
  },
  {
   "cell_type": "code",
   "execution_count": 337,
   "id": "46a0ec9d-ad70-49df-9a41-c7d25138d833",
   "metadata": {},
   "outputs": [
    {
     "name": "stdout",
     "output_type": "stream",
     "text": [
      "        NAME  Norm_mean  ...        CODE                                        DESCRIPTION\n",
      "28      SIM2  -2.986670  ...  HGNC:10883  Predicted to enable DNA-binding transcription ...\n",
      "51      TBX4   3.392331  ...  HGNC:11603  Predicted to enable DNA-binding transcription ...\n",
      "75    ZNF157  -4.162069  ...  HGNC:12942  Predicted to enable DNA-binding transcription ...\n",
      "91       CIC   3.277328  ...  HGNC:14214  Predicted to enable DNA-binding transcription ...\n",
      "136  NKIRAS2   2.731888  ...  HGNC:17898  Predicted to enable GTPase activating protein ...\n",
      "\n",
      "[5 rows x 8 columns]\n"
     ]
    }
   ],
   "source": [
    "slim_final=final_targets2[~final_targets2[\"DESCRIPTION\"].str.contains(\"carcinoma\")]\n",
    "print(slim_final.head())"
   ]
  },
  {
   "cell_type": "markdown",
   "id": "f7c15fc2-b61b-4353-ae5a-92d01fc5272d",
   "metadata": {},
   "source": [
    "Again, this is something we may return to later. As an aside, MPZL3 is involved in cell adhesion--we speculate its role could be akin to a virulence factor, where (mal)expression of that gene leads to poor cell adherence and thus metastatic cancer.  And finally--one more look at what the annotations are telling us:"
   ]
  },
  {
   "cell_type": "code",
   "execution_count": 338,
   "id": "c11914c4-cee3-48b0-93f4-0a5cfae210fd",
   "metadata": {},
   "outputs": [
    {
     "name": "stdout",
     "output_type": "stream",
     "text": [
      "       NAME  Norm_mean  ...        CODE                                        DESCRIPTION\n",
      "18     SDHC   2.252911  ...  HGNC:10682  Predicted to enable heme binding activity. Pre...\n",
      "89   CHRNA9  -6.707083  ...  HGNC:14079  Enables acetylcholine-gated monoatomic cation-...\n",
      "105   RTEL1  -2.851685  ...  HGNC:15888  Enables ATP binding activity and DNA helicase ...\n",
      "139   CMPK1   5.360355  ...  HGNC:18170  Enables UMP kinase activity and nucleoside dip...\n",
      "158    PAOX   1.126756  ...  HGNC:20837  Enables polyamine oxidase activity. Involved i...\n",
      "208   STRAP   5.229397  ...  HGNC:30796  Enables RNA binding activity. Involved in main...\n",
      "243  SNHG20   0.124062  ...  HGNC:33099  Predicted to be involved in cellular response ...\n",
      "263     FES   3.069147  ...   HGNC:3657  Enables immunoglobulin receptor binding activi...\n",
      "268      FH   4.173180  ...   HGNC:3700  Enables fumarate hydratase activity and histon...\n",
      "306  HS3ST2   1.973635  ...   HGNC:5195  Enables [heparan sulfate]-glucosamine 3-sulfot...\n",
      "339   LAMA3   3.410678  ...   HGNC:6483  Predicted to enable integrin binding activity....\n",
      "357     MAX   3.776226  ...   HGNC:6913  Enables several functions, including DNA-bindi...\n",
      "359    MBD4   3.346776  ...   HGNC:6919  Enables pyrimidine-specific mismatch base pair...\n",
      "375    MSH3   1.624633  ...   HGNC:7326  Enables enzyme binding activity. Contributes t...\n",
      "376    MSH5  -2.524527  ...   HGNC:7328  Predicted to enable double-stranded DNA bindin...\n",
      "381    NAT2  -3.506457  ...   HGNC:7646  Predicted to enable arylamine N-acetyltransfer...\n",
      "416   PTPRJ   2.675292  ...   HGNC:9673  Enables several functions, including beta-cate...\n",
      "420    RARB   1.370408  ...   HGNC:9865  Enables nuclear receptor activity and sequence...\n",
      "\n",
      "[18 rows x 8 columns]\n"
     ]
    }
   ],
   "source": [
    "other_targets = possible_targets[possible_targets[\"DESCRIPTION\"].str.contains(\"carcinoma\")]  #how many of these have 'carcinoma' in them\n",
    "print(other_targets.head(50))"
   ]
  },
  {
   "cell_type": "markdown",
   "id": "453e895a-3995-481a-bbc5-7242295ac5bf",
   "metadata": {},
   "source": [
    "## Section 2 Summary and Conclusion"
   ]
  },
  {
   "cell_type": "markdown",
   "id": "d7ee4ec4-8ee9-4bd5-b98c-cb695ae45a73",
   "metadata": {},
   "source": [
    "We will now proceed to analyze 'final_targets2' which contains the genes matching the following filtering criteria:\n",
    "--active in normal lung tissue\n",
    "--genes with potential for bio marker discovery (that is, not known biomarkers of cancer or other disease, though some may be suspected to play a role in cancer or carcinomas)\n",
    "--genes with predicted functions (not unknown, but also not definitively characterized).\n",
    "\n",
    "We also have additional 'short lists'  and variations of the key set, above, which may be experimented on as we explore models later.\n",
    "\n",
    "At this stage we have a small enough set of target genes to proceed with EDA, preprocessing, and model building.\n",
    "\n",
    "(Finally, we note that a great many other avenues were explored, and later rejected: the above search for candidate genes is the best found so far)."
   ]
  },
  {
   "cell_type": "markdown",
   "id": "26acc937-3ab0-49bb-a337-d08890d899b1",
   "metadata": {},
   "source": [
    "# 3. EDA with candidate gene sets "
   ]
  },
  {
   "cell_type": "markdown",
   "id": "e3455d63-54b7-4bac-9c0e-d8bb76cf2121",
   "metadata": {},
   "source": [
    "Earlier we looked at a few random genes and compared the normal vs cancer expression levels.  It would be good to do the same with the candidate genes from section 2."
   ]
  },
  {
   "cell_type": "code",
   "execution_count": 339,
   "id": "938265a9-ed31-495b-9f82-b0e7037773d2",
   "metadata": {},
   "outputs": [
    {
     "data": {
      "image/png": "[encoded data removed]",
      "text/plain": [
       "<Figure size 640x480 with 1 Axes>"
      ]
     },
     "metadata": {},
     "output_type": "display_data"
    }
   ],
   "source": [
    "sns.kdeplot(data=df4, x='SDHC', hue=\"SampleType\", fill=True, common_norm=False, alpha=1)  #just using the prior df4 dataframe\n",
    "plt.show()"
   ]
  },
  {
   "cell_type": "markdown",
   "id": "47c24a43-0e20-4caa-8bf5-6f61ba236375",
   "metadata": {},
   "source": [
    "TBD: let's plot or list the std_ratios and mean expression differences/normal gene std."
   ]
  },
  {
   "cell_type": "code",
   "execution_count": 340,
   "id": "15b2a599-60ad-46c0-b361-dcdef0d5f552",
   "metadata": {},
   "outputs": [
    {
     "name": "stdout",
     "output_type": "stream",
     "text": [
      "['SDHC', 'SIM2', 'TBX4', 'ZNF157', 'CIC', 'NKIRAS2', 'NKIRAS1', 'ASXL1', 'DPPA2', 'DPPA4', 'STK40', 'COPA', 'TMEM38B', 'CCDC40', 'MIR367', 'SNHG20', 'ATXN1L', 'CFC1B', 'FENDRR', 'LAMA3', 'MAN1A2', 'MAN2A1', 'MSH5', 'NAT2']\n"
     ]
    }
   ],
   "source": [
    "#create list of candidate genes from earlier.\n",
    "Gene_list = list(final_targets2['NAME'])  #I only want the names for now\n",
    "print(Gene_list)"
   ]
  },
  {
   "cell_type": "markdown",
   "id": "b72d18bb-b992-4909-9232-396211d6be2a",
   "metadata": {},
   "source": [
    "OK:  next we perform a sanity check to see what the candidate genes might be doing in normal vs tumor tissue\n",
    "We have to be careful that Norm_delta does not enter the picture later in the model.  It is only for exploration.\n",
    "\n",
    "The variable 'Norm-Delta' is the difference in mean expression for each gene between normal and tumor tissue.  In the model, we anticipate using the ratio of expression level to the NORMAL tissue type standard deviation."
   ]
  },
  {
   "cell_type": "code",
   "execution_count": 341,
   "id": "c8fb131a-2c63-4d54-9e7e-b7602b1843c9",
   "metadata": {},
   "outputs": [
    {
     "name": "stdout",
     "output_type": "stream",
     "text": [
      "       NAME  Norm_mean  Tumor_mean  Norm_std  Tumor_std  stdratio  Norm_delta\n",
      "0      A1BG  -3.678356   -3.750148  0.817152   1.582747  1.936906   -0.087856\n",
      "1  A1BG-AS1  -0.181150   -0.658819  0.534636   1.106743  2.070087   -0.893447\n",
      "2      A1CF -12.826603  -11.492063  5.785683   5.886855  1.017487    0.230663\n",
      "3       A2M   9.506983    5.746430  0.559679   1.281895  2.290412   -6.719130\n",
      "4   A2M-AS1  -0.314353   -0.910212  0.416750   0.937864  2.250421   -1.429774\n"
     ]
    }
   ],
   "source": [
    "#Next do a calculation for ALL genes, since our target list may vary\n",
    "finaldf['Norm_delta'] = (finaldf['Tumor_mean'] - finaldf['Norm_mean'])/finaldf['Norm_std']\n",
    "pd.set_option('display.max_columns', 1000) #now I want to see the columns more clearly\n",
    "pd.set_option('display.width', 1000)\n",
    "print(finaldf.head())"
   ]
  },
  {
   "cell_type": "markdown",
   "id": "f45c10f9-88b7-4c09-b0c2-96448f5bf081",
   "metadata": {},
   "source": [
    "## A brief interlude for more data wrangling before proceeding with EDA:"
   ]
  },
  {
   "cell_type": "markdown",
   "id": "3fe06d96-b42f-4ac0-a6a6-59b36a05826f",
   "metadata": {},
   "source": [
    "I want a simpler dataframe to work with, that's easier to read, etc, for analysis.  I'm going to construct an EDA dataframe, which is based on the gene list of final targets, above."
   ]
  },
  {
   "cell_type": "code",
   "execution_count": 342,
   "id": "5aa2f09c-9809-4b9d-9c28-ee34ccaa6e71",
   "metadata": {},
   "outputs": [
    {
     "name": "stdout",
     "output_type": "stream",
     "text": [
      "          NAME  Norm_mean  Tumor_mean  Norm_std  Tumor_std  stdratio  Norm_delta\n",
      "19392    ASXL1   3.033214    2.965735  0.331737   0.568385  1.713361   -0.203412\n",
      "19631   ATXN1L   2.987904    2.577886  0.395435   0.585538  1.480744   -1.036879\n",
      "21338   CCDC40  -0.174904   -1.459606  1.190263   1.151161  0.967149   -1.079344\n",
      "22022    CFC1B -18.581555  -19.570268  4.052522   2.221798  0.548251   -0.243975\n",
      "22222      CIC   3.277328    3.462740  0.442868   0.785067  1.772689    0.418660\n",
      "22668     COPA   5.114477    5.545745  0.219132   0.442652  2.020019    1.968067\n",
      "24278    DPPA2 -17.706303   -9.603190  5.095698   8.993804  1.764980    1.590187\n",
      "24287    DPPA4  -7.029122   -7.972699  4.061045   4.782399  1.177628   -0.232348\n",
      "26087   FENDRR   2.784248   -1.935167  0.890335   1.820095  2.044281   -5.300719\n",
      "30921    LAMA3   3.410678    3.201375  0.699877   1.656641  2.367046   -0.299058\n",
      "33596   MAN1A2   2.360571    2.624083  0.347194   0.590257  1.700078    0.758974\n",
      "33601   MAN2A1   1.996711    2.043456  0.343070   0.649092  1.892011    0.136256\n",
      "34603   MIR367 -18.432784  -18.957262  5.086235   4.092002  0.804525   -0.103117\n",
      "36120     MSH5  -2.524527   -1.087734  1.105124   1.227619  1.110843    1.300119\n",
      "37005     NAT2  -3.506457   -7.168037  2.592463   6.526202  2.517375   -1.412394\n",
      "37476  NKIRAS1   1.523857    1.091286  0.284232   0.471304  1.658166   -1.521895\n",
      "37477  NKIRAS2   2.731888    3.524384  0.200198   0.458122  2.288342    3.958553\n",
      "49425     SDHC   2.252911    2.826615  0.198894   0.459122  2.308381    2.884476\n",
      "49927     SIM2  -2.986670   -0.474648  0.483191   1.707957  3.534748    5.198822\n",
      "50702   SNHG20   0.124062    1.054194  0.579025   0.915609  1.581294    1.606377\n",
      "51945    STK40   4.139050    3.567809  0.376918   0.647699  1.718406   -1.515557\n",
      "52467     TBX4   3.392331   -0.254923  0.705874   1.553770  2.201200   -5.167006\n",
      "53207  TMEM38B   1.197102    2.058172  0.500399   1.024133  2.046632    1.720764\n",
      "56218   ZNF157  -4.162069   -4.498144  2.581526   4.081157  1.580909   -0.130185\n"
     ]
    }
   ],
   "source": [
    "#ok, let's see if this helps. \n",
    "mask = finaldf['NAME'].isin(Gene_list)\n",
    "EDA_data = finaldf[mask]\n",
    "\n",
    "print(EDA_data.head(30))"
   ]
  },
  {
   "cell_type": "markdown",
   "id": "53a7bfdf-a301-404b-bd39-13dcb9991d6e",
   "metadata": {},
   "source": [
    "### Important wrangling step before we proceed:  clean up the indices in some of the dataframes from earlier"
   ]
  },
  {
   "cell_type": "code",
   "execution_count": 343,
   "id": "af20e1f4-72c0-4feb-bde2-7a06aa099832",
   "metadata": {},
   "outputs": [
    {
     "name": "stdout",
     "output_type": "stream",
     "text": [
      "          Norm_mean  Tumor_mean  Norm_std  Tumor_std  stdratio  Norm_delta\n",
      "NAME                                                                      \n",
      "A1BG      -3.678356   -3.750148  0.817152   1.582747  1.936906   -0.087856\n",
      "A1BG-AS1  -0.181150   -0.658819  0.534636   1.106743  2.070087   -0.893447\n",
      "A1CF     -12.826603  -11.492063  5.785683   5.886855  1.017487    0.230663\n",
      "A2M        9.506983    5.746430  0.559679   1.281895  2.290412   -6.719130\n",
      "A2M-AS1   -0.314353   -0.910212  0.416750   0.937864  2.250421   -1.429774\n"
     ]
    }
   ],
   "source": [
    "#Ok I will now set the index to NAME in 'finaldf' so I can pull out genes more easily\n",
    "finaldf.set_index('NAME', inplace=True)\n",
    "print(finaldf.head())"
   ]
  },
  {
   "cell_type": "code",
   "execution_count": 344,
   "id": "ca2811cb-5a31-4adc-815c-e9e2aa0ad2d2",
   "metadata": {},
   "outputs": [
    {
     "name": "stdout",
     "output_type": "stream",
     "text": [
      "        Norm_mean  Tumor_mean  Norm_std  Tumor_std  stdratio        CODE                                        DESCRIPTION\n",
      "NAME                                                                                                                       \n",
      "SDHC     2.252911    2.826615  0.198894   0.459122  2.308381  HGNC:10682  Predicted to enable heme binding activity. Pre...\n",
      "SIM2    -2.986670   -0.474648  0.483191   1.707957  3.534748  HGNC:10883  Predicted to enable DNA-binding transcription ...\n",
      "TBX4     3.392331   -0.254923  0.705874   1.553770  2.201200  HGNC:11603  Predicted to enable DNA-binding transcription ...\n",
      "ZNF157  -4.162069   -4.498144  2.581526   4.081157  1.580909  HGNC:12942  Predicted to enable DNA-binding transcription ...\n",
      "CIC      3.277328    3.462740  0.442868   0.785067  1.772689  HGNC:14214  Predicted to enable DNA-binding transcription ...\n"
     ]
    }
   ],
   "source": [
    "#let's do that with the annotations too...\n",
    "final_targets2.set_index('NAME', inplace = True)\n",
    "print(final_targets2.head())"
   ]
  },
  {
   "cell_type": "code",
   "execution_count": 345,
   "id": "f00121a0-3180-43d6-a3fa-c13e5d2030f7",
   "metadata": {},
   "outputs": [
    {
     "name": "stdout",
     "output_type": "stream",
     "text": [
      "        Norm_mean  Tumor_mean  Norm_std  Tumor_std  stdratio  Norm_delta\n",
      "NAME                                                                    \n",
      "ASXL1    3.033214    2.965735  0.331737   0.568385  1.713361   -0.203412\n",
      "ATXN1L   2.987904    2.577886  0.395435   0.585538  1.480744   -1.036879\n",
      "CCDC40  -0.174904   -1.459606  1.190263   1.151161  0.967149   -1.079344\n",
      "CFC1B  -18.581555  -19.570268  4.052522   2.221798  0.548251   -0.243975\n",
      "CIC      3.277328    3.462740  0.442868   0.785067  1.772689    0.418660\n"
     ]
    }
   ],
   "source": [
    "#now once more:\n",
    "EDA_data.set_index('NAME', inplace=True)\n",
    "\n",
    "print(EDA_data.head())"
   ]
  },
  {
   "cell_type": "code",
   "execution_count": 346,
   "id": "27725926-2672-4ab6-a3c1-e5a78504c8d2",
   "metadata": {},
   "outputs": [
    {
     "name": "stdout",
     "output_type": "stream",
     "text": [
      "[3.392331231466092 -0.2549229077671009 0.7058737641016737\n",
      " 1.5537696752684174 2.2012004897870283 'HGNC:11603'\n",
      " 'Predicted to enable DNA-binding transcription factor activity, RNA polymerase II-specific and RNA polymerase II cis-regulatory region sequence-specific DNA binding activity. Involved in embryonic hindlimb morphogenesis; embryonic lung development; and skeletal system morphogenesis. Predicted to be part of chromatin. Predicted to be active in nucleus. Implicated in arthropathy and ischiocoxopodopatellar syndrome.']\n"
     ]
    }
   ],
   "source": [
    "print(final_targets2.loc['TBX4'].values) "
   ]
  },
  {
   "cell_type": "markdown",
   "id": "0a22fe53-360a-4199-aeac-704475bb5a04",
   "metadata": {},
   "source": [
    "## Returning to EDA"
   ]
  },
  {
   "cell_type": "code",
   "execution_count": 347,
   "id": "3ea1fcac-77d1-4265-b77f-1f15f05e20ba",
   "metadata": {},
   "outputs": [
    {
     "name": "stdout",
     "output_type": "stream",
     "text": [
      "         Norm_mean  Tumor_mean  Norm_std  Tumor_std  stdratio  Norm_delta\n",
      "NAME                                                                     \n",
      "SIM2     -2.986670   -0.474648  0.483191   1.707957  3.534748    5.198822\n",
      "NKIRAS2   2.731888    3.524384  0.200198   0.458122  2.288342    3.958553\n",
      "SDHC      2.252911    2.826615  0.198894   0.459122  2.308381    2.884476\n",
      "COPA      5.114477    5.545745  0.219132   0.442652  2.020019    1.968067\n",
      "TMEM38B   1.197102    2.058172  0.500399   1.024133  2.046632    1.720764\n",
      "SNHG20    0.124062    1.054194  0.579025   0.915609  1.581294    1.606377\n",
      "DPPA2   -17.706303   -9.603190  5.095698   8.993804  1.764980    1.590187\n",
      "MSH5     -2.524527   -1.087734  1.105124   1.227619  1.110843    1.300119\n",
      "MAN1A2    2.360571    2.624083  0.347194   0.590257  1.700078    0.758974\n",
      "CIC       3.277328    3.462740  0.442868   0.785067  1.772689    0.418660\n",
      "MAN2A1    1.996711    2.043456  0.343070   0.649092  1.892011    0.136256\n",
      "MIR367  -18.432784  -18.957262  5.086235   4.092002  0.804525   -0.103117\n",
      "ZNF157   -4.162069   -4.498144  2.581526   4.081157  1.580909   -0.130185\n",
      "ASXL1     3.033214    2.965735  0.331737   0.568385  1.713361   -0.203412\n",
      "DPPA4    -7.029122   -7.972699  4.061045   4.782399  1.177628   -0.232348\n",
      "CFC1B   -18.581555  -19.570268  4.052522   2.221798  0.548251   -0.243975\n",
      "LAMA3     3.410678    3.201375  0.699877   1.656641  2.367046   -0.299058\n",
      "ATXN1L    2.987904    2.577886  0.395435   0.585538  1.480744   -1.036879\n",
      "CCDC40   -0.174904   -1.459606  1.190263   1.151161  0.967149   -1.079344\n",
      "NAT2     -3.506457   -7.168037  2.592463   6.526202  2.517375   -1.412394\n"
     ]
    }
   ],
   "source": [
    "#I want to see the ranked list of targets:\n",
    "print(EDA_data.sort_values(by=['Norm_delta'], ascending=False).nlargest(20,'Norm_delta'))"
   ]
  },
  {
   "cell_type": "code",
   "execution_count": 348,
   "id": "19088c4a-672f-4332-be4d-96955355efc9",
   "metadata": {},
   "outputs": [
    {
     "name": "stdout",
     "output_type": "stream",
     "text": [
      "[-2.986669521076872 -0.47464785040660773 0.4831905783460199\n",
      " 1.7079571152546102 3.5347483825140253 'HGNC:10883'\n",
      " 'Predicted to enable DNA-binding transcription factor activity, RNA polymerase II-specific and RNA polymerase II transcription regulatory region sequence-specific DNA binding activity. Predicted to be involved in regulation of transcription by RNA polymerase II. Predicted to act upstream of or within embryonic pattern specification; lung development; and negative regulation of transcription by RNA polymerase II. Located in nuclear body.']\n"
     ]
    }
   ],
   "source": [
    "#ok, this is useful; 4 genes have 2stds difference or more, 11 have at least 1 std difference.  I wonder what SIM2 is doing:\n",
    "print(final_targets2.loc['SIM2'].values) "
   ]
  },
  {
   "cell_type": "markdown",
   "id": "bf66d3b0-6e89-4e9f-88ee-ac93c266da8d",
   "metadata": {},
   "source": [
    "It looks like we are on the right track; I'd like to look ata plot of the ranked absolute value of this ratio next."
   ]
  },
  {
   "cell_type": "code",
   "execution_count": 349,
   "id": "e50a8e3b-b509-4318-a683-27ff68749b70",
   "metadata": {},
   "outputs": [
    {
     "data": {
      "image/png": "[encoded data removed]",
      "text/plain": [
       "<Figure size 640x480 with 1 Axes>"
      ]
     },
     "metadata": {},
     "output_type": "display_data"
    }
   ],
   "source": [
    "abs_ND = EDA_data['Norm_delta'].abs()  #Here we are comparing absolute values for easier visualization\n",
    "Names = list(EDA_data.index)\n",
    "plt.bar(Names, abs_ND)\n",
    "plt.xticks(rotation='vertical')\n",
    "plt.show()"
   ]
  },
  {
   "cell_type": "markdown",
   "id": "5363d070-532b-4c50-88d3-bd10bb19c38e",
   "metadata": {},
   "source": [
    "Now we can see that many of these genes do look rather suspicious, with mean expression in tumor tissue many standard deviations out of line with the normal tissue expression levels.  In particular, FENDRR, SIM2 and TBX4 seem dramatically different in their behavior.  "
   ]
  },
  {
   "cell_type": "code",
   "execution_count": 350,
   "id": "dcce73b9-cd63-4e31-99fd-a20887b4ca39",
   "metadata": {},
   "outputs": [
    {
     "data": {
      "image/png": "[encoded data removed]",
      "text/plain": [
       "<Figure size 640x480 with 1 Axes>"
      ]
     },
     "metadata": {},
     "output_type": "display_data"
    }
   ],
   "source": [
    "sns.kdeplot(data=df4, x='FENDRR', hue=\"SampleType\", fill=True, common_norm=False, alpha=1)  #just using the prior df4 dataframe\n",
    "plt.show()"
   ]
  },
  {
   "cell_type": "code",
   "execution_count": 351,
   "id": "31b0c62f-5a07-41c5-a7ab-16ad6fb9d670",
   "metadata": {},
   "outputs": [
    {
     "data": {
      "image/png": "[encoded data removed]",
      "text/plain": [
       "<Figure size 640x480 with 1 Axes>"
      ]
     },
     "metadata": {},
     "output_type": "display_data"
    }
   ],
   "source": [
    "sns.kdeplot(data=df4, x='SIM2', hue=\"SampleType\", fill=True, common_norm=False, alpha=1)  #just using the prior df4 dataframe\n",
    "plt.show()"
   ]
  },
  {
   "cell_type": "code",
   "execution_count": 352,
   "id": "8ba69662-c4d2-4040-8d4c-56875769afa6",
   "metadata": {},
   "outputs": [
    {
     "data": {
      "image/png": "[encoded data removed]",
      "text/plain": [
       "<Figure size 640x480 with 1 Axes>"
      ]
     },
     "metadata": {},
     "output_type": "display_data"
    }
   ],
   "source": [
    "sns.kdeplot(data=df4, x='TBX4', hue=\"SampleType\", fill=True, common_norm=False, alpha=1)  #just using the prior df4 dataframe\n",
    "plt.show()"
   ]
  },
  {
   "cell_type": "markdown",
   "id": "8cd70c12-5db1-4abe-b3fb-5ba409abb5ad",
   "metadata": {},
   "source": [
    "# Summary:  Data Wrangling and EDA"
   ]
  },
  {
   "cell_type": "markdown",
   "id": "a21e8c8b-2091-442e-b751-200ac1ec5805",
   "metadata": {},
   "source": [
    "Thus far we have narrowed down our candidate gene set based on biological considerations using the annotations, and have shown that our hypothesis (that expression levels between normal and tumor tissue should differ markedly) appears to be true for most of the genes in our candidate set.  Next we will proceed with pre-processing and model development.  We may choose to add or remove some genes, but for now, will proceed with what we have found in 'final_targets2' for model development.  \n",
    "\n",
    "Note that for the above gene set, some of the genes are suppressed in tumor tissue; TBX4, for instance (recall that '0' is normal, and '1' is tumor. SIM2 is being activated in tumors, whereas TBX4 and FENDRR are being suppressed.  We expected to see up- and down-regulation of genes for the different tissue types.\n",
    "\n",
    "Entering this list of genes in the gene ontology resource (https://geneontology.org/) gives a number of key biological processes these genes are involved in:\n",
    "\n",
    "1) MutSgamma complex\tA heterodimer involved in the stabilization of DNA recombination intermediates, the promotion of crossover recombination, and the proper assembly of the synaptonemal complex in meiotic prophase nuclei. \n",
    "\n",
    "2) \tPR-DUB complex\tA multimeric protein complex that removes monoubiquitin from histone H2A. In Drosophila and mammals, the core of the complex is composed of Calypso/BAP1 and Asx/ASXL1, respectively. \n",
    "\n",
    "3) \tPolycomb repressive deubiquitinase complex\t\t7-dehydrocholesterol reductase activity\tCatalysis of the reaction: cholesterol + NADP+ = 7-dehydrocholesterol + H+ + NADyy\n",
    " \n",
    "4) \n",
    "\tinferior colliculus developme.nt\tThe process whose specific outcome is the progression of the inferior colliculus over time, from its formation to the mature structure. The inferior colliculus (IC) (Latin, lower hill) is the principal midbrain nucleus of the auditory pathway and receives input from several more peripheral brainstem nuclei in the auditory pathway, as well as inputs from the auditory ctex.\n",
    "\n",
    "The last is a curious find, to say the least.ss"
   ]
  },
  {
   "cell_type": "markdown",
   "id": "f605312d-5835-4593-a9ca-c373ce78039f",
   "metadata": {},
   "source": [
    "# 4. Preprocessing"
   ]
  },
  {
   "cell_type": "markdown",
   "id": "f0b789cf-fdfc-4987-93cb-5d3a5b17af09",
   "metadata": {},
   "source": [
    "First we need to construct the analysis dataframe, which should contain: gene name, log expression level/norm_std, label (0=normal, 1=tumor).  The ratio of log expression level/norm std is the variable we will model on.  \n",
    "\n",
    "That said:  we have to be careful to avoid data leakage.  So in fact, we have to follow our steps in a different order.  We have to do the train/test first, and then use only X_train to develop the standard deviation of expression for each gene in the set.  We then have to calculate X_train_norm and X_test_norm.  This approach prevents any mixing of training and test data.\n",
    "\n",
    "Finally, we have to do a stratified split because of the class imbalance."
   ]
  },
  {
   "cell_type": "markdown",
   "id": "db370b1d-046f-4aa1-9f50-13260e4dfb01",
   "metadata": {},
   "source": [
    "The desired final dataframe should have 551 rows; with 24 columns determined by the downselected Gene_list."
   ]
  },
  {
   "cell_type": "markdown",
   "id": "43bbfa9e-5719-4553-8e07-e0ceb677f197",
   "metadata": {},
   "source": [
    "Start with logdf and do a stratified split:"
   ]
  },
  {
   "cell_type": "code",
   "execution_count": 480,
   "id": "b050ad71-1b40-4834-9666-67548484678b",
   "metadata": {},
   "outputs": [
    {
     "name": "stdout",
     "output_type": "stream",
     "text": [
      "0  SampleType      A1BG  ...      ZYXP1     ZZEF1\n",
      "1         0.0 -3.205504  ... -19.931569  2.186673\n",
      "2         0.0 -3.393063  ... -19.931569  2.492329\n",
      "3         0.0 -3.365224  ... -19.931569  1.207431\n",
      "4         0.0 -4.538526  ... -19.931569  2.406747\n",
      "5         0.0 -3.395667  ... -19.931569  2.432784\n",
      "\n",
      "[5 rows x 56908 columns]\n"
     ]
    }
   ],
   "source": [
    "pd.options.display.max_columns = 5\n",
    "print(logdf.head())"
   ]
  },
  {
   "cell_type": "code",
   "execution_count": 481,
   "id": "2f458e08-9add-48c2-8301-4a939687024a",
   "metadata": {},
   "outputs": [],
   "source": [
    "X = logdf[Gene_list]   #at any time in the future we can modify the list and then update below.\n",
    "y = logdf['SampleType']  #this wouldn't have to be modified"
   ]
  },
  {
   "cell_type": "code",
   "execution_count": 482,
   "id": "cf81ba1a-88bd-458b-b3c1-4b92eeafef8f",
   "metadata": {},
   "outputs": [],
   "source": [
    "from sklearn.model_selection import train_test_split\n",
    "\n",
    "X_train, X_test, y_train, y_test = train_test_split(\n",
    "    X, y, test_size=0.33, stratify = y, random_state=4)"
   ]
  },
  {
   "cell_type": "code",
   "execution_count": 483,
   "id": "2d4c008b-899c-4d39-aae8-a75f706a26b5",
   "metadata": {},
   "outputs": [
    {
     "data": {
      "text/plain": [
       "(369, 24)"
      ]
     },
     "execution_count": 483,
     "metadata": {},
     "output_type": "execute_result"
    }
   ],
   "source": [
    "X_train.shape   #Checking the outcome of the split--looks good"
   ]
  },
  {
   "cell_type": "code",
   "execution_count": 484,
   "id": "dea63a54-211a-4bd2-8c02-90d5d4c3cced",
   "metadata": {},
   "outputs": [
    {
     "name": "stdout",
     "output_type": "stream",
     "text": [
      "336.0\n"
     ]
    }
   ],
   "source": [
    "print(y_train.sum())  #336 tumor out of 369, so, 33 normals...I guess this is ok then, 16 left in the test set."
   ]
  },
  {
   "cell_type": "markdown",
   "id": "77b767d0-ae8d-40aa-880f-a75ee9bc8666",
   "metadata": {},
   "source": [
    "## Procedure"
   ]
  },
  {
   "cell_type": "markdown",
   "id": "9f08eced-7e68-4bf7-9d6e-fb47894cb310",
   "metadata": {},
   "source": [
    "In the next few lines, I will mask out the tumor rows and take standard deviation for X_train.  Then, I will convert that series into a dataframe, concatenate with the original X_train so that the last row contains the normal standard deviations.  Finally, I will divide each column by that final value--and at last we will be ready to model!  (Well, I will drop the last row with the stds, just to keep things clean, too)."
   ]
  },
  {
   "cell_type": "code",
   "execution_count": 485,
   "id": "4ded947c-77f6-467b-be16-32e86cd638cc",
   "metadata": {},
   "outputs": [],
   "source": [
    "mask = y_train == 0  #want to use the mask (true values) to calculate STD on X_train"
   ]
  },
  {
   "cell_type": "code",
   "execution_count": 486,
   "id": "75de1563-31e5-4181-8541-0e0a2a8da865",
   "metadata": {},
   "outputs": [
    {
     "name": "stdout",
     "output_type": "stream",
     "text": [
      "0\n",
      "SDHC       0.199427\n",
      "SIM2       0.520479\n",
      "TBX4       0.726051\n",
      "ZNF157     1.016902\n",
      "CIC        0.499404\n",
      "NKIRAS2    0.215393\n",
      "NKIRAS1    0.312395\n",
      "ASXL1      0.313064\n",
      "DPPA2      5.687924\n",
      "DPPA4      4.329418\n",
      "STK40      0.349309\n",
      "COPA       0.233343\n",
      "TMEM38B    0.583302\n",
      "CCDC40     1.205920\n",
      "MIR367     4.346785\n",
      "SNHG20     0.576038\n",
      "ATXN1L     0.390425\n",
      "CFC1B      3.986311\n",
      "FENDRR     0.807655\n",
      "LAMA3      0.757120\n",
      "MAN1A2     0.344491\n",
      "MAN2A1     0.365254\n",
      "MSH5       1.121157\n",
      "NAT2       3.110032\n",
      "dtype: float64\n"
     ]
    }
   ],
   "source": [
    "X_std = X_train[mask][Gene_list].std()  #ok, now we have the standard deviations for the normal tissue, training set only\n",
    "print(X_std)"
   ]
  },
  {
   "cell_type": "code",
   "execution_count": 503,
   "id": "fcd90241-d0ca-49d7-90c2-7ee6024f499b",
   "metadata": {},
   "outputs": [
    {
     "name": "stdout",
     "output_type": "stream",
     "text": [
      "0      SDHC      SIM2  ...      MSH5      NAT2\n",
      "0  0.199427  0.520479  ...  1.121157  3.110032\n",
      "\n",
      "[1 rows x 24 columns]\n"
     ]
    }
   ],
   "source": [
    "new_row = pd.DataFrame(X_std)\n",
    "print(new_row.T)"
   ]
  },
  {
   "cell_type": "code",
   "execution_count": 528,
   "id": "185c5a48-f179-4991-98f7-cbc9e0c93862",
   "metadata": {},
   "outputs": [
    {
     "name": "stdout",
     "output_type": "stream",
     "text": [
      "0        SDHC      SIM2  ...      MSH5       NAT2\n",
      "318  2.393629  1.247791  ... -0.410492  -2.002321\n",
      "58   3.813081 -0.788389  ... -2.249729  -5.656084\n",
      "526  3.169623 -0.473980  ... -0.664562  -1.620603\n",
      "360  2.651125  1.076419  ...  0.847728 -19.931569\n",
      "0    0.199427  0.520479  ...  1.121157   3.110032\n",
      "\n",
      "[5 rows x 24 columns]\n"
     ]
    }
   ],
   "source": [
    "X_nm = pd.concat([X_train, new_row.T]) \n",
    "print(X_nm.tail())  "
   ]
  },
  {
   "cell_type": "code",
   "execution_count": 522,
   "id": "d1e1f741-e0c6-4b6e-a9f8-f7f024aec0f4",
   "metadata": {},
   "outputs": [
    {
     "name": "stdout",
     "output_type": "stream",
     "text": [
      "0        SDHC      SIM2  ...      MSH5       NAT2\n",
      "166  2.576747 -0.274803  ... -1.333553 -19.931569\n",
      "318  2.393629  1.247791  ... -0.410492  -2.002321\n",
      "58   3.813081 -0.788389  ... -2.249729  -5.656084\n",
      "526  3.169623 -0.473980  ... -0.664562  -1.620603\n",
      "360  2.651125  1.076419  ...  0.847728 -19.931569\n",
      "\n",
      "[5 rows x 24 columns]\n"
     ]
    }
   ],
   "source": [
    "print(X_train.tail())  #for comparison.  Ok, so these look fine."
   ]
  },
  {
   "cell_type": "markdown",
   "id": "209b2aa7-072d-4a38-916a-c8489fa9bdc8",
   "metadata": {},
   "source": [
    "## Final steps"
   ]
  },
  {
   "cell_type": "markdown",
   "id": "22e8b2e5-2795-42fb-874b-77ce4439bccd",
   "metadata": {},
   "source": [
    "We now have the standard deviation of the normal samples only tacked on at the end of each column (which you can see at the bottom of X_nm, but not present in the original X_train).  Last thing to do is to divide all the values in each column by that final value.  We'll do this first with X_train, then repeat the process with X_test.\n",
    "\n",
    "If need be these steps can be put into a custom function in case the Gene_list varies a lot (which I don't anticipate, but may happen)."
   ]
  },
  {
   "cell_type": "code",
   "execution_count": 523,
   "id": "5627cd5f-d7db-42e0-8990-ba3b031a694a",
   "metadata": {},
   "outputs": [
    {
     "data": {
      "text/plain": [
       "(370, 24)"
      ]
     },
     "execution_count": 523,
     "metadata": {},
     "output_type": "execute_result"
    }
   ],
   "source": [
    "X_nm.shape  #I want to use indexing, somehow, to reference the last row"
   ]
  },
  {
   "cell_type": "code",
   "execution_count": 529,
   "id": "732c5239-16a8-4018-bef9-5c374bfc31e4",
   "metadata": {},
   "outputs": [
    {
     "name": "stdout",
     "output_type": "stream",
     "text": [
      "0         SDHC      SIM2  ...      MSH5      NAT2\n",
      "245  11.601709 -2.680649  ... -2.086565 -0.706452\n",
      "34   12.051121 -5.805099  ... -2.677834 -0.661282\n",
      "506  14.099356  2.234560  ... -0.690303 -1.821754\n",
      "412  13.707076  0.533881  ...  0.249583 -6.408798\n",
      "247  13.509179 -1.297056  ...  0.120554 -6.408798\n",
      "..         ...       ...  ...       ...       ...\n",
      "318  12.002559  2.397388  ... -0.366132 -0.643827\n",
      "58   19.120222 -1.514737  ... -2.006613 -1.818657\n",
      "526  15.893682 -0.910660  ... -0.592746 -0.521089\n",
      "360  13.293738  2.068131  ...  0.756118 -6.408798\n",
      "0     1.000000  1.000000  ...  1.000000  1.000000\n",
      "\n",
      "[370 rows x 24 columns]\n"
     ]
    }
   ],
   "source": [
    "X_normed = X_nm.div(X_nm.iloc[369])   #ok, this worked.\n",
    "print(X_normed)   "
   ]
  },
  {
   "cell_type": "code",
   "execution_count": 533,
   "id": "1bb50b22-baaf-402a-84e7-e8c96acb6bf6",
   "metadata": {},
   "outputs": [],
   "source": [
    "X_normed.drop(X_normed.tail(1).index,\n",
    "        inplace = True)"
   ]
  },
  {
   "cell_type": "code",
   "execution_count": 535,
   "id": "19a1e317-ff9b-4d89-b0be-90189f52fbc1",
   "metadata": {},
   "outputs": [
    {
     "data": {
      "text/plain": [
       "(369, 24)"
      ]
     },
     "execution_count": 535,
     "metadata": {},
     "output_type": "execute_result"
    }
   ],
   "source": [
    "X_normed.shape"
   ]
  },
  {
   "cell_type": "markdown",
   "id": "7f48d96e-1c8f-4631-a04b-023ef09440ef",
   "metadata": {},
   "source": [
    "Now let's do the same for X_test: add the final row with the *training sample* standard dev, divide, and drop final row:"
   ]
  },
  {
   "cell_type": "code",
   "execution_count": 536,
   "id": "5fec2d84-f045-49d2-b6cf-1488c3d71b86",
   "metadata": {},
   "outputs": [
    {
     "name": "stdout",
     "output_type": "stream",
     "text": [
      "0        SDHC      SIM2  ...      MSH5      NAT2\n",
      "87   3.261726 -1.128819  ... -2.854613 -4.261016\n",
      "161  2.560663  1.641049  ... -0.329908 -2.888322\n",
      "73   3.354530 -3.398621  ...  1.196603 -2.565953\n",
      "441  2.995755 -0.599680  ... -1.579006 -1.525995\n",
      "0    0.199427  0.520479  ...  1.121157  3.110032\n",
      "\n",
      "[5 rows x 24 columns]\n"
     ]
    }
   ],
   "source": [
    "X_nt = pd.concat([X_test, new_row.T]) \n",
    "print(X_nt.tail())  "
   ]
  },
  {
   "cell_type": "code",
   "execution_count": 538,
   "id": "0988e97a-23c9-4fed-8619-c8210b0acc3f",
   "metadata": {},
   "outputs": [
    {
     "data": {
      "text/plain": [
       "(183, 24)"
      ]
     },
     "execution_count": 538,
     "metadata": {},
     "output_type": "execute_result"
    }
   ],
   "source": [
    "X_nt.shape"
   ]
  },
  {
   "cell_type": "code",
   "execution_count": 540,
   "id": "5157b6f3-9940-4c3b-9fdd-b3c09426b6d2",
   "metadata": {},
   "outputs": [
    {
     "name": "stdout",
     "output_type": "stream",
     "text": [
      "0         SDHC       SIM2  ...      MSH5      NAT2\n",
      "65   12.740609  -4.220879  ... -0.249490 -6.408798\n",
      "493  19.485544  -6.070189  ... -3.274365 -6.408798\n",
      "215  12.591481 -10.227481  ... -2.082261 -1.134099\n",
      "365  14.209131   2.937429  ...  1.204665 -6.408798\n",
      "191  17.124452   2.645187  ...  0.103073 -1.133343\n",
      "..         ...        ...  ...       ...       ...\n",
      "87   16.355524  -2.168807  ... -2.546130 -1.370087\n",
      "161  12.840126   3.152957  ... -0.294256 -0.928711\n",
      "73   16.820876  -6.529792  ...  1.067293 -0.825057\n",
      "441  15.021844  -1.152168  ... -1.408371 -0.490668\n",
      "0     1.000000   1.000000  ...  1.000000  1.000000\n",
      "\n",
      "[183 rows x 24 columns]\n"
     ]
    }
   ],
   "source": [
    "X_ntest = X_nt.div(X_nt.iloc[182])   #division step "
   ]
  },
  {
   "cell_type": "code",
   "execution_count": 541,
   "id": "213ff686-485d-49f3-8f8d-793796420724",
   "metadata": {},
   "outputs": [
    {
     "name": "stdout",
     "output_type": "stream",
     "text": [
      "0         SDHC      SIM2  ...      MSH5      NAT2\n",
      "327  14.366838  0.204589  ... -0.912384 -1.911644\n",
      "87   16.355524 -2.168807  ... -2.546130 -1.370087\n",
      "161  12.840126  3.152957  ... -0.294256 -0.928711\n",
      "73   16.820876 -6.529792  ...  1.067293 -0.825057\n",
      "441  15.021844 -1.152168  ... -1.408371 -0.490668\n",
      "\n",
      "[5 rows x 24 columns]\n"
     ]
    }
   ],
   "source": [
    "X_ntest.drop(X_ntest.tail(1).index,\n",
    "        inplace = True)\n",
    "print(X_ntest.tail())"
   ]
  },
  {
   "cell_type": "markdown",
   "id": "47fe9681-4778-4b4f-8cde-800853aea5ec",
   "metadata": {},
   "source": [
    "## Summary--preprocessing"
   ]
  },
  {
   "cell_type": "markdown",
   "id": "a2cfe6bd-1ea6-47d9-89a7-f75a5c8942c2",
   "metadata": {},
   "source": [
    "We now have our train/test split, properly stratified, with the data normalized using only the X_train normal standard deviation values.  This process took a lot more work than usual, even though there weren't any categorical variables to deal with.  We couldn't really use Standard Scaler, and had to be careful to avoid data leakage.  Now we are ready to model.  (As mentioned earlier, we may automate these steps if need be).\n",
    "\n",
    "Going forward, we use X_normed in place of X_train, and X_ntest in place of X_test. y_train, y_test stay the same."
   ]
  },
  {
   "cell_type": "markdown",
   "id": "786a14c7-9524-4c95-aa0a-94925510faf7",
   "metadata": {},
   "source": [
    "# 5. Model development"
   ]
  },
  {
   "cell_type": "markdown",
   "id": "53cf488a-008c-48f3-b129-81caf0124458",
   "metadata": {},
   "source": [
    "Ideally, it would be great to divide the dataset into three, with a training set, a development set, and a test set, but we have to work with what we've got.  For now I've chosen a one third split (above) between training/test; it's not really optimal to do tuning on the training set, but here we are."
   ]
  },
  {
   "cell_type": "markdown",
   "id": "455736c9-a290-4f14-bbf0-279c9ec96285",
   "metadata": {},
   "source": [
    "### 5.1 Logistic regression"
   ]
  },
  {
   "cell_type": "code",
   "execution_count": 424,
   "id": "6760e420-205c-4a40-93b5-a43637a90898",
   "metadata": {},
   "outputs": [],
   "source": [
    "from sklearn.model_selection import KFold\n",
    "from sklearn.linear_model import LogisticRegression\n",
    "from sklearn.metrics import accuracy_score, f1_score\n",
    "from sklearn.metrics import classification_report\n",
    "from sklearn.metrics import confusion_matrix\n",
    "from sklearn.metrics import ConfusionMatrixDisplay"
   ]
  },
  {
   "cell_type": "code",
   "execution_count": 542,
   "id": "36eefbc5-b9fa-496b-9484-5a281f7d4320",
   "metadata": {},
   "outputs": [
    {
     "name": "stdout",
     "output_type": "stream",
     "text": [
      "Accuracy on training data: 1.00\n"
     ]
    }
   ],
   "source": [
    "classifier = LogisticRegression(solver = 'liblinear', max_iter = 500, C=1000)\n",
    "classifier.fit(X_normed, y_train)\n",
    "print(f'Accuracy on training data: {accuracy_score(classifier.predict(X_normed), y_train):.2f}')"
   ]
  },
  {
   "cell_type": "code",
   "execution_count": 543,
   "id": "e3438629-c770-4dba-b1c4-9df03e898493",
   "metadata": {},
   "outputs": [
    {
     "name": "stdout",
     "output_type": "stream",
     "text": [
      "Accuracy on test data: 0.96\n"
     ]
    }
   ],
   "source": [
    "print(f'Accuracy on test data: {accuracy_score(classifier.predict(X_ntest), y_test):.2f}')"
   ]
  },
  {
   "cell_type": "markdown",
   "id": "ae47193b-cc89-4137-86b5-e04937b8451f",
   "metadata": {},
   "source": [
    "Let's go a little further with this:"
   ]
  },
  {
   "cell_type": "code",
   "execution_count": 544,
   "id": "cd350855-387c-4a28-b68f-8cc913640872",
   "metadata": {},
   "outputs": [
    {
     "name": "stdout",
     "output_type": "stream",
     "text": [
      "Classification Report for Test Data\n",
      "              precision    recall  f1-score   support\n",
      "\n",
      "         0.0       0.70      0.88      0.78        16\n",
      "         1.0       0.99      0.96      0.98       166\n",
      "\n",
      "    accuracy                           0.96       182\n",
      "   macro avg       0.84      0.92      0.88       182\n",
      "weighted avg       0.96      0.96      0.96       182\n",
      "\n"
     ]
    }
   ],
   "source": [
    "print(\"Classification Report for Test Data\")\n",
    "print(classification_report(y_test, classifier.predict(X_ntest)))"
   ]
  },
  {
   "cell_type": "markdown",
   "id": "223292c8-8a3b-427f-94f1-c9c001e58288",
   "metadata": {},
   "source": [
    "Aha, well it's not perfect; it's great at finding the tumor tissue, but sometimes misses normal tissue.  Not really surprising with a small numer of normal samples overall."
   ]
  },
  {
   "cell_type": "code",
   "execution_count": 545,
   "id": "4d333fe3-2de6-4c91-b6cb-9977581a8bf1",
   "metadata": {},
   "outputs": [],
   "source": [
    "y_pred = classifier.predict(X_ntest)  #let's keep this handy"
   ]
  },
  {
   "cell_type": "code",
   "execution_count": 546,
   "id": "8468626c-3596-4594-b6a7-22dda7e6fc73",
   "metadata": {},
   "outputs": [
    {
     "data": {
      "text/plain": [
       "<sklearn.metrics._plot.confusion_matrix.ConfusionMatrixDisplay at 0x1f8b6f1a710>"
      ]
     },
     "execution_count": 546,
     "metadata": {},
     "output_type": "execute_result"
    },
    {
     "data": {
      "image/png": "[encoded data removed]",
      "text/plain": [
       "<Figure size 640x480 with 2 Axes>"
      ]
     },
     "metadata": {},
     "output_type": "display_data"
    }
   ],
   "source": [
    "cm = confusion_matrix(y_test, y_pred)\n",
    "_, ax = plt.subplots()\n",
    "display_cm = ConfusionMatrixDisplay(confusion_matrix = cm, \n",
    "                                    display_labels = ['normal', 'tumor'])\n",
    "ax.set_xticks([0, 1])\n",
    "ax.set_yticks([0, 1])\n",
    "ax.set_xticklabels(labels = ['normal', 'tumor'], fontsize = 8)\n",
    "ax.set_yticklabels(labels = ['normal', 'tumor'], fontsize = 8)\n",
    "display_cm.plot(ax = ax)"
   ]
  },
  {
   "cell_type": "markdown",
   "id": "bdd3c17a-e0f0-4619-ba85-4b9455923f2f",
   "metadata": {},
   "source": [
    "This looks like a good start.  Perhaps we should tune the model next."
   ]
  },
  {
   "cell_type": "code",
   "execution_count": 547,
   "id": "c8fa6e1e-d7d2-4bbf-8695-bdbb221028e8",
   "metadata": {},
   "outputs": [
    {
     "name": "stdout",
     "output_type": "stream",
     "text": [
      "    Feature  Importance\n",
      "13   CCDC40    5.202279\n",
      "12  TMEM38B    4.931180\n",
      "4       CIC    2.930689\n",
      "22     MSH5    2.868202\n",
      "0      SDHC    2.844702\n",
      "1      SIM2    2.780806\n",
      "23     NAT2    1.302780\n",
      "3    ZNF157    1.093700\n",
      "10    STK40    0.995118\n",
      "5   NKIRAS2    0.781099\n",
      "15   SNHG20    0.585136\n",
      "19    LAMA3    0.029760\n",
      "7     ASXL1   -0.173980\n",
      "9     DPPA4   -0.214109\n",
      "20   MAN1A2   -0.841604\n",
      "8     DPPA2   -1.016413\n",
      "21   MAN2A1   -1.032632\n",
      "2      TBX4   -1.099089\n",
      "16   ATXN1L   -1.483904\n",
      "11     COPA   -1.610834\n",
      "14   MIR367   -1.684682\n",
      "17    CFC1B   -3.569829\n",
      "6   NKIRAS1   -3.616764\n",
      "18   FENDRR   -5.074418\n"
     ]
    }
   ],
   "source": [
    "feature_importances= classifier.coef_[0]\n",
    "feature_df = pd.DataFrame({'Feature': X_normed.columns, 'Importance': feature_importances})\n",
    "feature_df = feature_df.sort_values('Importance', ascending=False)\n",
    "print(feature_df)"
   ]
  },
  {
   "cell_type": "markdown",
   "id": "d0ed9eb7-470c-4734-a058-d7c0148c584e",
   "metadata": {},
   "source": [
    "### 5.1a Bio-break and sanity checks"
   ]
  },
  {
   "cell_type": "markdown",
   "id": "9412b915-94a2-450f-b6fd-ccf41c174af6",
   "metadata": {},
   "source": [
    "The rankings above are a little different from the ratios calculated during EDA, but that's ok.  Let's re-examine the annotations."
   ]
  },
  {
   "cell_type": "code",
   "execution_count": 549,
   "id": "055c47e7-3d9e-414b-aba9-93e9e6f6eb1c",
   "metadata": {},
   "outputs": [
    {
     "name": "stdout",
     "output_type": "stream",
     "text": [
      "[-0.1749035458787888 -1.4596063653576157 1.1902630504126877\n",
      " 1.1511613929206603 0.9671487260917072 'HGNC:26090'\n",
      " 'Involved in axonemal dynein complex assembly; determination of left/right symmetry; and lung development. Acts upstream of or within cilium assembly; flagellated sperm motility; and regulation of cilium beat frequency. Located in axoneme. Implicated in primary ciliary dyskinesia 15.']\n"
     ]
    }
   ],
   "source": [
    "print(final_targets2.loc['CCDC40'].values) "
   ]
  },
  {
   "cell_type": "markdown",
   "id": "8c425a5c-a12b-453d-8b94-bcc8f20dd65d",
   "metadata": {},
   "source": [
    "Primary ciliary dyskinesia is a rare inherited disorder which can result in lung infections, as the cilia work to clear lung airways of debris and pathogens. Because it is rare, it makes sense to keep this gene in the set; moreover, ciliary dyskinesia could be secondary to lung cell squamous cell cancer."
   ]
  },
  {
   "cell_type": "code",
   "execution_count": 551,
   "id": "2a5f8d85-049a-44ea-9a95-cc8ad0929cae",
   "metadata": {},
   "outputs": [
    {
     "name": "stdout",
     "output_type": "stream",
     "text": [
      "[1.1971022776499096 2.058171532561923 0.5003994895325917\n",
      " 1.0241334876539683 2.046631759378054 'HGNC:25535'\n",
      " 'Predicted to enable potassium channel activity. Predicted to be involved in potassium ion transmembrane transport. Predicted to act upstream of or within several processes, including cellular response to caffeine; lung development; and regulation of cardiac muscle contraction by regulation of the release of sequestered calcium ion. Located in nucleus. Implicated in osteogenesis imperfecta type 14.']\n"
     ]
    }
   ],
   "source": [
    "print(final_targets2.loc['TMEM38B'].values) "
   ]
  },
  {
   "cell_type": "markdown",
   "id": "51479958-b63c-42fa-9f2c-6f0ad3613d9b",
   "metadata": {},
   "source": [
    "Well, these are critically important cellular functions. (And where would we be without caffeine?)"
   ]
  },
  {
   "cell_type": "code",
   "execution_count": 552,
   "id": "a55151ff-766d-45d6-9a49-c3e84720bb61",
   "metadata": {},
   "outputs": [
    {
     "name": "stdout",
     "output_type": "stream",
     "text": [
      "[3.2773284396076114 3.4627395306176756 0.4428677767693778\n",
      " 0.7850667951850839 1.7726889070863816 'HGNC:14214'\n",
      " 'Predicted to enable DNA-binding transcription factor activity, RNA polymerase II-specific and RNA polymerase II transcription regulatory region sequence-specific DNA binding activity. Predicted to be involved in several processes, including learning or memory; regulation of DNA-templated transcription; and social behavior. Predicted to act upstream of or within lung alveolus development and negative regulation of transcription by RNA polymerase II. Located in nucleoplasm. Implicated in autosomal dominant intellectual developmental disorder 45.']\n"
     ]
    }
   ],
   "source": [
    "print(final_targets2.loc['CIC'].values) "
   ]
  },
  {
   "cell_type": "markdown",
   "id": "48eed410-60bc-47c6-bace-049202625e6c",
   "metadata": {},
   "source": [
    "Here there is some overlap in activity with unrelated tissue types...hold for now."
   ]
  },
  {
   "cell_type": "code",
   "execution_count": 562,
   "id": "526e9acd-f86d-4190-b3fe-bec1dbd3a31f",
   "metadata": {},
   "outputs": [
    {
     "name": "stdout",
     "output_type": "stream",
     "text": [
      "[-2.5245268269426258 -1.087734060892827 1.105123881891961\n",
      " 1.2276194200847326 1.110843263999562 'HGNC:7328'\n",
      " 'Predicted to enable double-stranded DNA binding activity. Predicted to be involved in chiasma assembly. Predicted to act upstream of or within female gamete generation and homologous chromosome pairing at meiosis. Predicted to be located in synaptonemal complex. Predicted to be active in nucleus. Implicated in lung non-small cell carcinoma; primary ovarian insufficiency 13; and spermatogenic failure.']\n"
     ]
    }
   ],
   "source": [
    "print(final_targets2.loc['MSH5'].values) "
   ]
  },
  {
   "cell_type": "markdown",
   "id": "711dfc3b-4063-4c7f-8043-debdfa5ce23f",
   "metadata": {},
   "source": [
    "While I see non-specific activity here, I don't see any other overlap with lung cancer, so for now, I'll keep it."
   ]
  },
  {
   "cell_type": "code",
   "execution_count": 563,
   "id": "40373779-7069-4a93-ad57-407dd9d6204d",
   "metadata": {},
   "outputs": [
    {
     "name": "stdout",
     "output_type": "stream",
     "text": [
      "[2.252910856105114 2.8266147078194517 0.19889362401392296\n",
      " 0.4591223035740862 2.308381205532997 'HGNC:10682'\n",
      " 'Predicted to enable heme binding activity. Predicted to be involved in mitochondrial electron transport, succinate to ubiquinone. Predicted to be located in mitochondrial inner membrane. Implicated in Carney-Stratakis syndrome; gastrointestinal stromal tumor; lung non-small cell carcinoma; and paraganglioma.']\n"
     ]
    }
   ],
   "source": [
    "print(final_targets2.loc['SDHC'].values) "
   ]
  },
  {
   "cell_type": "markdown",
   "id": "0e7b2613-db75-4c6f-838c-270cf2f0d9dc",
   "metadata": {},
   "source": [
    "Now here we have a gene which isn't really specific to lung cell cancer, so it should be removed. UGH!"
   ]
  },
  {
   "cell_type": "code",
   "execution_count": 564,
   "id": "dc1f525a-3bdd-4572-9e87-adc0038cb943",
   "metadata": {},
   "outputs": [
    {
     "name": "stdout",
     "output_type": "stream",
     "text": [
      "[-2.986669521076872 -0.47464785040660773 0.4831905783460199\n",
      " 1.7079571152546102 3.5347483825140253 'HGNC:10883'\n",
      " 'Predicted to enable DNA-binding transcription factor activity, RNA polymerase II-specific and RNA polymerase II transcription regulatory region sequence-specific DNA binding activity. Predicted to be involved in regulation of transcription by RNA polymerase II. Predicted to act upstream of or within embryonic pattern specification; lung development; and negative regulation of transcription by RNA polymerase II. Located in nuclear body.']\n"
     ]
    }
   ],
   "source": [
    "print(final_targets2.loc['SIM2'].values) "
   ]
  },
  {
   "cell_type": "markdown",
   "id": "11b4f1ee-a114-490d-b58e-ebae598e0334",
   "metadata": {},
   "source": [
    "We can keep this."
   ]
  },
  {
   "cell_type": "code",
   "execution_count": 565,
   "id": "fa244c0f-6782-4ac4-b709-06d3262e7da7",
   "metadata": {},
   "outputs": [
    {
     "name": "stdout",
     "output_type": "stream",
     "text": [
      "[-3.5064566188472863 -7.168036605992753 2.5924634602425956\n",
      " 6.5262022450223425 2.51737482325465 'HGNC:7646'\n",
      " 'Predicted to enable arylamine N-acetyltransferase activity. Predicted to be involved in xenobiotic metabolic process. Predicted to be located in cytosol. Implicated in several diseases, including autoimmune disease (multiple); carcinoma (multiple); contact dermatitis (multiple); leukemia (multiple); and lung disease (multiple).']\n"
     ]
    }
   ],
   "source": [
    "print(final_targets2.loc['NAT2'].values) "
   ]
  },
  {
   "cell_type": "markdown",
   "id": "ad989a54-7ad2-4cb5-9b4c-684db9fc05ed",
   "metadata": {},
   "source": [
    "Sigh, this one has to go as well.  Non-specific!"
   ]
  },
  {
   "cell_type": "code",
   "execution_count": 566,
   "id": "4b2b8c6f-311a-408c-83e4-1177d91c8744",
   "metadata": {},
   "outputs": [
    {
     "name": "stdout",
     "output_type": "stream",
     "text": [
      "[-4.1620687928804685 -4.498144228723901 2.5815260044626465\n",
      " 4.081157220446414 1.580908816487371 'HGNC:12942'\n",
      " 'Predicted to enable DNA-binding transcription factor activity, RNA polymerase II-specific and RNA polymerase II cis-regulatory region sequence-specific DNA binding activity. Predicted to be involved in regulation of transcription by RNA polymerase II. Predicted to act upstream of or within lung alveolus development; mammary gland morphogenesis; and regulation of cell fate commitment. Predicted to be active in nucleus.']\n"
     ]
    }
   ],
   "source": [
    "print(final_targets2.loc['ZNF157'].values) "
   ]
  },
  {
   "cell_type": "markdown",
   "id": "a3c90f46-053c-4522-94b3-d55fcede67c8",
   "metadata": {},
   "source": [
    "Ok, we can keep it."
   ]
  },
  {
   "cell_type": "code",
   "execution_count": 568,
   "id": "8d83476f-be99-4e64-9cd8-b1c79d05df1a",
   "metadata": {},
   "outputs": [
    {
     "name": "stdout",
     "output_type": "stream",
     "text": [
      "[4.13905014284157 3.567808999861877 0.376918388281853 0.6476989889298946\n",
      " 1.7184064483623884 'HGNC:21373'\n",
      " 'Predicted to enable ATP binding activity; protein serine kinase activity; and protein serine/threonine kinase activity. Predicted to act upstream of or within several processes, including glycogen metabolic process; lung development; and respiratory system process. Located in cytosol and nucleoplasm.']\n"
     ]
    }
   ],
   "source": [
    "print(final_targets2.loc['STK40'].values) "
   ]
  },
  {
   "cell_type": "markdown",
   "id": "03c83fb7-b3ec-4226-9445-598a8995493c",
   "metadata": {},
   "source": [
    "No problems here."
   ]
  },
  {
   "cell_type": "code",
   "execution_count": 569,
   "id": "544a5b34-faed-4a04-b027-1a79a28e56e5",
   "metadata": {},
   "outputs": [
    {
     "name": "stdout",
     "output_type": "stream",
     "text": [
      "[2.7318883428877307 3.524383966880439 0.2001982980391666 0.458122262453363\n",
      " 2.2883424431697037 'HGNC:17898'\n",
      " 'Predicted to enable GTPase activating protein binding activity. Predicted to be involved in Ral protein signal transduction. Predicted to act upstream of or within several processes, including lung alveolus development; regulation of signal transduction; and surfactant homeostasis. Predicted to be located in cytoplasm.']\n"
     ]
    }
   ],
   "source": [
    "print(final_targets2.loc['NKIRAS2'].values) "
   ]
  },
  {
   "cell_type": "markdown",
   "id": "e75e275d-d4f4-4130-ad24-8c8c9e9a0e62",
   "metadata": {},
   "source": [
    "No problems with this either."
   ]
  },
  {
   "cell_type": "code",
   "execution_count": 570,
   "id": "23e82d0c-26df-40c7-a316-92f5c1dffb9a",
   "metadata": {},
   "outputs": [
    {
     "name": "stdout",
     "output_type": "stream",
     "text": [
      "[0.12406179755237405 1.0541939117011958 0.5790247749533721\n",
      " 0.9156086097345812 1.5812943579284904 'HGNC:33099'\n",
      " 'Predicted to be involved in cellular response to fatty acid; gene expression; and macrophage activation. Implicated in lung non-small cell carcinoma.']\n"
     ]
    }
   ],
   "source": [
    "print(final_targets2.loc['SNHG20'].values) "
   ]
  },
  {
   "cell_type": "markdown",
   "id": "895e1b62-7969-468c-976c-f9ff269d6874",
   "metadata": {},
   "source": [
    "'Implicated' is ok, especially when it's specific to what we're looking for."
   ]
  },
  {
   "cell_type": "code",
   "execution_count": 567,
   "id": "172fecb1-f68a-412d-952c-3e11b0e99dc2",
   "metadata": {},
   "outputs": [
    {
     "name": "stdout",
     "output_type": "stream",
     "text": [
      "[3.410678313299039 3.2013748326449836 0.6998769899690653\n",
      " 1.6566408814547224 2.367045788329098 'HGNC:6483'\n",
      " 'Predicted to enable integrin binding activity. Predicted to be an extracellular matrix structural constituent. Involved in endodermal cell differentiation. Located in endoplasmic reticulum. Implicated in junctional epidermolysis bullosa and lung small cell carcinoma.']\n"
     ]
    }
   ],
   "source": [
    "print(final_targets2.loc['LAMA3'].values) "
   ]
  },
  {
   "cell_type": "markdown",
   "id": "6d7d0874-49a3-43db-a374-7744f7939379",
   "metadata": {},
   "source": [
    "*Implicated* in the kind of carcinoma we are interested in, but unfortunately, it's of low predictive value. (JEB is a rare inherited disorder, no worries on that)."
   ]
  },
  {
   "cell_type": "code",
   "execution_count": 571,
   "id": "fb2bd205-60cb-4c63-adfb-da4f334cc450",
   "metadata": {},
   "outputs": [
    {
     "name": "stdout",
     "output_type": "stream",
     "text": [
      "[3.0332137997143658 2.965734542664676 0.3317370866336717\n",
      " 0.5683853393518026 1.713360857899663 'HGNC:18318'\n",
      " 'Predicted to enable several functions, including nuclear retinoic acid receptor binding activity; peroxisome proliferator activated receptor binding activity; and transcription coactivator activity. Predicted to be involved in several processes, including negative regulation of fat cell differentiation; regulation of intracellular signal transduction; and response to retinoic acid. Predicted to act upstream of or within several processes, including heart morphogenesis; hematopoietic or lymphoid organ development; and lung saccule development. Part of PR-DUB complex. Implicated in SM-AHNMD; acute myeloid leukemia; chronic myelomonocytic leukemia; myelodysplastic syndrome; and myelofibrosis.']\n"
     ]
    }
   ],
   "source": [
    "print(final_targets2.loc['ASXL1'].values) "
   ]
  },
  {
   "cell_type": "markdown",
   "id": "7b989df7-0060-4e86-888f-c88ec5ef7c19",
   "metadata": {},
   "source": [
    "Sadly we probably have to take this one, because it's implicated in other cancers."
   ]
  },
  {
   "cell_type": "code",
   "execution_count": 572,
   "id": "805e281e-5b88-426b-a07c-8aedb36ed4fc",
   "metadata": {},
   "outputs": [
    {
     "name": "stdout",
     "output_type": "stream",
     "text": [
      "[-7.02912236276202 -7.972699237922327 4.061044989809652 4.782398944938433\n",
      " 1.177627668971624 'HGNC:19200'\n",
      " 'Predicted to enable chromatin binding activity. Predicted to be involved in system development. Predicted to act upstream of or within lung-associated mesenchyme development. Predicted to be located in nucleoplasm. Predicted to be active in nucleus.']\n"
     ]
    }
   ],
   "source": [
    "print(final_targets2.loc['DPPA4'].values) "
   ]
  },
  {
   "cell_type": "markdown",
   "id": "33990230-ac0e-4ce1-9cbf-1d235cc5ae74",
   "metadata": {},
   "source": [
    "No problem."
   ]
  },
  {
   "cell_type": "code",
   "execution_count": 573,
   "id": "345336bc-84f5-4fcd-bc79-d9420172f3c1",
   "metadata": {},
   "outputs": [
    {
     "name": "stdout",
     "output_type": "stream",
     "text": [
      "[2.3605713765398217 2.6240825650401507 0.34719382047861014\n",
      " 0.5902565814246187 1.7000780158210884 'HGNC:6822'\n",
      " 'Predicted to enable mannosyl-oligosaccharide 1,2-alpha-mannosidase activity. Predicted to be involved in N-glycan processing. Predicted to act upstream of or within glycoprotein metabolic process; lung alveolus development; and respiratory gaseous exchange by respiratory system. Located in Golgi apparatus.']\n"
     ]
    }
   ],
   "source": [
    "print(final_targets2.loc['MAN1A2'].values) "
   ]
  },
  {
   "cell_type": "markdown",
   "id": "d77c0826-f47a-48eb-b536-e3afc3e6e39e",
   "metadata": {},
   "source": [
    "Np, next gene please."
   ]
  },
  {
   "cell_type": "code",
   "execution_count": 574,
   "id": "96207a23-bdfc-48eb-954a-77a02004d959",
   "metadata": {},
   "outputs": [
    {
     "name": "stdout",
     "output_type": "stream",
     "text": [
      "[-17.706303259074456 -9.603190418372876 5.095698347110564\n",
      " 8.993803515755367 1.7649795775009254 'HGNC:19197'\n",
      " 'Predicted to enable chromatin binding activity. Predicted to be involved in system development. Predicted to act upstream of or within several processes, including epigenetic regulation of gene expression; lung-associated mesenchyme development; and positive regulation of stem cell proliferation. Located in nucleoplasm.']\n"
     ]
    }
   ],
   "source": [
    "print(final_targets2.loc['DPPA2'].values) "
   ]
  },
  {
   "cell_type": "markdown",
   "id": "a37ecea2-d6c3-4f43-bdce-5536d05dd5bc",
   "metadata": {},
   "source": [
    "Np, moving on:"
   ]
  },
  {
   "cell_type": "code",
   "execution_count": 575,
   "id": "4fd74917-6538-4897-b359-d701bf44b544",
   "metadata": {},
   "outputs": [
    {
     "name": "stdout",
     "output_type": "stream",
     "text": [
      "[1.9967106850086804 2.0434560549969105 0.34307009621818924\n",
      " 0.6490924696204945 1.892011215129861 'HGNC:6824'\n",
      " 'Predicted to enable alpha-mannosidase activity. Predicted to be involved in N-glycan processing. Predicted to act upstream of or within several processes, including lung alveolus development; respiratory gaseous exchange by respiratory system; and retina morphogenesis in camera-type eye. Located in Golgi medial cisterna.']\n"
     ]
    }
   ],
   "source": [
    "print(final_targets2.loc['MAN2A1'].values) "
   ]
  },
  {
   "cell_type": "markdown",
   "id": "d3238afa-6f8c-4406-8000-12be5f932f0a",
   "metadata": {},
   "source": [
    "On we go.  The next one we saw before, no red flags."
   ]
  },
  {
   "cell_type": "code",
   "execution_count": 576,
   "id": "4fc1539a-18d9-4092-a1de-f0e099f9dded",
   "metadata": {},
   "outputs": [
    {
     "name": "stdout",
     "output_type": "stream",
     "text": [
      "[3.392331231466092 -0.2549229077671009 0.7058737641016737\n",
      " 1.5537696752684174 2.2012004897870283 'HGNC:11603'\n",
      " 'Predicted to enable DNA-binding transcription factor activity, RNA polymerase II-specific and RNA polymerase II cis-regulatory region sequence-specific DNA binding activity. Involved in embryonic hindlimb morphogenesis; embryonic lung development; and skeletal system morphogenesis. Predicted to be part of chromatin. Predicted to be active in nucleus. Implicated in arthropathy and ischiocoxopodopatellar syndrome.']\n"
     ]
    }
   ],
   "source": [
    "print(final_targets2.loc['TBX4'].values) "
   ]
  },
  {
   "cell_type": "code",
   "execution_count": 577,
   "id": "4d2aaceb-d8b7-430b-a1c7-4d05a8d656c8",
   "metadata": {},
   "outputs": [
    {
     "name": "stdout",
     "output_type": "stream",
     "text": [
      "[2.987904241806709 2.57788629075195 0.3954347983586936 0.5855377767511339\n",
      " 1.48074418129484 'HGNC:33279'\n",
      " 'Predicted to enable DNA binding activity; POZ domain binding activity; and RNA binding activity. Predicted to be involved in learning or memory; regulation of DNA-templated transcription; and social behavior. Predicted to act upstream of or within several processes, including lung alveolus development; negative regulation of transcription by RNA polymerase II; and positive regulation of hematopoietic stem cell proliferation. Located in nucleolus and nucleoplasm.']\n"
     ]
    }
   ],
   "source": [
    "print(final_targets2.loc['ATXN1L'].values)"
   ]
  },
  {
   "cell_type": "markdown",
   "id": "fbe5bd5b-4802-4945-b754-d67df4da5870",
   "metadata": {},
   "source": [
    "OK, next:"
   ]
  },
  {
   "cell_type": "code",
   "execution_count": 578,
   "id": "ddd20abb-db3f-497e-88cb-9b61dc3915b8",
   "metadata": {},
   "outputs": [
    {
     "name": "stdout",
     "output_type": "stream",
     "text": [
      "[5.1144774726414335 5.5457447374090485 0.21913239326823997\n",
      " 0.4426515470119326 2.0200187676957593 'HGNC:2230'\n",
      " 'Predicted to enable mRNA binding activity. Acts upstream of or within pancreatic juice secretion. Located in cytoplasm; extracellular space; and growth cone. Part of COPI vesicle coat. Implicated in autoimmune interstitial lung, joint, and kidney disease.']\n"
     ]
    }
   ],
   "source": [
    "print(final_targets2.loc['COPA'].values)"
   ]
  },
  {
   "cell_type": "markdown",
   "id": "c59bcd72-9474-404e-a543-9a1189ec80b2",
   "metadata": {},
   "source": [
    "Probably safe to keep. "
   ]
  },
  {
   "cell_type": "code",
   "execution_count": 579,
   "id": "37dfad0f-fc88-4331-b6c1-5835925129e4",
   "metadata": {},
   "outputs": [
    {
     "name": "stdout",
     "output_type": "stream",
     "text": [
      "[-18.432783957399508 -18.957261990591718 5.086234616734857\n",
      " 4.09200219515555 0.8045248604324979 'HGNC:31781'\n",
      " 'Predicted to be involved in miRNA-mediated post-transcriptional gene silencing. Predicted to act upstream of or within cellular response to leukemia inhibitory factor and lung development. Predicted to be part of RISC complex.']\n"
     ]
    }
   ],
   "source": [
    "print(final_targets2.loc['MIR367'].values)"
   ]
  },
  {
   "cell_type": "markdown",
   "id": "8cde32ae-477f-4086-b212-e4969ddbbc80",
   "metadata": {},
   "source": [
    "Unfortunately this one has to go."
   ]
  },
  {
   "cell_type": "code",
   "execution_count": 580,
   "id": "173407ec-1989-4eb2-acc5-40bcc79a6acc",
   "metadata": {},
   "outputs": [
    {
     "name": "stdout",
     "output_type": "stream",
     "text": [
      "[-18.581554857461917 -19.570268351157054 4.0525223395851535\n",
      " 2.22179795497611 0.5482506372077273 'HGNC:33983'\n",
      " 'Predicted to enable activin receptor binding activity and nodal binding activity. Predicted to be involved in circulatory system development; nodal signaling pathway; and regionalization. Predicted to act upstream of or within several processes, including heart development; left lung morphogenesis; and spleen development. Predicted to be active in cell surface and extracellular region. Implicated in tetralogy of Fallot and visceral heterotaxy.']\n"
     ]
    }
   ],
   "source": [
    "print(final_targets2.loc['CFC1B'].values)"
   ]
  },
  {
   "cell_type": "markdown",
   "id": "6ca1d748-e4af-401f-ba6d-0c22e90b937f",
   "metadata": {},
   "source": [
    "Tetralogy of Fallot and visceral heterotaxy are congenital heart defects; no need to discard this gene. "
   ]
  },
  {
   "cell_type": "code",
   "execution_count": 581,
   "id": "827a966f-8f75-4fd2-9d78-7000096c6bf7",
   "metadata": {},
   "outputs": [
    {
     "name": "stdout",
     "output_type": "stream",
     "text": [
      "[1.5238570997549936 1.0912858600762692 0.28423190361179873\n",
      " 0.4713036562265538 1.6581659209877295 'HGNC:17899'\n",
      " 'Predicted to enable GTPase activating protein binding activity. Predicted to be involved in Ral protein signal transduction. Predicted to act upstream of or within lung alveolus development; regulation of tumor necrosis factor-mediated signaling pathway; and surfactant homeostasis. Located in cytosol and endoplasmic reticulum.']\n"
     ]
    }
   ],
   "source": [
    "print(final_targets2.loc['NKIRAS1'].values)"
   ]
  },
  {
   "cell_type": "markdown",
   "id": "d020bacc-59fa-426b-991d-2baa661cf7d8",
   "metadata": {},
   "source": [
    "This gene *may* have some involvement with tumors beyond LSSC, but can be kept for now."
   ]
  },
  {
   "cell_type": "code",
   "execution_count": 582,
   "id": "ceb2c6d2-1f37-4ec4-b5b5-11fdc88b3b2e",
   "metadata": {},
   "outputs": [
    {
     "name": "stdout",
     "output_type": "stream",
     "text": [
      "[2.784248295436026 -1.9351674930148044 0.8903350652149983\n",
      " 1.8200946697472484 2.044280564539746 'HGNC:43894'\n",
      " 'Predicted to enable core promoter sequence-specific DNA binding activity. Predicted to be involved in in utero embryonic development and lung development. Predicted to act upstream of or within several processes, including chromatin organization; embryonic lung development; and lateral mesoderm development.']\n"
     ]
    }
   ],
   "source": [
    "print(final_targets2.loc['FENDRR'].values)"
   ]
  },
  {
   "cell_type": "markdown",
   "id": "489835c0-823d-48f6-a748-5795e2a569e8",
   "metadata": {},
   "source": [
    "And that's ok.  In sum, we have to remove MIR367, ASXL1,SDHC, NAT2: we will do this in Model section 5.2."
   ]
  },
  {
   "cell_type": "markdown",
   "id": "4f346390-73c3-47bc-816b-e7f2d62d1345",
   "metadata": {},
   "source": [
    "## Cross-validation and tuning"
   ]
  },
  {
   "cell_type": "markdown",
   "id": "5faee803-d083-49a0-bea6-7f84123068dd",
   "metadata": {},
   "source": [
    "Given such a small set of normal samples, were we just a little (un)lucky?  Let's see what the cross-validation says."
   ]
  },
  {
   "cell_type": "code",
   "execution_count": 555,
   "id": "a200f9b7-1533-40e5-8878-5bf7957d7e11",
   "metadata": {},
   "outputs": [
    {
     "name": "stdout",
     "output_type": "stream",
     "text": [
      "0.99 weighted f1 with a standard deviation of 0.01\n"
     ]
    }
   ],
   "source": [
    "from sklearn.model_selection import cross_val_score\n",
    "\n",
    "scores = cross_val_score(classifier, X_normed, y_train.values.ravel(), cv=5,scoring='f1_weighted')\n",
    "\n",
    "print(\"%0.2f weighted f1 with a standard deviation of %0.2f\" % (scores.mean(), scores.std()))"
   ]
  },
  {
   "cell_type": "markdown",
   "id": "967ad096-0cfb-45ff-8fcd-684c77d5435f",
   "metadata": {},
   "source": [
    "Nice, but that reflects what's going on with the training set, which already had good performance stats.  Now let's see if we can improve the model by trying different optimization parameters."
   ]
  },
  {
   "cell_type": "code",
   "execution_count": 556,
   "id": "9981b999-a423-4e35-82ab-43d106515922",
   "metadata": {},
   "outputs": [
    {
     "data": {
      "text/html": [
       "<style>#sk-container-id-1 {\n",
       "  /* Definition of color scheme common for light and dark mode */\n",
       "  --sklearn-color-text: black;\n",
       "  --sklearn-color-line: gray;\n",
       "  /* Definition of color scheme for unfitted estimators */\n",
       "  --sklearn-color-unfitted-level-0: #fff5e6;\n",
       "  --sklearn-color-unfitted-level-1: #f6e4d2;\n",
       "  --sklearn-color-unfitted-level-2: #ffe0b3;\n",
       "  --sklearn-color-unfitted-level-3: chocolate;\n",
       "  /* Definition of color scheme for fitted estimators */\n",
       "  --sklearn-color-fitted-level-0: #f0f8ff;\n",
       "  --sklearn-color-fitted-level-1: #d4ebff;\n",
       "  --sklearn-color-fitted-level-2: #b3dbfd;\n",
       "  --sklearn-color-fitted-level-3: cornflowerblue;\n",
       "\n",
       "  /* Specific color for light theme */\n",
       "  --sklearn-color-text-on-default-background: var(--sg-text-color, var(--theme-code-foreground, var(--jp-content-font-color1, black)));\n",
       "  --sklearn-color-background: var(--sg-background-color, var(--theme-background, var(--jp-layout-color0, white)));\n",
       "  --sklearn-color-border-box: var(--sg-text-color, var(--theme-code-foreground, var(--jp-content-font-color1, black)));\n",
       "  --sklearn-color-icon: #696969;\n",
       "\n",
       "  @media (prefers-color-scheme: dark) {\n",
       "    /* Redefinition of color scheme for dark theme */\n",
       "    --sklearn-color-text-on-default-background: var(--sg-text-color, var(--theme-code-foreground, var(--jp-content-font-color1, white)));\n",
       "    --sklearn-color-background: var(--sg-background-color, var(--theme-background, var(--jp-layout-color0, #111)));\n",
       "    --sklearn-color-border-box: var(--sg-text-color, var(--theme-code-foreground, var(--jp-content-font-color1, white)));\n",
       "    --sklearn-color-icon: #878787;\n",
       "  }\n",
       "}\n",
       "\n",
       "#sk-container-id-1 {\n",
       "  color: var(--sklearn-color-text);\n",
       "}\n",
       "\n",
       "#sk-container-id-1 pre {\n",
       "  padding: 0;\n",
       "}\n",
       "\n",
       "#sk-container-id-1 input.sk-hidden--visually {\n",
       "  border: 0;\n",
       "  clip: rect(1px 1px 1px 1px);\n",
       "  clip: rect(1px, 1px, 1px, 1px);\n",
       "  height: 1px;\n",
       "  margin: -1px;\n",
       "  overflow: hidden;\n",
       "  padding: 0;\n",
       "  position: absolute;\n",
       "  width: 1px;\n",
       "}\n",
       "\n",
       "#sk-container-id-1 div.sk-dashed-wrapped {\n",
       "  border: 1px dashed var(--sklearn-color-line);\n",
       "  margin: 0 0.4em 0.5em 0.4em;\n",
       "  box-sizing: border-box;\n",
       "  padding-bottom: 0.4em;\n",
       "  background-color: var(--sklearn-color-background);\n",
       "}\n",
       "\n",
       "#sk-container-id-1 div.sk-container {\n",
       "  /* jupyter's `normalize.less` sets `[hidden] { display: none; }`\n",
       "     but bootstrap.min.css set `[hidden] { display: none !important; }`\n",
       "     so we also need the `!important` here to be able to override the\n",
       "     default hidden behavior on the sphinx rendered scikit-learn.org.\n",
       "     See: https://github.com/scikit-learn/scikit-learn/issues/21755 */\n",
       "  display: inline-block !important;\n",
       "  position: relative;\n",
       "}\n",
       "\n",
       "#sk-container-id-1 div.sk-text-repr-fallback {\n",
       "  display: none;\n",
       "}\n",
       "\n",
       "div.sk-parallel-item,\n",
       "div.sk-serial,\n",
       "div.sk-item {\n",
       "  /* draw centered vertical line to link estimators */\n",
       "  background-image: linear-gradient(var(--sklearn-color-text-on-default-background), var(--sklearn-color-text-on-default-background));\n",
       "  background-size: 2px 100%;\n",
       "  background-repeat: no-repeat;\n",
       "  background-position: center center;\n",
       "}\n",
       "\n",
       "/* Parallel-specific style estimator block */\n",
       "\n",
       "#sk-container-id-1 div.sk-parallel-item::after {\n",
       "  content: \"\";\n",
       "  width: 100%;\n",
       "  border-bottom: 2px solid var(--sklearn-color-text-on-default-background);\n",
       "  flex-grow: 1;\n",
       "}\n",
       "\n",
       "#sk-container-id-1 div.sk-parallel {\n",
       "  display: flex;\n",
       "  align-items: stretch;\n",
       "  justify-content: center;\n",
       "  background-color: var(--sklearn-color-background);\n",
       "  position: relative;\n",
       "}\n",
       "\n",
       "#sk-container-id-1 div.sk-parallel-item {\n",
       "  display: flex;\n",
       "  flex-direction: column;\n",
       "}\n",
       "\n",
       "#sk-container-id-1 div.sk-parallel-item:first-child::after {\n",
       "  align-self: flex-end;\n",
       "  width: 50%;\n",
       "}\n",
       "\n",
       "#sk-container-id-1 div.sk-parallel-item:last-child::after {\n",
       "  align-self: flex-start;\n",
       "  width: 50%;\n",
       "}\n",
       "\n",
       "#sk-container-id-1 div.sk-parallel-item:only-child::after {\n",
       "  width: 0;\n",
       "}\n",
       "\n",
       "/* Serial-specific style estimator block */\n",
       "\n",
       "#sk-container-id-1 div.sk-serial {\n",
       "  display: flex;\n",
       "  flex-direction: column;\n",
       "  align-items: center;\n",
       "  background-color: var(--sklearn-color-background);\n",
       "  padding-right: 1em;\n",
       "  padding-left: 1em;\n",
       "}\n",
       "\n",
       "\n",
       "/* Toggleable style: style used for estimator/Pipeline/ColumnTransformer box that is\n",
       "clickable and can be expanded/collapsed.\n",
       "- Pipeline and ColumnTransformer use this feature and define the default style\n",
       "- Estimators will overwrite some part of the style using the `sk-estimator` class\n",
       "*/\n",
       "\n",
       "/* Pipeline and ColumnTransformer style (default) */\n",
       "\n",
       "#sk-container-id-1 div.sk-toggleable {\n",
       "  /* Default theme specific background. It is overwritten whether we have a\n",
       "  specific estimator or a Pipeline/ColumnTransformer */\n",
       "  background-color: var(--sklearn-color-background);\n",
       "}\n",
       "\n",
       "/* Toggleable label */\n",
       "#sk-container-id-1 label.sk-toggleable__label {\n",
       "  cursor: pointer;\n",
       "  display: block;\n",
       "  width: 100%;\n",
       "  margin-bottom: 0;\n",
       "  padding: 0.5em;\n",
       "  box-sizing: border-box;\n",
       "  text-align: center;\n",
       "}\n",
       "\n",
       "#sk-container-id-1 label.sk-toggleable__label-arrow:before {\n",
       "  /* Arrow on the left of the label */\n",
       "  content: \"▸\";\n",
       "  float: left;\n",
       "  margin-right: 0.25em;\n",
       "  color: var(--sklearn-color-icon);\n",
       "}\n",
       "\n",
       "#sk-container-id-1 label.sk-toggleable__label-arrow:hover:before {\n",
       "  color: var(--sklearn-color-text);\n",
       "}\n",
       "\n",
       "/* Toggleable content - dropdown */\n",
       "\n",
       "#sk-container-id-1 div.sk-toggleable__content {\n",
       "  max-height: 0;\n",
       "  max-width: 0;\n",
       "  overflow: hidden;\n",
       "  text-align: left;\n",
       "  /* unfitted */\n",
       "  background-color: var(--sklearn-color-unfitted-level-0);\n",
       "}\n",
       "\n",
       "#sk-container-id-1 div.sk-toggleable__content.fitted {\n",
       "  /* fitted */\n",
       "  background-color: var(--sklearn-color-fitted-level-0);\n",
       "}\n",
       "\n",
       "#sk-container-id-1 div.sk-toggleable__content pre {\n",
       "  margin: 0.2em;\n",
       "  border-radius: 0.25em;\n",
       "  color: var(--sklearn-color-text);\n",
       "  /* unfitted */\n",
       "  background-color: var(--sklearn-color-unfitted-level-0);\n",
       "}\n",
       "\n",
       "#sk-container-id-1 div.sk-toggleable__content.fitted pre {\n",
       "  /* unfitted */\n",
       "  background-color: var(--sklearn-color-fitted-level-0);\n",
       "}\n",
       "\n",
       "#sk-container-id-1 input.sk-toggleable__control:checked~div.sk-toggleable__content {\n",
       "  /* Expand drop-down */\n",
       "  max-height: 200px;\n",
       "  max-width: 100%;\n",
       "  overflow: auto;\n",
       "}\n",
       "\n",
       "#sk-container-id-1 input.sk-toggleable__control:checked~label.sk-toggleable__label-arrow:before {\n",
       "  content: \"▾\";\n",
       "}\n",
       "\n",
       "/* Pipeline/ColumnTransformer-specific style */\n",
       "\n",
       "#sk-container-id-1 div.sk-label input.sk-toggleable__control:checked~label.sk-toggleable__label {\n",
       "  color: var(--sklearn-color-text);\n",
       "  background-color: var(--sklearn-color-unfitted-level-2);\n",
       "}\n",
       "\n",
       "#sk-container-id-1 div.sk-label.fitted input.sk-toggleable__control:checked~label.sk-toggleable__label {\n",
       "  background-color: var(--sklearn-color-fitted-level-2);\n",
       "}\n",
       "\n",
       "/* Estimator-specific style */\n",
       "\n",
       "/* Colorize estimator box */\n",
       "#sk-container-id-1 div.sk-estimator input.sk-toggleable__control:checked~label.sk-toggleable__label {\n",
       "  /* unfitted */\n",
       "  background-color: var(--sklearn-color-unfitted-level-2);\n",
       "}\n",
       "\n",
       "#sk-container-id-1 div.sk-estimator.fitted input.sk-toggleable__control:checked~label.sk-toggleable__label {\n",
       "  /* fitted */\n",
       "  background-color: var(--sklearn-color-fitted-level-2);\n",
       "}\n",
       "\n",
       "#sk-container-id-1 div.sk-label label.sk-toggleable__label,\n",
       "#sk-container-id-1 div.sk-label label {\n",
       "  /* The background is the default theme color */\n",
       "  color: var(--sklearn-color-text-on-default-background);\n",
       "}\n",
       "\n",
       "/* On hover, darken the color of the background */\n",
       "#sk-container-id-1 div.sk-label:hover label.sk-toggleable__label {\n",
       "  color: var(--sklearn-color-text);\n",
       "  background-color: var(--sklearn-color-unfitted-level-2);\n",
       "}\n",
       "\n",
       "/* Label box, darken color on hover, fitted */\n",
       "#sk-container-id-1 div.sk-label.fitted:hover label.sk-toggleable__label.fitted {\n",
       "  color: var(--sklearn-color-text);\n",
       "  background-color: var(--sklearn-color-fitted-level-2);\n",
       "}\n",
       "\n",
       "/* Estimator label */\n",
       "\n",
       "#sk-container-id-1 div.sk-label label {\n",
       "  font-family: monospace;\n",
       "  font-weight: bold;\n",
       "  display: inline-block;\n",
       "  line-height: 1.2em;\n",
       "}\n",
       "\n",
       "#sk-container-id-1 div.sk-label-container {\n",
       "  text-align: center;\n",
       "}\n",
       "\n",
       "/* Estimator-specific */\n",
       "#sk-container-id-1 div.sk-estimator {\n",
       "  font-family: monospace;\n",
       "  border: 1px dotted var(--sklearn-color-border-box);\n",
       "  border-radius: 0.25em;\n",
       "  box-sizing: border-box;\n",
       "  margin-bottom: 0.5em;\n",
       "  /* unfitted */\n",
       "  background-color: var(--sklearn-color-unfitted-level-0);\n",
       "}\n",
       "\n",
       "#sk-container-id-1 div.sk-estimator.fitted {\n",
       "  /* fitted */\n",
       "  background-color: var(--sklearn-color-fitted-level-0);\n",
       "}\n",
       "\n",
       "/* on hover */\n",
       "#sk-container-id-1 div.sk-estimator:hover {\n",
       "  /* unfitted */\n",
       "  background-color: var(--sklearn-color-unfitted-level-2);\n",
       "}\n",
       "\n",
       "#sk-container-id-1 div.sk-estimator.fitted:hover {\n",
       "  /* fitted */\n",
       "  background-color: var(--sklearn-color-fitted-level-2);\n",
       "}\n",
       "\n",
       "/* Specification for estimator info (e.g. \"i\" and \"?\") */\n",
       "\n",
       "/* Common style for \"i\" and \"?\" */\n",
       "\n",
       ".sk-estimator-doc-link,\n",
       "a:link.sk-estimator-doc-link,\n",
       "a:visited.sk-estimator-doc-link {\n",
       "  float: right;\n",
       "  font-size: smaller;\n",
       "  line-height: 1em;\n",
       "  font-family: monospace;\n",
       "  background-color: var(--sklearn-color-background);\n",
       "  border-radius: 1em;\n",
       "  height: 1em;\n",
       "  width: 1em;\n",
       "  text-decoration: none !important;\n",
       "  margin-left: 1ex;\n",
       "  /* unfitted */\n",
       "  border: var(--sklearn-color-unfitted-level-1) 1pt solid;\n",
       "  color: var(--sklearn-color-unfitted-level-1);\n",
       "}\n",
       "\n",
       ".sk-estimator-doc-link.fitted,\n",
       "a:link.sk-estimator-doc-link.fitted,\n",
       "a:visited.sk-estimator-doc-link.fitted {\n",
       "  /* fitted */\n",
       "  border: var(--sklearn-color-fitted-level-1) 1pt solid;\n",
       "  color: var(--sklearn-color-fitted-level-1);\n",
       "}\n",
       "\n",
       "/* On hover */\n",
       "div.sk-estimator:hover .sk-estimator-doc-link:hover,\n",
       ".sk-estimator-doc-link:hover,\n",
       "div.sk-label-container:hover .sk-estimator-doc-link:hover,\n",
       ".sk-estimator-doc-link:hover {\n",
       "  /* unfitted */\n",
       "  background-color: var(--sklearn-color-unfitted-level-3);\n",
       "  color: var(--sklearn-color-background);\n",
       "  text-decoration: none;\n",
       "}\n",
       "\n",
       "div.sk-estimator.fitted:hover .sk-estimator-doc-link.fitted:hover,\n",
       ".sk-estimator-doc-link.fitted:hover,\n",
       "div.sk-label-container:hover .sk-estimator-doc-link.fitted:hover,\n",
       ".sk-estimator-doc-link.fitted:hover {\n",
       "  /* fitted */\n",
       "  background-color: var(--sklearn-color-fitted-level-3);\n",
       "  color: var(--sklearn-color-background);\n",
       "  text-decoration: none;\n",
       "}\n",
       "\n",
       "/* Span, style for the box shown on hovering the info icon */\n",
       ".sk-estimator-doc-link span {\n",
       "  display: none;\n",
       "  z-index: 9999;\n",
       "  position: relative;\n",
       "  font-weight: normal;\n",
       "  right: .2ex;\n",
       "  padding: .5ex;\n",
       "  margin: .5ex;\n",
       "  width: min-content;\n",
       "  min-width: 20ex;\n",
       "  max-width: 50ex;\n",
       "  color: var(--sklearn-color-text);\n",
       "  box-shadow: 2pt 2pt 4pt #999;\n",
       "  /* unfitted */\n",
       "  background: var(--sklearn-color-unfitted-level-0);\n",
       "  border: .5pt solid var(--sklearn-color-unfitted-level-3);\n",
       "}\n",
       "\n",
       ".sk-estimator-doc-link.fitted span {\n",
       "  /* fitted */\n",
       "  background: var(--sklearn-color-fitted-level-0);\n",
       "  border: var(--sklearn-color-fitted-level-3);\n",
       "}\n",
       "\n",
       ".sk-estimator-doc-link:hover span {\n",
       "  display: block;\n",
       "}\n",
       "\n",
       "/* \"?\"-specific style due to the `<a>` HTML tag */\n",
       "\n",
       "#sk-container-id-1 a.estimator_doc_link {\n",
       "  float: right;\n",
       "  font-size: 1rem;\n",
       "  line-height: 1em;\n",
       "  font-family: monospace;\n",
       "  background-color: var(--sklearn-color-background);\n",
       "  border-radius: 1rem;\n",
       "  height: 1rem;\n",
       "  width: 1rem;\n",
       "  text-decoration: none;\n",
       "  /* unfitted */\n",
       "  color: var(--sklearn-color-unfitted-level-1);\n",
       "  border: var(--sklearn-color-unfitted-level-1) 1pt solid;\n",
       "}\n",
       "\n",
       "#sk-container-id-1 a.estimator_doc_link.fitted {\n",
       "  /* fitted */\n",
       "  border: var(--sklearn-color-fitted-level-1) 1pt solid;\n",
       "  color: var(--sklearn-color-fitted-level-1);\n",
       "}\n",
       "\n",
       "/* On hover */\n",
       "#sk-container-id-1 a.estimator_doc_link:hover {\n",
       "  /* unfitted */\n",
       "  background-color: var(--sklearn-color-unfitted-level-3);\n",
       "  color: var(--sklearn-color-background);\n",
       "  text-decoration: none;\n",
       "}\n",
       "\n",
       "#sk-container-id-1 a.estimator_doc_link.fitted:hover {\n",
       "  /* fitted */\n",
       "  background-color: var(--sklearn-color-fitted-level-3);\n",
       "}\n",
       "</style><div id=\"sk-container-id-1\" class=\"sk-top-container\"><div class=\"sk-text-repr-fallback\"><pre>GridSearchCV(cv=5,\n",
       "             estimator=LogisticRegression(C=1000, max_iter=500,\n",
       "                                          solver=&#x27;liblinear&#x27;),\n",
       "             param_grid={&#x27;C&#x27;: [0.1, 1, 10, 100], &#x27;penalty&#x27;: [&#x27;l1&#x27;, &#x27;l2&#x27;]},\n",
       "             scoring=&#x27;f1_weighted&#x27;)</pre><b>In a Jupyter environment, please rerun this cell to show the HTML representation or trust the notebook. <br />On GitHub, the HTML representation is unable to render, please try loading this page with nbviewer.org.</b></div><div class=\"sk-container\" hidden><div class=\"sk-item sk-dashed-wrapped\"><div class=\"sk-label-container\"><div class=\"sk-label fitted sk-toggleable\"><input class=\"sk-toggleable__control sk-hidden--visually\" id=\"sk-estimator-id-1\" type=\"checkbox\" ><label for=\"sk-estimator-id-1\" class=\"sk-toggleable__label fitted sk-toggleable__label-arrow fitted\">&nbsp;&nbsp;GridSearchCV<a class=\"sk-estimator-doc-link fitted\" rel=\"noreferrer\" target=\"_blank\" href=\"https://scikit-learn.org/1.4/modules/generated/sklearn.model_selection.GridSearchCV.html\">?<span>Documentation for GridSearchCV</span></a><span class=\"sk-estimator-doc-link fitted\">i<span>Fitted</span></span></label><div class=\"sk-toggleable__content fitted\"><pre>GridSearchCV(cv=5,\n",
       "             estimator=LogisticRegression(C=1000, max_iter=500,\n",
       "                                          solver=&#x27;liblinear&#x27;),\n",
       "             param_grid={&#x27;C&#x27;: [0.1, 1, 10, 100], &#x27;penalty&#x27;: [&#x27;l1&#x27;, &#x27;l2&#x27;]},\n",
       "             scoring=&#x27;f1_weighted&#x27;)</pre></div> </div></div><div class=\"sk-parallel\"><div class=\"sk-parallel-item\"><div class=\"sk-item\"><div class=\"sk-label-container\"><div class=\"sk-label fitted sk-toggleable\"><input class=\"sk-toggleable__control sk-hidden--visually\" id=\"sk-estimator-id-2\" type=\"checkbox\" ><label for=\"sk-estimator-id-2\" class=\"sk-toggleable__label fitted sk-toggleable__label-arrow fitted\">estimator: LogisticRegression</label><div class=\"sk-toggleable__content fitted\"><pre>LogisticRegression(C=1000, max_iter=500, solver=&#x27;liblinear&#x27;)</pre></div> </div></div><div class=\"sk-serial\"><div class=\"sk-item\"><div class=\"sk-estimator fitted sk-toggleable\"><input class=\"sk-toggleable__control sk-hidden--visually\" id=\"sk-estimator-id-3\" type=\"checkbox\" ><label for=\"sk-estimator-id-3\" class=\"sk-toggleable__label fitted sk-toggleable__label-arrow fitted\">&nbsp;LogisticRegression<a class=\"sk-estimator-doc-link fitted\" rel=\"noreferrer\" target=\"_blank\" href=\"https://scikit-learn.org/1.4/modules/generated/sklearn.linear_model.LogisticRegression.html\">?<span>Documentation for LogisticRegression</span></a></label><div class=\"sk-toggleable__content fitted\"><pre>LogisticRegression(C=1000, max_iter=500, solver=&#x27;liblinear&#x27;)</pre></div> </div></div></div></div></div></div></div></div></div>"
      ],
      "text/plain": [
       "GridSearchCV(cv=5,\n",
       "             estimator=LogisticRegression(C=1000, max_iter=500,\n",
       "                                          solver='liblinear'),\n",
       "             param_grid={'C': [0.1, 1, 10, 100], 'penalty': ['l1', 'l2']},\n",
       "             scoring='f1_weighted')"
      ]
     },
     "execution_count": 556,
     "metadata": {},
     "output_type": "execute_result"
    }
   ],
   "source": [
    "from sklearn.model_selection import GridSearchCV\n",
    "\n",
    "param_grid = {\n",
    "    'C': [0.1, 1, 10, 100],\n",
    "    'penalty': ['l1', 'l2']\n",
    "}\n",
    " \n",
    "# Create GridSearchCV object\n",
    "grid_search = GridSearchCV(classifier, param_grid, cv=5, scoring='f1_weighted')\n",
    "grid_search.fit(X_normed, y_train.values.ravel()) "
   ]
  },
  {
   "cell_type": "code",
   "execution_count": 557,
   "id": "d0987e71-12ad-4734-9ad9-1ac7be7b25c5",
   "metadata": {},
   "outputs": [
    {
     "name": "stdout",
     "output_type": "stream",
     "text": [
      "Best Parameters: {'C': 0.1, 'penalty': 'l2'}\n",
      "Best Score: 0.997355348328672\n"
     ]
    }
   ],
   "source": [
    "print(\"Best Parameters:\", grid_search.best_params_)\n",
    "print(\"Best Score:\", grid_search.best_score_)"
   ]
  },
  {
   "cell_type": "code",
   "execution_count": 558,
   "id": "bf588b8f-0716-4ee5-a95c-e85a5794162c",
   "metadata": {},
   "outputs": [
    {
     "name": "stdout",
     "output_type": "stream",
     "text": [
      "Classification Report for Training Data\n",
      "              precision    recall  f1-score   support\n",
      "\n",
      "         0.0       0.97      1.00      0.99        33\n",
      "         1.0       1.00      1.00      1.00       336\n",
      "\n",
      "    accuracy                           1.00       369\n",
      "   macro avg       0.99      1.00      0.99       369\n",
      "weighted avg       1.00      1.00      1.00       369\n",
      "\n"
     ]
    }
   ],
   "source": [
    "best_classifier = LogisticRegression(solver = 'liblinear', max_iter = 500, C=0.1, penalty='l2')\n",
    "best_classifier.fit(X_normed, y_train.values.ravel())\n",
    "\n",
    "print(\"Classification Report for Training Data\")\n",
    "print(classification_report(y_train, best_classifier.predict(X_normed)))"
   ]
  },
  {
   "cell_type": "markdown",
   "id": "93940974-83c0-4a90-a7f9-fb41a01ab833",
   "metadata": {},
   "source": [
    "And now for the acid test:"
   ]
  },
  {
   "cell_type": "code",
   "execution_count": 559,
   "id": "fa0f832d-0376-408d-8319-0416dcd76917",
   "metadata": {},
   "outputs": [
    {
     "name": "stdout",
     "output_type": "stream",
     "text": [
      "Classification Report for Test Data\n",
      "              precision    recall  f1-score   support\n",
      "\n",
      "         0.0       1.00      0.94      0.97        16\n",
      "         1.0       0.99      1.00      1.00       166\n",
      "\n",
      "    accuracy                           0.99       182\n",
      "   macro avg       1.00      0.97      0.98       182\n",
      "weighted avg       0.99      0.99      0.99       182\n",
      "\n"
     ]
    }
   ],
   "source": [
    "print(\"Classification Report for Test Data\")\n",
    "print(classification_report(y_test, best_classifier.predict(X_ntest)))"
   ]
  },
  {
   "cell_type": "code",
   "execution_count": 560,
   "id": "4d77f714-5d39-4fac-8134-1baa82dd5212",
   "metadata": {},
   "outputs": [
    {
     "data": {
      "text/plain": [
       "<sklearn.metrics._plot.confusion_matrix.ConfusionMatrixDisplay at 0x1f8b5909790>"
      ]
     },
     "execution_count": 560,
     "metadata": {},
     "output_type": "execute_result"
    },
    {
     "data": {
      "image/png": "[encoded data removed]",
      "text/plain": [
       "<Figure size 640x480 with 2 Axes>"
      ]
     },
     "metadata": {},
     "output_type": "display_data"
    }
   ],
   "source": [
    "y_predict_test = best_classifier.predict(X_ntest)\n",
    "y_predict_training = best_classifier.predict(X_normed)\n",
    "\n",
    "cm = confusion_matrix(y_test, y_predict_test, labels = best_classifier.classes_)\n",
    "_, ax = plt.subplots()\n",
    "display_cm = ConfusionMatrixDisplay(confusion_matrix = cm, \n",
    "                                    display_labels = ['normal', 'tumor'])\n",
    "ax.set_xticks([0, 1])\n",
    "ax.set_yticks([0, 1])\n",
    "ax.set_xticklabels(labels = ['normal', 'tumor'], fontsize = 8)\n",
    "ax.set_yticklabels(labels = ['normal', 'tumor'], fontsize = 8)\n",
    "display_cm.plot(ax = ax)"
   ]
  },
  {
   "cell_type": "markdown",
   "id": "d6af7602-fb93-473a-9178-72ccd1a06b95",
   "metadata": {},
   "source": [
    "I don't want to celebrate too early, but this is pretty awesome."
   ]
  },
  {
   "cell_type": "markdown",
   "id": "80e26e08-7b05-4fea-b9ff-74b65d8fe534",
   "metadata": {},
   "source": [
    "### 5.2 Logistic regression with reduced gene list"
   ]
  },
  {
   "cell_type": "markdown",
   "id": "9ecf9274-3514-4c24-af8d-72a075b46bec",
   "metadata": {},
   "source": [
    "After revisiting the annotations, we had to remove some genes because they are involved in other types of cancer, so while they may be of value in various ways, they could lead to non-specific results for the test envisioned in this project.  They are: MIR367, ASXL1,SDHC, NAT2."
   ]
  },
  {
   "cell_type": "markdown",
   "id": "297081c1-9d72-4d6c-98e5-73f297a75cb5",
   "metadata": {},
   "source": [
    "5.2a. Revisit some pre-processing steps before trying LR's again. Start by finalizing the gene list, then doing train/test split:"
   ]
  },
  {
   "cell_type": "code",
   "execution_count": 583,
   "id": "a073eb0d-3a3e-49f5-bac5-6ae68ea8e67c",
   "metadata": {},
   "outputs": [
    {
     "name": "stdout",
     "output_type": "stream",
     "text": [
      "['SDHC', 'SIM2', 'TBX4', 'ZNF157', 'CIC', 'NKIRAS2', 'NKIRAS1', 'ASXL1', 'DPPA2', 'DPPA4', 'STK40', 'COPA', 'TMEM38B', 'CCDC40', 'MIR367', 'SNHG20', 'ATXN1L', 'CFC1B', 'FENDRR', 'LAMA3', 'MAN1A2', 'MAN2A1', 'MSH5', 'NAT2']\n"
     ]
    }
   ],
   "source": [
    "print(Gene_list)"
   ]
  },
  {
   "cell_type": "code",
   "execution_count": 585,
   "id": "e9141c08-9603-4ffc-896a-9c92e5f696e4",
   "metadata": {},
   "outputs": [],
   "source": [
    "Final_GL = ['SIM2', 'TBX4', 'ZNF157', 'CIC', 'NKIRAS2', 'NKIRAS1', 'DPPA2', 'DPPA4', 'STK40', 'COPA', 'TMEM38B', 'CCDC40', 'SNHG20', 'ATXN1L', 'CFC1B', 'FENDRR', 'LAMA3', 'MAN1A2', 'MAN2A1', 'MSH5']\n"
   ]
  },
  {
   "cell_type": "code",
   "execution_count": 586,
   "id": "826fcc98-7594-4cda-92d9-01bbce44a916",
   "metadata": {},
   "outputs": [],
   "source": [
    "Z = logdf[Final_GL]  #y was previously defined, don't need to worry about it so much; calling it Z to preserve the prior work"
   ]
  },
  {
   "cell_type": "code",
   "execution_count": 595,
   "id": "c858b07a-5dc7-4905-a996-1109a5f544c8",
   "metadata": {},
   "outputs": [],
   "source": [
    "Z_train, Z_test, y_train, y_test = train_test_split(\n",
    "    Z, y, test_size=0.33, stratify = y, random_state=5)  #picking different random state for fun"
   ]
  },
  {
   "cell_type": "code",
   "execution_count": 596,
   "id": "0822b333-1d3a-412b-b15b-f3371a32360e",
   "metadata": {},
   "outputs": [],
   "source": [
    "mask2 = y_train == 0"
   ]
  },
  {
   "cell_type": "code",
   "execution_count": 599,
   "id": "b3d078f1-13f5-4be2-af0d-6bc3977985ce",
   "metadata": {},
   "outputs": [],
   "source": [
    "Z_std = Z_train[mask2][Final_GL].std()  #ok, now we have the standard deviations for the normal tissue, training set only"
   ]
  },
  {
   "cell_type": "code",
   "execution_count": 600,
   "id": "22bfdffb-5f8b-47be-b33c-20e0a2868de7",
   "metadata": {},
   "outputs": [],
   "source": [
    "final_row = pd.DataFrame(Z_std)\n",
    "Z_nm = pd.concat([Z_train, final_row.T]) #here we just added the stdev values; getting ready to normalize "
   ]
  },
  {
   "cell_type": "code",
   "execution_count": 601,
   "id": "ed90ec9f-f2d3-4832-a2e3-d94bf5019e58",
   "metadata": {},
   "outputs": [
    {
     "name": "stdout",
     "output_type": "stream",
     "text": [
      "0         SIM2      TBX4  ...    MAN2A1      MSH5\n",
      "262 -13.384249  2.010706  ...  9.776032 -1.908293\n",
      "1    -5.085989  4.444146  ...  4.856002 -2.217862\n",
      "452  -0.144323  0.119280  ...  3.456150 -0.144364\n",
      "65   -4.499673  0.085078  ...  7.448431 -0.252018\n",
      "501   1.023704  1.341971  ...  4.250278  0.068870\n",
      "..         ...       ...  ...       ...       ...\n",
      "175   0.410282 -0.936338  ...  5.296035 -0.555915\n",
      "308   1.531673  0.144944  ...  6.064249 -0.549359\n",
      "166  -0.562853  1.578813  ...  4.354528 -1.201493\n",
      "389   0.835484 -1.753021  ...  9.551744 -1.498073\n",
      "0     1.000000  1.000000  ...  1.000000  1.000000\n",
      "\n",
      "[370 rows x 20 columns]\n"
     ]
    }
   ],
   "source": [
    "Z_normed = Z_nm.div(Z_nm.iloc[369])   #This is the normalization step\n",
    "print(Z_normed)   "
   ]
  },
  {
   "cell_type": "code",
   "execution_count": 602,
   "id": "778bb48b-f123-4772-9525-c436d361270e",
   "metadata": {},
   "outputs": [],
   "source": [
    "Z_normed.drop(Z_normed.tail(1).index,\n",
    "        inplace = True)            #here we drop the last row"
   ]
  },
  {
   "cell_type": "markdown",
   "id": "1039c897-3bbf-46b9-b62c-c37afc769fbd",
   "metadata": {},
   "source": [
    "Same procedure for Z_test (has to be normalized as before)"
   ]
  },
  {
   "cell_type": "code",
   "execution_count": 603,
   "id": "d48837e5-0b41-4146-b600-d96a2bd9790a",
   "metadata": {},
   "outputs": [
    {
     "name": "stdout",
     "output_type": "stream",
     "text": [
      "0        SIM2      TBX4  ...    MAN2A1      MSH5\n",
      "85  -2.334781  2.714001  ...  2.629035 -0.196847\n",
      "41  -3.166133  3.739298  ...  2.342303 -2.404796\n",
      "414 -0.176185  2.107108  ...  2.309213 -0.487495\n",
      "541  0.219694 -0.325261  ...  1.796813 -2.140507\n",
      "0    0.488231  0.732544  ...  0.349771  1.109913\n",
      "\n",
      "[5 rows x 20 columns]\n"
     ]
    }
   ],
   "source": [
    "Z_nt = pd.concat([Z_test, final_row.T]) #easier because we have the standard deviations already\n",
    "print(Z_nt.tail()) "
   ]
  },
  {
   "cell_type": "code",
   "execution_count": 604,
   "id": "86bb98bb-3b2c-4f1c-941d-abb9e25d22f7",
   "metadata": {},
   "outputs": [],
   "source": [
    "Z_ntest = Z_nt.div(Z_nt.iloc[182]) #division step"
   ]
  },
  {
   "cell_type": "code",
   "execution_count": 605,
   "id": "4ba08825-dd52-46fd-a97a-249fe3b594d8",
   "metadata": {},
   "outputs": [
    {
     "name": "stdout",
     "output_type": "stream",
     "text": [
      "0        SIM2      TBX4  ...    MAN2A1      MSH5\n",
      "321  2.399707 -5.465592  ...  7.368727 -1.056767\n",
      "85  -4.782122  3.704899  ...  7.516445 -0.177353\n",
      "41  -6.484907  5.104538  ...  6.696674 -2.166652\n",
      "414 -0.360864  2.876425  ...  6.602069 -0.439219\n",
      "541  0.449979 -0.444016  ...  5.137112 -1.928535\n",
      "\n",
      "[5 rows x 20 columns]\n"
     ]
    }
   ],
   "source": [
    "Z_ntest.drop(Z_ntest.tail(1).index,\n",
    "        inplace = True)\n",
    "print(Z_ntest.tail())"
   ]
  },
  {
   "cell_type": "markdown",
   "id": "256e6064-8bf3-42cd-8597-a75de4ce3ae8",
   "metadata": {},
   "source": [
    "## 5.3  Logistic Regression model, take 2."
   ]
  },
  {
   "cell_type": "markdown",
   "id": "2d5c7422-80ce-4f00-81b1-4861994d7a23",
   "metadata": {},
   "source": [
    "Now with the reduced gene set, I will use the model parameters for the previous model (may have to revisit that), and check performance.\n"
   ]
  },
  {
   "cell_type": "code",
   "execution_count": 606,
   "id": "398b4faa-634e-46a1-99ca-6da648990538",
   "metadata": {},
   "outputs": [
    {
     "name": "stdout",
     "output_type": "stream",
     "text": [
      "Classification Report for Training Data\n",
      "              precision    recall  f1-score   support\n",
      "\n",
      "         0.0       1.00      1.00      1.00        33\n",
      "         1.0       1.00      1.00      1.00       336\n",
      "\n",
      "    accuracy                           1.00       369\n",
      "   macro avg       1.00      1.00      1.00       369\n",
      "weighted avg       1.00      1.00      1.00       369\n",
      "\n"
     ]
    }
   ],
   "source": [
    "classifier = LogisticRegression(solver = 'liblinear', max_iter = 500, C=0.1, penalty='l2')\n",
    "classifier.fit(Z_normed, y_train.values.ravel())\n",
    "\n",
    "print(\"Classification Report for Training Data\")\n",
    "print(classification_report(y_train, classifier.predict(Z_normed)))"
   ]
  },
  {
   "cell_type": "markdown",
   "id": "4e8ee990-c638-4762-b319-a81234b5f014",
   "metadata": {},
   "source": [
    "Perfect on the training data?!?!  well, let's see about the test set."
   ]
  },
  {
   "cell_type": "code",
   "execution_count": 607,
   "id": "97e63c28-4d99-4d05-a575-6d081bc1abd7",
   "metadata": {},
   "outputs": [
    {
     "name": "stdout",
     "output_type": "stream",
     "text": [
      "Classification Report for Test Data\n",
      "              precision    recall  f1-score   support\n",
      "\n",
      "         0.0       0.89      1.00      0.94        16\n",
      "         1.0       1.00      0.99      0.99       166\n",
      "\n",
      "    accuracy                           0.99       182\n",
      "   macro avg       0.94      0.99      0.97       182\n",
      "weighted avg       0.99      0.99      0.99       182\n",
      "\n"
     ]
    }
   ],
   "source": [
    "print(\"Classification Report for Test Data\")\n",
    "print(classification_report(y_test, classifier.predict(Z_ntest)))"
   ]
  },
  {
   "cell_type": "markdown",
   "id": "c7de4569-20c6-4125-9d7e-35a52f1fac8f",
   "metadata": {},
   "source": [
    "Wow.  This is *without* some of the earlier genes."
   ]
  },
  {
   "cell_type": "code",
   "execution_count": 609,
   "id": "c7d4b2be-2ddc-4efb-99da-d77994e79609",
   "metadata": {},
   "outputs": [
    {
     "data": {
      "text/plain": [
       "<sklearn.metrics._plot.confusion_matrix.ConfusionMatrixDisplay at 0x1f8b596d090>"
      ]
     },
     "execution_count": 609,
     "metadata": {},
     "output_type": "execute_result"
    },
    {
     "data": {
      "image/png": "[encoded data removed]",
      "text/plain": [
       "<Figure size 640x480 with 2 Axes>"
      ]
     },
     "metadata": {},
     "output_type": "display_data"
    }
   ],
   "source": [
    "y_predict_test = classifier.predict(Z_ntest)\n",
    "y_predict_training = classifier.predict(Z_normed)\n",
    "\n",
    "cm = confusion_matrix(y_test, y_predict_test, labels = classifier.classes_)\n",
    "_, ax = plt.subplots()\n",
    "display_cm = ConfusionMatrixDisplay(confusion_matrix = cm, \n",
    "                                    display_labels = ['normal', 'tumor'])\n",
    "ax.set_xticks([0, 1])\n",
    "ax.set_yticks([0, 1])\n",
    "ax.set_xticklabels(labels = ['normal', 'tumor'], fontsize = 8)\n",
    "ax.set_yticklabels(labels = ['normal', 'tumor'], fontsize = 8)\n",
    "display_cm.plot(ax = ax)"
   ]
  },
  {
   "cell_type": "markdown",
   "id": "f6be1046-f660-40e3-821a-cc403af0190b",
   "metadata": {},
   "source": [
    "How did the predictive features rank this time?"
   ]
  },
  {
   "cell_type": "code",
   "execution_count": 610,
   "id": "74c54e4b-d09a-4c0e-bcca-1237eba25f29",
   "metadata": {},
   "outputs": [
    {
     "name": "stdout",
     "output_type": "stream",
     "text": [
      "    Feature  Importance\n",
      "4   NKIRAS2    0.333256\n",
      "0      SIM2    0.266043\n",
      "9      COPA    0.168256\n",
      "10  TMEM38B    0.163898\n",
      "12   SNHG20    0.163257\n",
      "6     DPPA2    0.161269\n",
      "19     MSH5    0.112614\n",
      "18   MAN2A1    0.075056\n",
      "17   MAN1A2    0.065573\n",
      "2    ZNF157    0.056477\n",
      "7     DPPA4    0.047945\n",
      "3       CIC    0.039763\n",
      "14    CFC1B   -0.020209\n",
      "16    LAMA3   -0.032361\n",
      "11   CCDC40   -0.057153\n",
      "13   ATXN1L   -0.192889\n",
      "5   NKIRAS1   -0.228252\n",
      "8     STK40   -0.273506\n",
      "1      TBX4   -0.546827\n",
      "15   FENDRR   -0.598319\n"
     ]
    }
   ],
   "source": [
    "feature_importances= classifier.coef_[0]\n",
    "feature_df = pd.DataFrame({'Feature': Z_normed.columns, 'Importance': feature_importances})\n",
    "feature_df = feature_df.sort_values('Importance', ascending=False)\n",
    "print(feature_df)"
   ]
  },
  {
   "cell_type": "markdown",
   "id": "cb08ec6e-7b5b-4adf-89bc-83b2a715b7d0",
   "metadata": {},
   "source": [
    "# Summary and Conclusions"
   ]
  },
  {
   "cell_type": "markdown",
   "id": "e0bd1e5c-c377-48b7-9cfb-6a7105c9a381",
   "metadata": {},
   "source": [
    "I honestly did not expect performance at this level.  Efforts were made to avoid overfit by further downselecting the gene set; the effort was justified after noting that four of the predictors were not specific for lung small cell cancer. The final list of genes ranked by feature importances is above.\n",
    "\n",
    "The test exhibited a small (1/82) false negative rate, and a zero false-positive rate (where positive indicates tumor tissue).  So it may rarely miss a cancer case, but should not set of false alarms. \n",
    "\n",
    "It seems that using expression levels based on a small set of genes (normalized by standard deviation of normal tissue expression levels) provides very informative predictor genes.  One is tempted to see 'how low can we go' in terms of gradually reducing the predictor set; for future work I could automate the pre-processing and remove genes with the smallest absolute value of importance one at a time, and see how the test performs, but with microplate technology the number of predictors is already small enough to be economical."
   ]
  }
 ],
 "metadata": {
  "kernelspec": {
   "display_name": "Python 3 (ipykernel)",
   "language": "python",
   "name": "python3"
  },
  "language_info": {
   "codemirror_mode": {
    "name": "ipython",
    "version": 3
   },
   "file_extension": ".py",
   "mimetype": "text/x-python",
   "name": "python",
   "nbconvert_exporter": "python",
   "pygments_lexer": "ipython3",
   "version": "3.11.9"
  }
 },
 "nbformat": 4,
 "nbformat_minor": 5
}
