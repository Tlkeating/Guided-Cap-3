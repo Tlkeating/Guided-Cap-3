{
 "cells": [
  {
   "cell_type": "markdown",
   "id": "ecef6328-c82e-4d3c-8877-455ec4f0437a",
   "metadata": {},
   "source": [
    "# Final Capstone"
   ]
  },
  {
   "cell_type": "markdown",
   "id": "745af117-8e60-4380-a2f1-6927f56d5697",
   "metadata": {},
   "source": [
    "## Gene Expression database mining"
   ]
  },
  {
   "cell_type": "markdown",
   "id": "ea86adf4-2965-4265-be45-e924a703e641",
   "metadata": {},
   "source": [
    "### Part 1. Introduction and goals; data wrangling."
   ]
  },
  {
   "cell_type": "raw",
   "id": "a451732b-378a-44e3-bf24-7f6b20caf7f8",
   "metadata": {},
   "source": [
    "Can we detect cancer with a simple blood test?  Can we discover new treatment targets with expression arrays?  Over the last 25 years a great deal of research has been devoted to answering these questions. In this paper we explore and assess a gene expression dataset to discover what patterns are present and how they might be usefully interpreted.\n",
    "\n",
    "This dataset is the 'TCGA - LUSC (Lung Cell Squamous Carcinoma)' Expression Profiling by Array Dataset and is publicly available at https://portal.gdc.cancer.gov/. The data is normalized by TPM (transcripts per kilobase million) to make it interpretable across the samples but needs further processing.\n",
    "\n",
    "Lung cancer is one of the deadliest cancers in the world and LUSC is the one of the most common subtypes of lung cancer. The microarray measures the activity of genes in a sample by performing selective binding and measuring fluorescence of mRNA fragments (or gene 'transcripts': recall that DNA is transcribed into mRNA and released to the cytosome where it encounters ribosomes and is then translated into proteins). We expect to see both up- and down-regulation of genes in ways that differ between cancer and healthy samples.\n",
    "\n",
    "The dataset consist of 551 patients. Every patient's array has 56,907 different transcripts. This dataset is imbalanced, with 49 patients diagnosed as healthy and the rest having cancer (n=502).  Each gene is labeled but is not annotated to describe its function; hence, a publically available database of gene annotations will be added in Section 2.  These annotations will be of great importance for selecting subsets of genes that are specific to lung cell activity, and whose functions can be analyzed in various ways to interpret the results from a biological standpoint as well as a purely analytic one. \n",
    "\n",
    "Goals: Add annotations to filter genes by specific activity in lung cells.  Find a subset of genes based on biological considerations, and evaluate their use in a model to predict normal vs. cancer based on differential expression.\n",
    "\n",
    "-----------------------------------------------------------------------------------------\n",
    "\n",
    "References\n",
    "**PLoS Genet. 2011 Aug; 7(8): e1002207.\n",
    "Published online 2011 Aug 11. doi: 10.1371/journal.pgen.1002207\n",
    "PMCID: PMC3154954\n",
    "PMID: 21852951\n",
    "Variance of Gene Expression Identifies Altered Network Constraints in Neurological Disease\n",
    "\n",
    "Implications of applied research for prognosis and therapy of breast cancer\n",
    "M.F. Barginear, ... D.R. Budman, in \n",
    "Critical Reviews in Oncology/Hematology\n",
    ", 2008  chapter 3.1 Microarray analysis"
   ]
  },
  {
   "cell_type": "markdown",
   "id": "7bde95d8-1e26-4d82-a983-3445f0bc893d",
   "metadata": {},
   "source": [
    "## Data import and cleanup"
   ]
  },
  {
   "cell_type": "raw",
   "id": "0723a73f-2edb-4b1b-b936-94b3b14a908f",
   "metadata": {},
   "source": [
    "The dataset has mixed datatypes, uses a combination of delimiters and has headers that mask patient ID:"
   ]
  },
  {
   "cell_type": "code",
   "execution_count": 2,
   "id": "71adc556-eeaa-40ef-aeb1-8241174c753f",
   "metadata": {},
   "outputs": [
    {
     "name": "stderr",
     "output_type": "stream",
     "text": [
      "C:\\Users\\Owner\\AppData\\Local\\Temp\\ipykernel_45600\\1890420037.py:5: DtypeWarning: Columns (1,2,3,4,5,6,7,8,9,10,11,12,13,14,15,16,17,18,19,20,21,22,23,24,25,26,27,28,29,30,31,32,33,34,35,36,37,38,39,40,41,42,43,44,45,46,47,48,49,50,51,52,53,54,55,56,57,58,59,60,61,62,63,64,65,66,67,68,69,70,71,72,73,74,75,76,77,78,79,80,81,82,83,84,85,86,87,88,89,90,91,92,93,94,95,96,97,98,99,100,101,102,103,104,105,106,107,108,109,110,111,112,113,114,115,116,117,118,119,120,121,122,123,124,125,126,127,128,129,130,131,132,133,134,135,136,137,138,139,140,141,142,143,144,145,146,147,148,149,150,151,152,153,154,155,156,157,158,159,160,161,162,163,164,165,166,167,168,169,170,171,172,173,174,175,176,177,178,179,180,181,182,183,184,185,186,187,188,189,190,191,192,193,194,195,196,197,198,199,200,201,202,203,204,205,206,207,208,209,210,211,212,213,214,215,216,217,218,219,220,221,222,223,224,225,226,227,228,229,230,231,232,233,234,235,236,237,238,239,240,241,242,243,244,245,246,247,248,249,250,251,252,253,254,255,256,257,258,259,260,261,262,263,264,265,266,267,268,269,270,271,272,273,274,275,276,277,278,279,280,281,282,283,284,285,286,287,288,289,290,291,292,293,294,295,296,297,298,299,300,301,302,303,304,305,306,307,308,309,310,311,312,313,314,315,316,317,318,319,320,321,322,323,324,325,326,327,328,329,330,331,332,333,334,335,336,337,338,339,340,341,342,343,344,345,346,347,348,349,350,351,352,353,354,355,356,357,358,359,360,361,362,363,364,365,366,367,368,369,370,371,372,373,374,375,376,377,378,379,380,381,382,383,384,385,386,387,388,389,390,391,392,393,394,395,396,397,398,399,400,401,402,403,404,405,406,407,408,409,410,411,412,413,414,415,416,417,418,419,420,421,422,423,424,425,426,427,428,429,430,431,432,433,434,435,436,437,438,439,440,441,442,443,444,445,446,447,448,449,450,451,452,453,454,455,456,457,458,459,460,461,462,463,464,465,466,467,468,469,470,471,472,473,474,475,476,477,478,479,480,481,482,483,484,485,486,487,488,489,490,491,492,493,494,495,496,497,498,499,500,501,502,503,504,505,506,507,508,509,510,511,512,513,514,515,516,517,518,519,520,521,522,523,524,525,526,527,528,529,530,531,532,533,534,535,536,537,538,539,540,541,542,543,544,545,546,547,548,549,550,551) have mixed types. Specify dtype option on import or set low_memory=False.\n",
      "  df = pd.read_csv('LUSCexpfile.csv', sep = ';')\n"
     ]
    }
   ],
   "source": [
    "import pandas as pd\n",
    "import numpy as np\n",
    "import matplotlib.pyplot as plt\n",
    "import seaborn as sns\n",
    "df = pd.read_csv('LUSCexpfile.csv', sep = ';') \n",
    "#print(df.head())"
   ]
  },
  {
   "cell_type": "raw",
   "id": "a6161dc8-e090-4144-b2e1-3f5dd93ab7ce",
   "metadata": {},
   "source": [
    "First let's remove the patient identifiers, and temporarily replace them with just a number."
   ]
  },
  {
   "cell_type": "code",
   "execution_count": 3,
   "id": "90d954ca-6af3-4889-90c2-67426e78e444",
   "metadata": {},
   "outputs": [],
   "source": [
    "df.columns = np.arange(len(df.columns)) "
   ]
  },
  {
   "cell_type": "code",
   "execution_count": 4,
   "id": "784c7488-799b-4c47-8538-8503bc3c68f1",
   "metadata": {},
   "outputs": [
    {
     "name": "stdout",
     "output_type": "stream",
     "text": [
      "        0            1            2            3            4            5    \\\n",
      "0       NaN       normal       normal       normal       normal       normal   \n",
      "1      A1BG  0.108403483  0.095187869  0.097042537   0.04302861  0.095016254   \n",
      "2  A1BG-AS1  1.187325638  0.594016407  1.012277195  1.015939279  1.174120262   \n",
      "3      A1CF  0.001370356  0.032045614            0            0            0   \n",
      "4       A2M  459.7836081  648.0057316  444.8724975  751.7312734  1385.150034   \n",
      "\n",
      "           6            7            8            9    ...          542  \\\n",
      "0       normal       normal       normal       normal  ...        tumor   \n",
      "1  0.184691931  0.049553602  0.084045631  0.055256044  ...  0.212273128   \n",
      "2  1.830951652   0.75448563  1.125102086  0.729134459  ...  1.017353161   \n",
      "3  0.009064274  0.004770426  0.001460858            0  ...            0   \n",
      "4  656.3835066  1068.335251  416.7646218   793.907885  ...  29.70095721   \n",
      "\n",
      "           543          544          545          546          547  \\\n",
      "0        tumor        tumor        tumor        tumor        tumor   \n",
      "1  0.040941764  0.215710235  0.214627375  0.013129838  0.072578267   \n",
      "2  0.304290737  1.436468418  0.615680103   0.16948915  1.145089115   \n",
      "3  0.007763327  0.089985963  0.007308917  0.010954521   0.00137622   \n",
      "4  60.37668747  210.0103015  8.883384349  46.51221702  53.39539897   \n",
      "\n",
      "           548          549          550          551  \n",
      "0        tumor        tumor        tumor        tumor  \n",
      "1  0.210407375  0.129361336  0.067741511  0.017848088  \n",
      "2  1.354173806  1.128719724  0.394044479  0.187729763  \n",
      "3  0.002250611  0.004497045  0.004709856  0.003722766  \n",
      "4  22.30662803  17.18205196   120.810731  57.23277815  \n",
      "\n",
      "[5 rows x 552 columns]\n"
     ]
    }
   ],
   "source": [
    "print(df.head())"
   ]
  },
  {
   "cell_type": "raw",
   "id": "2c2f1bd7-6c40-42c0-b589-05b2d447679e",
   "metadata": {},
   "source": [
    "The data would look nicer transposed:"
   ]
  },
  {
   "cell_type": "code",
   "execution_count": 5,
   "id": "51912ca8-9637-4e31-876d-b7906063c1dd",
   "metadata": {},
   "outputs": [
    {
     "name": "stdout",
     "output_type": "stream",
     "text": [
      "    0            1            2            3            4            5      \\\n",
      "0     NaN         A1BG     A1BG-AS1         A1CF          A2M      A2M-AS1   \n",
      "1  normal  0.108403483  1.187325638  0.001370356  459.7836081  0.486278098   \n",
      "2  normal  0.095187869  0.594016407  0.032045614  648.0057316  1.080389631   \n",
      "3  normal  0.097042537  1.012277195            0  444.8724975  1.047980517   \n",
      "4  normal   0.04302861  1.015939279            0  751.7312734  0.780322401   \n",
      "\n",
      "         6            7           8            9      ...     56898     56899  \\\n",
      "0        A2ML1    A2ML1-AS1   A2ML1-AS2        A2MP1  ...     ZWINT      ZXDA   \n",
      "1  0.027029014            0           0  0.084772552  ...  1.665693  0.860664   \n",
      "2  0.055878692  0.029601196           0   0.04022254  ...  1.358792  1.232901   \n",
      "3  0.012098154            0           0  0.178337234  ...  2.645383   0.72607   \n",
      "4  0.021787373  0.029335026  0.03435086  0.082568933  ...  2.286109  0.844632   \n",
      "\n",
      "      56900     56901     56902     56903     56904      56905  56906  \\\n",
      "0      ZXDB      ZXDC    ZYG11A  ZYG11AP1    ZYG11B        ZYX  ZYXP1   \n",
      "1  2.226001  5.013749   0.00841       0.0  4.194418  99.369159    0.0   \n",
      "2  3.272293  5.482293  0.025654       0.0  4.662835  98.084795    0.0   \n",
      "3   1.60696  2.783768  0.037645       0.0  4.619178  54.605189    0.0   \n",
      "4   2.43637  4.161483  0.042371       0.0  4.814995  86.273891    0.0   \n",
      "\n",
      "      56907  \n",
      "0     ZZEF1  \n",
      "1  4.552543  \n",
      "2  5.626856  \n",
      "3  2.309259  \n",
      "4  5.302771  \n",
      "\n",
      "[5 rows x 56908 columns]\n"
     ]
    }
   ],
   "source": [
    "df2 = df.T\n",
    "print(df2.head())"
   ]
  },
  {
   "cell_type": "code",
   "execution_count": 6,
   "id": "cbabfbfa-bbb8-4425-b49c-6822945f42cf",
   "metadata": {},
   "outputs": [
    {
     "name": "stdout",
     "output_type": "stream",
     "text": [
      "        0            1            2            3            4      \\\n",
      "0  SampleType         A1BG     A1BG-AS1         A1CF          A2M   \n",
      "1      normal  0.108403483  1.187325638  0.001370356  459.7836081   \n",
      "2      normal  0.095187869  0.594016407  0.032045614  648.0057316   \n",
      "3      normal  0.097042537  1.012277195            0  444.8724975   \n",
      "4      normal   0.04302861  1.015939279            0  751.7312734   \n",
      "\n",
      "         5            6            7           8            9      ...  \\\n",
      "0      A2M-AS1        A2ML1    A2ML1-AS1   A2ML1-AS2        A2MP1  ...   \n",
      "1  0.486278098  0.027029014            0           0  0.084772552  ...   \n",
      "2  1.080389631  0.055878692  0.029601196           0   0.04022254  ...   \n",
      "3  1.047980517  0.012098154            0           0  0.178337234  ...   \n",
      "4  0.780322401  0.021787373  0.029335026  0.03435086  0.082568933  ...   \n",
      "\n",
      "      56898     56899     56900     56901     56902     56903     56904  \\\n",
      "0     ZWINT      ZXDA      ZXDB      ZXDC    ZYG11A  ZYG11AP1    ZYG11B   \n",
      "1  1.665693  0.860664  2.226001  5.013749   0.00841       0.0  4.194418   \n",
      "2  1.358792  1.232901  3.272293  5.482293  0.025654       0.0  4.662835   \n",
      "3  2.645383   0.72607   1.60696  2.783768  0.037645       0.0  4.619178   \n",
      "4  2.286109  0.844632   2.43637  4.161483  0.042371       0.0  4.814995   \n",
      "\n",
      "       56905  56906     56907  \n",
      "0        ZYX  ZYXP1     ZZEF1  \n",
      "1  99.369159    0.0  4.552543  \n",
      "2  98.084795    0.0  5.626856  \n",
      "3  54.605189    0.0  2.309259  \n",
      "4  86.273891    0.0  5.302771  \n",
      "\n",
      "[5 rows x 56908 columns]\n"
     ]
    }
   ],
   "source": [
    "df2.loc[0, 0] = 'SampleType'  #quick fix to column header\n",
    "print(df2.head())"
   ]
  },
  {
   "cell_type": "raw",
   "id": "95db70a1-a974-4ac4-99d9-bf23b7960411",
   "metadata": {},
   "source": [
    "Fix the other column headers by removing the index numbers from earlier."
   ]
  },
  {
   "cell_type": "code",
   "execution_count": 7,
   "id": "23ecbb0a-11a0-4642-9cf7-fe44117ca3c8",
   "metadata": {},
   "outputs": [
    {
     "name": "stdout",
     "output_type": "stream",
     "text": [
      "0 SampleType         A1BG     A1BG-AS1         A1CF          A2M      A2M-AS1  \\\n",
      "1     normal  0.108403483  1.187325638  0.001370356  459.7836081  0.486278098   \n",
      "2     normal  0.095187869  0.594016407  0.032045614  648.0057316  1.080389631   \n",
      "3     normal  0.097042537  1.012277195            0  444.8724975  1.047980517   \n",
      "4     normal   0.04302861  1.015939279            0  751.7312734  0.780322401   \n",
      "5     normal  0.095016254  1.174120262            0  1385.150034  0.721304607   \n",
      "\n",
      "0        A2ML1    A2ML1-AS1   A2ML1-AS2        A2MP1  ...     ZWINT      ZXDA  \\\n",
      "1  0.027029014            0           0  0.084772552  ...  1.665693  0.860664   \n",
      "2  0.055878692  0.029601196           0   0.04022254  ...  1.358792  1.232901   \n",
      "3  0.012098154            0           0  0.178337234  ...  2.645383   0.72607   \n",
      "4  0.021787373  0.029335026  0.03435086  0.082568933  ...  2.286109  0.844632   \n",
      "5  0.048111117            0           0  0.182329632  ...  2.400978  0.854256   \n",
      "\n",
      "0      ZXDB      ZXDC    ZYG11A ZYG11AP1    ZYG11B        ZYX ZYXP1     ZZEF1  \n",
      "1  2.226001  5.013749   0.00841      0.0  4.194418  99.369159   0.0  4.552543  \n",
      "2  3.272293  5.482293  0.025654      0.0  4.662835  98.084795   0.0  5.626856  \n",
      "3   1.60696  2.783768  0.037645      0.0  4.619178  54.605189   0.0  2.309259  \n",
      "4   2.43637  4.161483  0.042371      0.0  4.814995  86.273891   0.0  5.302771  \n",
      "5   2.22553  4.401694  0.006238      0.0  5.432338  93.666207   0.0  5.399341  \n",
      "\n",
      "[5 rows x 56908 columns]\n"
     ]
    }
   ],
   "source": [
    "df2.columns = df2.iloc[0]\n",
    "\n",
    "#remove first row from DataFrame\n",
    "df2 = df2[1:]\n",
    "\n",
    "#view updated DataFrame\n",
    "print(df2.head())"
   ]
  },
  {
   "cell_type": "code",
   "execution_count": 8,
   "id": "85e80a08-0a0c-4ec4-88f6-8838157ba0d8",
   "metadata": {},
   "outputs": [
    {
     "name": "stdout",
     "output_type": "stream",
     "text": [
      "0\n",
      "SampleType    object\n",
      "A1BG          object\n",
      "A1BG-AS1      object\n",
      "A1CF          object\n",
      "A2M           object\n",
      "               ...  \n",
      "ZYG11AP1      object\n",
      "ZYG11B        object\n",
      "ZYX           object\n",
      "ZYXP1         object\n",
      "ZZEF1         object\n",
      "Length: 56908, dtype: object\n"
     ]
    }
   ],
   "source": [
    "print(df2.dtypes)  "
   ]
  },
  {
   "cell_type": "raw",
   "id": "2f76571c-4abc-49d6-a499-253053fc55fd",
   "metadata": {},
   "source": [
    "This is a problem: ALL but the 'sampletype' column must be changed into floats otherwise it will create problems down the line."
   ]
  },
  {
   "cell_type": "markdown",
   "id": "3193d048-9615-4bee-8f38-d91e8f698674",
   "metadata": {},
   "source": [
    "### Fix data type problems:"
   ]
  },
  {
   "cell_type": "code",
   "execution_count": 9,
   "id": "db9ae069-72ac-4ab4-9730-a266f7248e47",
   "metadata": {},
   "outputs": [
    {
     "name": "stdout",
     "output_type": "stream",
     "text": [
      "0   SampleType         A1BG  ... ZYXP1     ZZEF1\n",
      "1          0.0  0.108403483  ...   0.0  4.552543\n",
      "2          0.0  0.095187869  ...   0.0  5.626856\n",
      "3          0.0  0.097042537  ...   0.0  2.309259\n",
      "4          0.0   0.04302861  ...   0.0  5.302771\n",
      "5          0.0  0.095016254  ...   0.0  5.399341\n",
      "6          0.0  0.184691931  ...   0.0  5.538256\n",
      "7          0.0  0.049553602  ...   0.0  4.099797\n",
      "8          0.0  0.084045631  ...   0.0   4.20028\n",
      "9          0.0  0.055256044  ...   0.0  6.300417\n",
      "10         0.0   0.11879959  ...   0.0  6.482868\n",
      "11         0.0  0.233579579  ...   0.0  6.754923\n",
      "12         0.0  0.074725214  ...   0.0  5.522444\n",
      "13         0.0  0.088147982  ...   0.0  3.728021\n",
      "14         0.0  0.082127798  ...   0.0  5.299801\n",
      "15         0.0  0.092215664  ...   0.0  5.676879\n",
      "16         0.0  0.194815279  ...   0.0  5.329231\n",
      "17         0.0  0.123645772  ...   0.0  2.989586\n",
      "18         0.0  0.079961586  ...   0.0  4.132045\n",
      "19         0.0  0.050850568  ...   0.0  2.772167\n",
      "20         0.0   0.10145186  ...   0.0  3.921015\n",
      "21         0.0  0.056325847  ...   0.0  3.975357\n",
      "22         0.0  0.069485208  ...   0.0  4.661956\n",
      "23         0.0  0.098389744  ...   0.0  6.496785\n",
      "24         0.0  0.069580294  ...   0.0  6.857431\n",
      "25         0.0  0.089047163  ...   0.0  5.279625\n",
      "26         0.0  0.105123139  ...   0.0  3.367435\n",
      "27         0.0  0.035379142  ...   0.0  1.614139\n",
      "28         0.0  0.056345672  ...   0.0  4.809728\n",
      "29         0.0  0.187807071  ...   0.0  5.698429\n",
      "30         0.0  0.048419026  ...   0.0   6.71807\n",
      "31         0.0  0.061162426  ...   0.0  4.347742\n",
      "32         0.0  0.125191658  ...   0.0  5.475218\n",
      "33         0.0  0.128483501  ...   0.0  5.534719\n",
      "34         0.0  0.041030903  ...   0.0  6.483832\n",
      "35         0.0   0.03643404  ...   0.0  5.775499\n",
      "36         0.0   0.00793879  ...   0.0  3.218736\n",
      "37         0.0  0.056020589  ...   0.0  6.140181\n",
      "38         0.0  0.062016119  ...   0.0  5.223354\n",
      "39         0.0  0.091720761  ...   0.0   4.55107\n",
      "40         0.0  0.242161919  ...   0.0  3.864395\n",
      "41         0.0  0.084442009  ...   0.0  6.661527\n",
      "42         0.0  0.088420754  ...   0.0   5.45975\n",
      "43         0.0  0.084500176  ...   0.0  7.024706\n",
      "44         0.0  0.110153617  ...   0.0  4.859087\n",
      "45         0.0  0.055694389  ...   0.0  3.199447\n",
      "46         0.0  0.038845891  ...   0.0  5.104024\n",
      "47         0.0  0.074626375  ...   0.0  5.228844\n",
      "48         0.0  0.069899488  ...   0.0   5.07904\n",
      "49         0.0  0.071824847  ...   0.0  3.848969\n",
      "50         1.0  0.064198517  ...   0.0   1.50634\n",
      "\n",
      "[50 rows x 56908 columns]\n"
     ]
    }
   ],
   "source": [
    "df2['SampleType'] = df2['SampleType'].map({'normal': 0.0, 'tumor': 1.0}) #temporarily removing the string values\n",
    "pd.options.display.max_columns = 5\n",
    "print(df2.head(50))"
   ]
  },
  {
   "cell_type": "raw",
   "id": "5c18388b-40c6-423b-8d3b-ace10578f6ae",
   "metadata": {},
   "source": [
    "Now convert the datatypes:"
   ]
  },
  {
   "cell_type": "code",
   "execution_count": 10,
   "id": "3b41dca1-22ec-4348-801f-70db09016208",
   "metadata": {},
   "outputs": [
    {
     "name": "stdout",
     "output_type": "stream",
     "text": [
      "0\n",
      "SampleType             Int64\n",
      "A1BG          string[python]\n",
      "A1BG-AS1      string[python]\n",
      "A1CF          string[python]\n",
      "A2M           string[python]\n",
      "                   ...      \n",
      "ZYG11AP1             Float64\n",
      "ZYG11B               Float64\n",
      "ZYX                  Float64\n",
      "ZYXP1                Float64\n",
      "ZZEF1                Float64\n",
      "Length: 56908, dtype: object\n"
     ]
    }
   ],
   "source": [
    "df3=df2.convert_dtypes()\n",
    "print(df3.dtypes)"
   ]
  },
  {
   "cell_type": "markdown",
   "id": "ca3de4c8-a583-4468-9203-2f7bfaea5558",
   "metadata": {},
   "source": [
    "Some of these didn't convert properly, so let's fix that."
   ]
  },
  {
   "cell_type": "code",
   "execution_count": 11,
   "id": "5ce5e7c8-84d5-4755-923c-421eeb2c2f76",
   "metadata": {},
   "outputs": [
    {
     "name": "stdout",
     "output_type": "stream",
     "text": [
      "0\n",
      "SampleType    float64\n",
      "A1BG          float64\n",
      "A1BG-AS1      float64\n",
      "A1CF          float64\n",
      "A2M           float64\n",
      "               ...   \n",
      "ZYG11AP1      float64\n",
      "ZYG11B        float64\n",
      "ZYX           float64\n",
      "ZYXP1         float64\n",
      "ZZEF1         float64\n",
      "Length: 56908, dtype: object\n"
     ]
    }
   ],
   "source": [
    "df4=df3.astype(float)\n",
    "print(df4.dtypes)"
   ]
  },
  {
   "cell_type": "markdown",
   "id": "81460419-a463-467c-9351-a6e8a41e3ef4",
   "metadata": {},
   "source": [
    "This completes the first round of cleanup; more may be done as we proceed."
   ]
  },
  {
   "cell_type": "markdown",
   "id": "3efac1ca-2b90-4410-b13b-02c91e8ae0fc",
   "metadata": {},
   "source": [
    "### Initial data exploration"
   ]
  },
  {
   "cell_type": "raw",
   "id": "951f5ddf-2cee-4866-8715-3059572e2beb",
   "metadata": {},
   "source": [
    "The data should be separated into groups (normal and cancer) before running summary stats.  However--it's important to take a look at the data.  It was 'normalized', but how?  Expression data can vary by orders of magnitude, and it's conventional to take the log based 2 in order to arrive at data that's closer to normally distributed.  Did the owners of the dataset do this already or not?"
   ]
  },
  {
   "cell_type": "code",
   "execution_count": 14,
   "id": "cb41e011-732c-4c1b-91ba-e09f57961137",
   "metadata": {},
   "outputs": [
    {
     "data": {
      "image/png": "[encoded data removed]",
      "text/plain": [
       "<Figure size 640x480 with 1 Axes>"
      ]
     },
     "metadata": {},
     "output_type": "display_data"
    }
   ],
   "source": [
    "import seaborn as sns\n",
    "# Here I could also plot a histogram but these are nicer...!\n",
    "sns.kdeplot(data=df4, x='A1BG', hue=\"SampleType\", fill=True, common_norm=False, alpha=1)  #just picked a random gene for illustration\n",
    "plt.show()\n"
   ]
  },
  {
   "cell_type": "raw",
   "id": "efbdb31d-6da2-4d66-8153-eab607670f4c",
   "metadata": {},
   "source": [
    "Remember the kde will smooth things out, so we 'appear' to have negative values--but the overall variance doesn't *look* super large.  Let's be sure there aren't actual negative numbers in the data (or zeroes, which would be a clue they didn't do the log)."
   ]
  },
  {
   "cell_type": "code",
   "execution_count": 15,
   "id": "3aeaa51e-3855-4ffb-8822-6d48f936f1b6",
   "metadata": {},
   "outputs": [
    {
     "name": "stdout",
     "output_type": "stream",
     "text": [
      "0.0\n"
     ]
    }
   ],
   "source": [
    "print(df4['A1BG'].min())"
   ]
  },
  {
   "cell_type": "code",
   "execution_count": 16,
   "id": "ce1c9782-a302-4e6f-9a39-a9084fe798bc",
   "metadata": {},
   "outputs": [
    {
     "name": "stdout",
     "output_type": "stream",
     "text": [
      "252    0.000000\n",
      "500    0.000000\n",
      "432    0.004394\n",
      "440    0.005298\n",
      "447    0.007775\n",
      "         ...   \n",
      "386    0.425880\n",
      "316    0.443253\n",
      "215    0.477096\n",
      "360    0.505444\n",
      "424    0.518196\n",
      "Name: A1BG, Length: 551, dtype: float64\n"
     ]
    }
   ],
   "source": [
    "print(df4['A1BG'].sort_values())"
   ]
  },
  {
   "cell_type": "raw",
   "id": "0848a935-d190-4d48-93b3-621b68952cca",
   "metadata": {},
   "source": [
    "So it looks like we should take the log.  Let's try another gene."
   ]
  },
  {
   "cell_type": "code",
   "execution_count": 17,
   "id": "aeeb295c-e353-4cfb-90ae-921daf64eb74",
   "metadata": {},
   "outputs": [
    {
     "data": {
      "image/png": "[encoded data removed]",
      "text/plain": [
       "<Figure size 640x480 with 1 Axes>"
      ]
     },
     "metadata": {},
     "output_type": "display_data"
    }
   ],
   "source": [
    "sns.kdeplot(data=df4, x='AAGAB', hue=\"SampleType\", fill=True, common_norm=False, alpha=1)\n",
    "plt.show()"
   ]
  },
  {
   "cell_type": "markdown",
   "id": "0b9728ef-711e-47a5-b398-b47901725522",
   "metadata": {},
   "source": [
    "It may be important to know how many genes are expressed at null as we proceed with the analysis:"
   ]
  },
  {
   "cell_type": "code",
   "execution_count": 18,
   "id": "45cf0b06-02be-47f5-98b6-3bb59a413d12",
   "metadata": {},
   "outputs": [
    {
     "data": {
      "image/png": "[encoded data removed]",
      "text/plain": [
       "<Figure size 640x480 with 1 Axes>"
      ]
     },
     "metadata": {},
     "output_type": "display_data"
    }
   ],
   "source": [
    "sns.kdeplot(data=df4, x='GCG', hue=\"SampleType\", fill=True, common_norm=False, alpha=1)\n",
    "plt.show()"
   ]
  },
  {
   "cell_type": "markdown",
   "id": "4e079470-bf50-4659-a5d7-62437e1f881b",
   "metadata": {},
   "source": [
    "Here it appears we have almost no activity for normal, but broad activity in the tumor type.  We will have to address the matter of low or no gene activity in normal samples."
   ]
  },
  {
   "cell_type": "code",
   "execution_count": 19,
   "id": "76aec9a7-ae69-423a-bf24-765416634a2a",
   "metadata": {},
   "outputs": [
    {
     "name": "stdout",
     "output_type": "stream",
     "text": [
      "0   SampleType      A1BG  ...  ZYXP1     ZZEF1\n",
      "1          0.0  0.108403  ...    0.0  4.552543\n",
      "2          0.0  0.095188  ...    0.0  5.626856\n",
      "3          0.0  0.097043  ...    0.0  2.309259\n",
      "4          0.0  0.043029  ...    0.0  5.302771\n",
      "5          0.0  0.095016  ...    0.0  5.399341\n",
      "50         1.0  0.064199  ...    0.0  1.506340\n",
      "51         1.0  0.023191  ...    0.0  3.548103\n",
      "52         1.0  0.039013  ...    0.0  1.999125\n",
      "53         1.0  0.095058  ...    0.0  4.715684\n",
      "54         1.0  0.024949  ...    0.0  4.604486\n",
      "\n",
      "[10 rows x 56908 columns]\n"
     ]
    }
   ],
   "source": [
    "grouped_raw = df4.groupby('SampleType')  #Here we see, for instance, ZYXP1 is not being expressed for either sample type.\n",
    "print(grouped_raw.head()) "
   ]
  },
  {
   "cell_type": "markdown",
   "id": "e83d228d-e64d-4eb1-a5d0-8d379e9b3ad3",
   "metadata": {},
   "source": [
    "We should check on the total activity by sample type:  are there still genes with null expression?"
   ]
  },
  {
   "cell_type": "code",
   "execution_count": 20,
   "id": "731f6533-5797-4043-b1c7-922cfbc4cf2f",
   "metadata": {},
   "outputs": [
    {
     "name": "stdout",
     "output_type": "stream",
     "text": [
      "0                A1BG    A1BG-AS1  ...     ZYXP1        ZZEF1\n",
      "SampleType                         ...                       \n",
      "0.0          4.399017   46.155635  ...  0.000000   242.497597\n",
      "1.0         53.455919  415.002253  ...  1.730455  1570.635163\n",
      "\n",
      "[2 rows x 56907 columns]\n"
     ]
    }
   ],
   "source": [
    "gene_activity = grouped_raw.sum()\n",
    "pd.options.display.max_columns = 5\n",
    "print(gene_activity)"
   ]
  },
  {
   "cell_type": "markdown",
   "id": "917bbd85-609a-4473-aed3-e8d83c26f37b",
   "metadata": {},
   "source": [
    "Apparently so. "
   ]
  },
  {
   "cell_type": "markdown",
   "id": "3275a281-1d07-4ad7-8526-9f7d56dee905",
   "metadata": {},
   "source": [
    "## Normalization discussion and treatment of zeroes in the dataset"
   ]
  },
  {
   "cell_type": "raw",
   "id": "efcc31db-5b3e-49a4-a148-27dc57a08cfe",
   "metadata": {},
   "source": [
    "It is clear now that a high number of genes are not active in normal cell types.  Because we want to perform further operations like log, we have to decide how to deal with this situation.\n",
    "\n",
    "There is an important decision to be made in terms of the approach:\n",
    "\n",
    "One approach would be to simply discard or ignore genes with zero expression in normal tissue.  There are many potential reasons for doing so; one, for instance, is that some of the genes active in cancerous samples may have nothing to do with cancer, but rather, reflect other biological processes that may not be active in healthy patients (e.g. inflammatory response or other immune-related modulations). In other words, we don't want the select genes that would give a positive result when they are active for other reasons entirely---and then get false positives, where normal patients with a respiratory infection get labeled as possibly having cancer!  (The issue of false positives and false negatives will be of enormous importance in evaluating the performance of the model).\n",
    "\n",
    "The second, more neutral approach is to add a tiny number, say, .000001 to all the expression data.  It won't do much at all to shift the mean and certainly doesn't harm standard deviation, and may be better than throwing away the zero data points so early on in the analysis.  (This is what most differential sequencing algorithms do anyway).\n",
    "\n",
    "For now, we will proceed with the second approach, but revisit the decision as needed."
   ]
  },
  {
   "cell_type": "code",
   "execution_count": 21,
   "id": "f2fff725-c7ca-4866-9728-ac58661700ba",
   "metadata": {},
   "outputs": [
    {
     "name": "stdout",
     "output_type": "stream",
     "text": [
      "0  SampleType      A1BG  ...      ZYXP1     ZZEF1\n",
      "1  -19.931569 -3.205504  ... -19.931569  2.186673\n",
      "2  -19.931569 -3.393063  ... -19.931569  2.492329\n",
      "3  -19.931569 -3.365224  ... -19.931569  1.207431\n",
      "4  -19.931569 -4.538526  ... -19.931569  2.406747\n",
      "5  -19.931569 -3.395667  ... -19.931569  2.432784\n",
      "\n",
      "[5 rows x 56908 columns]\n"
     ]
    }
   ],
   "source": [
    "df5 = df4.add(1e-6)\n",
    "logdf = np.log2(df5) \n",
    "print(logdf.head())"
   ]
  },
  {
   "cell_type": "code",
   "execution_count": 22,
   "id": "4beb6242-8114-4328-9ae8-eee0b759567b",
   "metadata": {},
   "outputs": [
    {
     "name": "stdout",
     "output_type": "stream",
     "text": [
      "0  SampleType      A1BG  ...      ZYXP1     ZZEF1\n",
      "1         0.0 -3.205504  ... -19.931569  2.186673\n",
      "2         0.0 -3.393063  ... -19.931569  2.492329\n",
      "3         0.0 -3.365224  ... -19.931569  1.207431\n",
      "4         0.0 -4.538526  ... -19.931569  2.406747\n",
      "5         0.0 -3.395667  ... -19.931569  2.432784\n",
      "\n",
      "[5 rows x 56908 columns]\n"
     ]
    }
   ],
   "source": [
    "logdf['SampleType']=df4['SampleType'] #here we made sure sample type was ok.\n",
    "print(logdf.head())"
   ]
  },
  {
   "cell_type": "raw",
   "id": "35cdacf5-021e-47f5-9c20-36c8f4ffab80",
   "metadata": {},
   "source": [
    "Now to proceed with grouping and taking mean and std:"
   ]
  },
  {
   "cell_type": "code",
   "execution_count": 23,
   "id": "efdf1520-96ac-4c00-8483-776e8dadc416",
   "metadata": {},
   "outputs": [
    {
     "name": "stdout",
     "output_type": "stream",
     "text": [
      "0               A1BG  A1BG-AS1  ...      ZYXP1     ZZEF1\n",
      "SampleType                      ...                     \n",
      "0.0        -3.678356 -0.181150  ... -19.931569  2.251051\n",
      "1.0        -3.750148 -0.658819  ... -19.890288  1.508643\n",
      "\n",
      "[2 rows x 56907 columns]\n"
     ]
    }
   ],
   "source": [
    "grouped = logdf.groupby('SampleType')\n",
    "avg_exp = grouped.mean()\n",
    "pd.options.display.max_columns = 5\n",
    "print(avg_exp)"
   ]
  },
  {
   "cell_type": "code",
   "execution_count": 24,
   "id": "d0c43d04-e92f-46df-ae26-02ca3c5ee925",
   "metadata": {},
   "outputs": [
    {
     "name": "stdout",
     "output_type": "stream",
     "text": [
      "0               A1BG  A1BG-AS1  ...   ZYXP1     ZZEF1\n",
      "SampleType                      ...                  \n",
      "0.0         0.817152  0.534636  ...  0.0000  0.432589\n",
      "1.0         1.582747  1.106743  ...  0.9249  0.667813\n",
      "\n",
      "[2 rows x 56907 columns]\n"
     ]
    }
   ],
   "source": [
    "std_exp = grouped.std()\n",
    "pd.options.display.max_columns = 5\n",
    "print(std_exp)"
   ]
  },
  {
   "cell_type": "code",
   "execution_count": 25,
   "id": "13d6704f-04b4-4b85-9c24-12ba9eaff484",
   "metadata": {},
   "outputs": [
    {
     "name": "stdout",
     "output_type": "stream",
     "text": [
      "0               A1BG  A1BG-AS1  ...      ZYXP1     ZZEF1\n",
      "SampleType                      ...                     \n",
      "0.0        -3.678356 -0.181150  ... -19.931569  2.251051\n",
      "1.0        -3.750148 -0.658819  ... -19.890288  1.508643\n",
      "0.0         0.817152  0.534636  ...   0.000000  0.432589\n",
      "1.0         1.582747  1.106743  ...   0.924900  0.667813\n",
      "\n",
      "[4 rows x 56907 columns]\n"
     ]
    }
   ],
   "source": [
    "exp_stats = pd.concat([avg_exp, std_exp], axis=0)   #there might be more elegant ways to do this, but this worked easily\n",
    "pd.options.display.max_columns = 5\n",
    "print(exp_stats)"
   ]
  },
  {
   "cell_type": "code",
   "execution_count": 26,
   "id": "314672dd-1524-4518-bb11-260d2fb0436b",
   "metadata": {},
   "outputs": [
    {
     "name": "stdout",
     "output_type": "stream",
     "text": [
      "SampleType        0.0        1.0       0.0       1.0\n",
      "0                                                   \n",
      "A1BG        -3.678356  -3.750148  0.817152  1.582747\n",
      "A1BG-AS1    -0.181150  -0.658819  0.534636  1.106743\n",
      "A1CF       -12.826603 -11.492063  5.785683  5.886855\n",
      "A2M          9.506983   5.746430  0.559679  1.281895\n",
      "A2M-AS1     -0.314353  -0.910212  0.416750  0.937864\n"
     ]
    }
   ],
   "source": [
    "#Now I'd like to transpose and then compare and sort based on std\n",
    "finaldf = exp_stats.T\n",
    "print(finaldf.head())"
   ]
  },
  {
   "cell_type": "code",
   "execution_count": 27,
   "id": "7e4f7d91-7f93-4afc-b4b4-83a175148c68",
   "metadata": {},
   "outputs": [
    {
     "data": {
      "text/plain": [
       "(56907, 4)"
      ]
     },
     "execution_count": 27,
     "metadata": {},
     "output_type": "execute_result"
    }
   ],
   "source": [
    "finaldf.shape  #just checking"
   ]
  },
  {
   "cell_type": "code",
   "execution_count": 28,
   "id": "1a01f9c5-95e6-4f2b-959f-5d09810e8abf",
   "metadata": {},
   "outputs": [
    {
     "name": "stdout",
     "output_type": "stream",
     "text": [
      "          Norm_mean  Tumor_mean  Norm_std  Tumor_std\n",
      "0                                                   \n",
      "A1BG      -3.678356   -3.750148  0.817152   1.582747\n",
      "A1BG-AS1  -0.181150   -0.658819  0.534636   1.106743\n",
      "A1CF     -12.826603  -11.492063  5.785683   5.886855\n",
      "A2M        9.506983    5.746430  0.559679   1.281895\n",
      "A2M-AS1   -0.314353   -0.910212  0.416750   0.937864\n"
     ]
    }
   ],
   "source": [
    "#Let's rename columns now...\n",
    "new_col_names = ['Norm_mean', 'Tumor_mean', 'Norm_std','Tumor_std']\n",
    "finaldf.columns = new_col_names\n",
    "print(finaldf.head())"
   ]
  },
  {
   "cell_type": "code",
   "execution_count": 29,
   "id": "1264a8b4-53b3-401f-ba7c-75e09a336235",
   "metadata": {},
   "outputs": [
    {
     "name": "stdout",
     "output_type": "stream",
     "text": [
      "          0  Norm_mean  Tumor_mean  Norm_std  Tumor_std\n",
      "0      A1BG  -3.678356   -3.750148  0.817152   1.582747\n",
      "1  A1BG-AS1  -0.181150   -0.658819  0.534636   1.106743\n",
      "2      A1CF -12.826603  -11.492063  5.785683   5.886855\n",
      "3       A2M   9.506983    5.746430  0.559679   1.281895\n",
      "4   A2M-AS1  -0.314353   -0.910212  0.416750   0.937864\n"
     ]
    }
   ],
   "source": [
    "#and reset the index:\n",
    "finaldf=finaldf.reset_index()\n",
    "print(finaldf.head())"
   ]
  },
  {
   "cell_type": "code",
   "execution_count": 30,
   "id": "8b50ed36-9cf3-47ea-a6db-b503d35524eb",
   "metadata": {},
   "outputs": [
    {
     "name": "stdout",
     "output_type": "stream",
     "text": [
      "       NAME  Norm_mean  Tumor_mean  Norm_std  Tumor_std\n",
      "0      A1BG  -3.678356   -3.750148  0.817152   1.582747\n",
      "1  A1BG-AS1  -0.181150   -0.658819  0.534636   1.106743\n",
      "2      A1CF -12.826603  -11.492063  5.785683   5.886855\n",
      "3       A2M   9.506983    5.746430  0.559679   1.281895\n",
      "4   A2M-AS1  -0.314353   -0.910212  0.416750   0.937864\n"
     ]
    }
   ],
   "source": [
    "#now, fix that new first column and call it NAME\n",
    "new_col_names = ['NAME', 'Norm_mean', 'Tumor_mean', 'Norm_std','Tumor_std']\n",
    "finaldf.columns=new_col_names\n",
    "print(finaldf.head())"
   ]
  },
  {
   "cell_type": "markdown",
   "id": "d5cf1382-1093-461e-a2e2-0fab691a6355",
   "metadata": {},
   "source": [
    "### Summary:  we now have two new dataframes that will be useful as we proceed.\n",
    "1) finaldf:  this dataframe contains the mean and standard deviation for each gene, grouped by sample type.\n",
    "2) logdf:  this dataframe contains the log of expression values, for which 1e-6 was added to avoid zero mean values\n",
    "\n",
    "All genes are included in these two dataframes."
   ]
  },
  {
   "cell_type": "markdown",
   "id": "fbb5e9ac-2248-455d-8868-0a3b7fcb76af",
   "metadata": {},
   "source": [
    "### Calculating ratios, filtering and sorting"
   ]
  },
  {
   "cell_type": "raw",
   "id": "633faf23-9ab4-4f92-a8c4-203470f42955",
   "metadata": {},
   "source": [
    "At this point I'd like to take the ratio of STDs (tumor/normal) and get a sorted list of genes: per the literature, we expect to see a marked difference in standard deviation between normal and cancerous genes.  What are we seeing?  (Incidentally, we can't use these ratios to select genes or to incorporate into the model--this is being done as a sanity check on our hypotheses above)."
   ]
  },
  {
   "cell_type": "code",
   "execution_count": 31,
   "id": "09057e77-2c0a-4e8c-9b87-7456f6f0cbab",
   "metadata": {},
   "outputs": [],
   "source": [
    "finaldf['stdratio'] = finaldf['Tumor_std']/finaldf['Norm_std']"
   ]
  },
  {
   "cell_type": "code",
   "execution_count": 32,
   "id": "52d7c002-9ed2-441d-a6d9-baf4b0b318ff",
   "metadata": {},
   "outputs": [
    {
     "name": "stdout",
     "output_type": "stream",
     "text": [
      "           NAME  Norm_mean  ...  Tumor_std  stdratio\n",
      "0          A1BG  -3.678356  ...   1.582747  1.936906\n",
      "1      A1BG-AS1  -0.181150  ...   1.106743  2.070087\n",
      "2          A1CF -12.826603  ...   5.886855  1.017487\n",
      "3           A2M   9.506983  ...   1.281895  2.290412\n",
      "4       A2M-AS1  -0.314353  ...   0.937864  2.250421\n",
      "5         A2ML1  -5.701023  ...   3.281357  1.018108\n",
      "6     A2ML1-AS1 -17.154222  ...   7.158587  1.208757\n",
      "7     A2ML1-AS2 -18.986202  ...   4.942538  1.320596\n",
      "8         A2MP1  -3.503619  ...   3.405242  3.940431\n",
      "9       A3GALT2  -5.213303  ...   7.039031  2.155943\n",
      "10       A4GALT   2.903878  ...   1.354900  2.298174\n",
      "11        A4GNT  -4.067244  ...   6.174987  1.750156\n",
      "12         AAAS   2.712468  ...   0.456013  1.796454\n",
      "13         AACS   0.744734  ...   0.657045  2.544588\n",
      "14       AACSP1  -5.748758  ...   5.869836  1.493969\n",
      "15        AADAC   2.132542  ...   2.821134  2.182188\n",
      "16      AADACL2  -9.618874  ...   5.941547  0.885836\n",
      "17  AADACL2-AS1  -6.144172  ...   5.981093  0.829129\n",
      "18      AADACL3 -19.452675  ...   5.224968  2.227574\n",
      "19      AADACL4 -14.395904  ...   5.370437  0.795997\n",
      "\n",
      "[20 rows x 6 columns]\n"
     ]
    }
   ],
   "source": [
    "print(finaldf.head(20))"
   ]
  },
  {
   "cell_type": "markdown",
   "id": "4d80b9ad-4eae-4522-b694-940cc0ab1d29",
   "metadata": {},
   "source": [
    "## Biological reasons for narrowing down our feature search"
   ]
  },
  {
   "cell_type": "code",
   "execution_count": 33,
   "id": "053a6c9c-036e-492e-8f1a-5278e8d30886",
   "metadata": {},
   "outputs": [
    {
     "data": {
      "text/html": [
       "<div>\n",
       "<style scoped>\n",
       "    .dataframe tbody tr th:only-of-type {\n",
       "        vertical-align: middle;\n",
       "    }\n",
       "\n",
       "    .dataframe tbody tr th {\n",
       "        vertical-align: top;\n",
       "    }\n",
       "\n",
       "    .dataframe thead th {\n",
       "        text-align: right;\n",
       "    }\n",
       "</style>\n",
       "<table border=\"1\" class=\"dataframe\">\n",
       "  <thead>\n",
       "    <tr style=\"text-align: right;\">\n",
       "      <th></th>\n",
       "      <th>NAME</th>\n",
       "      <th>Norm_mean</th>\n",
       "      <th>...</th>\n",
       "      <th>Tumor_std</th>\n",
       "      <th>stdratio</th>\n",
       "    </tr>\n",
       "  </thead>\n",
       "  <tbody>\n",
       "    <tr>\n",
       "      <th>13246</th>\n",
       "      <td>AL031584.1</td>\n",
       "      <td>-19.931569</td>\n",
       "      <td>...</td>\n",
       "      <td>2.239269</td>\n",
       "      <td>inf</td>\n",
       "    </tr>\n",
       "    <tr>\n",
       "      <th>44269</th>\n",
       "      <td>RN7SKP267</td>\n",
       "      <td>-19.931569</td>\n",
       "      <td>...</td>\n",
       "      <td>3.898363</td>\n",
       "      <td>inf</td>\n",
       "    </tr>\n",
       "    <tr>\n",
       "      <th>44282</th>\n",
       "      <td>RN7SKP28</td>\n",
       "      <td>-19.931569</td>\n",
       "      <td>...</td>\n",
       "      <td>4.132280</td>\n",
       "      <td>inf</td>\n",
       "    </tr>\n",
       "    <tr>\n",
       "      <th>44281</th>\n",
       "      <td>RN7SKP279</td>\n",
       "      <td>-19.931569</td>\n",
       "      <td>...</td>\n",
       "      <td>1.514959</td>\n",
       "      <td>inf</td>\n",
       "    </tr>\n",
       "    <tr>\n",
       "      <th>44280</th>\n",
       "      <td>RN7SKP278</td>\n",
       "      <td>-19.931569</td>\n",
       "      <td>...</td>\n",
       "      <td>0.823488</td>\n",
       "      <td>inf</td>\n",
       "    </tr>\n",
       "    <tr>\n",
       "      <th>44279</th>\n",
       "      <td>RN7SKP277</td>\n",
       "      <td>-19.931569</td>\n",
       "      <td>...</td>\n",
       "      <td>4.126881</td>\n",
       "      <td>inf</td>\n",
       "    </tr>\n",
       "    <tr>\n",
       "      <th>44273</th>\n",
       "      <td>RN7SKP270</td>\n",
       "      <td>-19.931569</td>\n",
       "      <td>...</td>\n",
       "      <td>1.053577</td>\n",
       "      <td>inf</td>\n",
       "    </tr>\n",
       "    <tr>\n",
       "      <th>9618</th>\n",
       "      <td>AC105081.1</td>\n",
       "      <td>-19.931569</td>\n",
       "      <td>...</td>\n",
       "      <td>3.503421</td>\n",
       "      <td>inf</td>\n",
       "    </tr>\n",
       "    <tr>\n",
       "      <th>44272</th>\n",
       "      <td>RN7SKP27</td>\n",
       "      <td>-19.931569</td>\n",
       "      <td>...</td>\n",
       "      <td>1.523444</td>\n",
       "      <td>inf</td>\n",
       "    </tr>\n",
       "    <tr>\n",
       "      <th>44268</th>\n",
       "      <td>RN7SKP266</td>\n",
       "      <td>-19.931569</td>\n",
       "      <td>...</td>\n",
       "      <td>3.803292</td>\n",
       "      <td>inf</td>\n",
       "    </tr>\n",
       "    <tr>\n",
       "      <th>44161</th>\n",
       "      <td>RN7SKP169</td>\n",
       "      <td>-19.931569</td>\n",
       "      <td>...</td>\n",
       "      <td>4.293402</td>\n",
       "      <td>inf</td>\n",
       "    </tr>\n",
       "    <tr>\n",
       "      <th>44264</th>\n",
       "      <td>RN7SKP262</td>\n",
       "      <td>-19.931569</td>\n",
       "      <td>...</td>\n",
       "      <td>1.925818</td>\n",
       "      <td>inf</td>\n",
       "    </tr>\n",
       "    <tr>\n",
       "      <th>44262</th>\n",
       "      <td>RN7SKP260</td>\n",
       "      <td>-19.931569</td>\n",
       "      <td>...</td>\n",
       "      <td>1.656918</td>\n",
       "      <td>inf</td>\n",
       "    </tr>\n",
       "    <tr>\n",
       "      <th>44261</th>\n",
       "      <td>RN7SKP260</td>\n",
       "      <td>-19.931569</td>\n",
       "      <td>...</td>\n",
       "      <td>2.208452</td>\n",
       "      <td>inf</td>\n",
       "    </tr>\n",
       "    <tr>\n",
       "      <th>44256</th>\n",
       "      <td>RN7SKP256</td>\n",
       "      <td>-19.931569</td>\n",
       "      <td>...</td>\n",
       "      <td>1.470746</td>\n",
       "      <td>inf</td>\n",
       "    </tr>\n",
       "  </tbody>\n",
       "</table>\n",
       "<p>15 rows × 6 columns</p>\n",
       "</div>"
      ],
      "text/plain": [
       "             NAME  Norm_mean  ...  Tumor_std  stdratio\n",
       "13246  AL031584.1 -19.931569  ...   2.239269       inf\n",
       "44269   RN7SKP267 -19.931569  ...   3.898363       inf\n",
       "44282    RN7SKP28 -19.931569  ...   4.132280       inf\n",
       "44281   RN7SKP279 -19.931569  ...   1.514959       inf\n",
       "44280   RN7SKP278 -19.931569  ...   0.823488       inf\n",
       "44279   RN7SKP277 -19.931569  ...   4.126881       inf\n",
       "44273   RN7SKP270 -19.931569  ...   1.053577       inf\n",
       "9618   AC105081.1 -19.931569  ...   3.503421       inf\n",
       "44272    RN7SKP27 -19.931569  ...   1.523444       inf\n",
       "44268   RN7SKP266 -19.931569  ...   3.803292       inf\n",
       "44161   RN7SKP169 -19.931569  ...   4.293402       inf\n",
       "44264   RN7SKP262 -19.931569  ...   1.925818       inf\n",
       "44262   RN7SKP260 -19.931569  ...   1.656918       inf\n",
       "44261   RN7SKP260 -19.931569  ...   2.208452       inf\n",
       "44256   RN7SKP256 -19.931569  ...   1.470746       inf\n",
       "\n",
       "[15 rows x 6 columns]"
      ]
     },
     "execution_count": 33,
     "metadata": {},
     "output_type": "execute_result"
    }
   ],
   "source": [
    "finaldf.sort_values(by=['stdratio'], ascending=False).nlargest(15,'stdratio')"
   ]
  },
  {
   "cell_type": "markdown",
   "id": "3b87fcd3-547d-4c4f-b9a5-766f1fc560f8",
   "metadata": {},
   "source": [
    "We will fix the 'inf' values seen in this table in the next few steps."
   ]
  },
  {
   "cell_type": "markdown",
   "id": "62498d99-5c96-401c-b5e9-bae93f866244",
   "metadata": {},
   "source": [
    "As noted earlier some genes aren't being expressed in normal, healthy patient samples.\n",
    "\n",
    "That said, many sequences in this array database are not genes, per se.  For instance, some of the above (anything with MIR as a prefix) are micro-rnas, which don't code for proteins directly, but are involved in regulating gene expression.  These will be removed from consideration.  Others, like RNArSP332, are pseudogenes (a nonfunctional segment that looks like a functional gene but can't code for a protein).  Still others, like RF00322, are small nucleolar RNAs and are involved in regulation of transcription factors.  Ultimately, rather than analyze all these, the goal will be to eliminate all but the genes coding for proteins.  In Section 2 we will further filter candidate genes based on annotations of their function (where known or predicted)."
   ]
  },
  {
   "cell_type": "code",
   "execution_count": 34,
   "id": "df4eefc1-b0ed-4d7d-95cd-4c9776266249",
   "metadata": {},
   "outputs": [
    {
     "data": {
      "text/html": [
       "<div>\n",
       "<style scoped>\n",
       "    .dataframe tbody tr th:only-of-type {\n",
       "        vertical-align: middle;\n",
       "    }\n",
       "\n",
       "    .dataframe tbody tr th {\n",
       "        vertical-align: top;\n",
       "    }\n",
       "\n",
       "    .dataframe thead th {\n",
       "        text-align: right;\n",
       "    }\n",
       "</style>\n",
       "<table border=\"1\" class=\"dataframe\">\n",
       "  <thead>\n",
       "    <tr style=\"text-align: right;\">\n",
       "      <th></th>\n",
       "      <th>NAME</th>\n",
       "      <th>Norm_mean</th>\n",
       "      <th>...</th>\n",
       "      <th>Tumor_std</th>\n",
       "      <th>stdratio</th>\n",
       "    </tr>\n",
       "  </thead>\n",
       "  <tbody>\n",
       "    <tr>\n",
       "      <th>39821</th>\n",
       "      <td>PGM5P4</td>\n",
       "      <td>0.501840</td>\n",
       "      <td>...</td>\n",
       "      <td>7.792972</td>\n",
       "      <td>14.249742</td>\n",
       "    </tr>\n",
       "    <tr>\n",
       "      <th>46064</th>\n",
       "      <td>RNU5B-4P</td>\n",
       "      <td>0.449240</td>\n",
       "      <td>...</td>\n",
       "      <td>8.969577</td>\n",
       "      <td>12.597440</td>\n",
       "    </tr>\n",
       "    <tr>\n",
       "      <th>14319</th>\n",
       "      <td>AL136452.1</td>\n",
       "      <td>1.328496</td>\n",
       "      <td>...</td>\n",
       "      <td>8.283594</td>\n",
       "      <td>12.526865</td>\n",
       "    </tr>\n",
       "    <tr>\n",
       "      <th>39820</th>\n",
       "      <td>PGM5P3-AS1</td>\n",
       "      <td>-2.623688</td>\n",
       "      <td>...</td>\n",
       "      <td>7.273343</td>\n",
       "      <td>12.189945</td>\n",
       "    </tr>\n",
       "    <tr>\n",
       "      <th>39822</th>\n",
       "      <td>PGM5P4-AS1</td>\n",
       "      <td>-2.306742</td>\n",
       "      <td>...</td>\n",
       "      <td>7.446278</td>\n",
       "      <td>11.753980</td>\n",
       "    </tr>\n",
       "    <tr>\n",
       "      <th>13008</th>\n",
       "      <td>AL008733.1</td>\n",
       "      <td>-0.548366</td>\n",
       "      <td>...</td>\n",
       "      <td>8.332124</td>\n",
       "      <td>11.667950</td>\n",
       "    </tr>\n",
       "    <tr>\n",
       "      <th>27111</th>\n",
       "      <td>GLOD5</td>\n",
       "      <td>0.021836</td>\n",
       "      <td>...</td>\n",
       "      <td>5.129703</td>\n",
       "      <td>11.483851</td>\n",
       "    </tr>\n",
       "    <tr>\n",
       "      <th>27080</th>\n",
       "      <td>GKN2</td>\n",
       "      <td>4.736892</td>\n",
       "      <td>...</td>\n",
       "      <td>6.978927</td>\n",
       "      <td>11.264977</td>\n",
       "    </tr>\n",
       "    <tr>\n",
       "      <th>12715</th>\n",
       "      <td>AF186192.1</td>\n",
       "      <td>-1.183763</td>\n",
       "      <td>...</td>\n",
       "      <td>7.107154</td>\n",
       "      <td>11.247891</td>\n",
       "    </tr>\n",
       "    <tr>\n",
       "      <th>13731</th>\n",
       "      <td>AL109741.3</td>\n",
       "      <td>-0.741398</td>\n",
       "      <td>...</td>\n",
       "      <td>7.162730</td>\n",
       "      <td>11.117462</td>\n",
       "    </tr>\n",
       "    <tr>\n",
       "      <th>1065</th>\n",
       "      <td>AC005884.1</td>\n",
       "      <td>-0.144821</td>\n",
       "      <td>...</td>\n",
       "      <td>8.061596</td>\n",
       "      <td>11.079987</td>\n",
       "    </tr>\n",
       "    <tr>\n",
       "      <th>49748</th>\n",
       "      <td>SFTA3</td>\n",
       "      <td>5.097280</td>\n",
       "      <td>...</td>\n",
       "      <td>5.227402</td>\n",
       "      <td>10.856845</td>\n",
       "    </tr>\n",
       "    <tr>\n",
       "      <th>8706</th>\n",
       "      <td>AC096531.2</td>\n",
       "      <td>0.147007</td>\n",
       "      <td>...</td>\n",
       "      <td>6.958371</td>\n",
       "      <td>10.801590</td>\n",
       "    </tr>\n",
       "    <tr>\n",
       "      <th>34093</th>\n",
       "      <td>MGAT3-AS1</td>\n",
       "      <td>-0.951417</td>\n",
       "      <td>...</td>\n",
       "      <td>8.164390</td>\n",
       "      <td>10.692957</td>\n",
       "    </tr>\n",
       "    <tr>\n",
       "      <th>14779</th>\n",
       "      <td>AL158055.1</td>\n",
       "      <td>-2.821824</td>\n",
       "      <td>...</td>\n",
       "      <td>7.737949</td>\n",
       "      <td>10.690223</td>\n",
       "    </tr>\n",
       "    <tr>\n",
       "      <th>8196</th>\n",
       "      <td>AC092569.1</td>\n",
       "      <td>-1.119437</td>\n",
       "      <td>...</td>\n",
       "      <td>8.053268</td>\n",
       "      <td>10.679629</td>\n",
       "    </tr>\n",
       "    <tr>\n",
       "      <th>5667</th>\n",
       "      <td>AC027288.1</td>\n",
       "      <td>0.391026</td>\n",
       "      <td>...</td>\n",
       "      <td>6.282366</td>\n",
       "      <td>10.584467</td>\n",
       "    </tr>\n",
       "    <tr>\n",
       "      <th>10576</th>\n",
       "      <td>AC116312.1</td>\n",
       "      <td>-1.011872</td>\n",
       "      <td>...</td>\n",
       "      <td>8.396823</td>\n",
       "      <td>10.535489</td>\n",
       "    </tr>\n",
       "    <tr>\n",
       "      <th>30670</th>\n",
       "      <td>KRT27</td>\n",
       "      <td>-1.868850</td>\n",
       "      <td>...</td>\n",
       "      <td>7.086526</td>\n",
       "      <td>10.468309</td>\n",
       "    </tr>\n",
       "    <tr>\n",
       "      <th>32603</th>\n",
       "      <td>LINC02104</td>\n",
       "      <td>-0.799729</td>\n",
       "      <td>...</td>\n",
       "      <td>6.380297</td>\n",
       "      <td>10.436955</td>\n",
       "    </tr>\n",
       "    <tr>\n",
       "      <th>14061</th>\n",
       "      <td>AL132857.1</td>\n",
       "      <td>-1.380650</td>\n",
       "      <td>...</td>\n",
       "      <td>7.638083</td>\n",
       "      <td>10.395375</td>\n",
       "    </tr>\n",
       "    <tr>\n",
       "      <th>10904</th>\n",
       "      <td>AC124854.1</td>\n",
       "      <td>-2.368592</td>\n",
       "      <td>...</td>\n",
       "      <td>8.068921</td>\n",
       "      <td>10.329760</td>\n",
       "    </tr>\n",
       "    <tr>\n",
       "      <th>31241</th>\n",
       "      <td>LINC00261</td>\n",
       "      <td>2.081175</td>\n",
       "      <td>...</td>\n",
       "      <td>5.534742</td>\n",
       "      <td>10.249661</td>\n",
       "    </tr>\n",
       "    <tr>\n",
       "      <th>48711</th>\n",
       "      <td>RPS29P11</td>\n",
       "      <td>3.445407</td>\n",
       "      <td>...</td>\n",
       "      <td>7.888660</td>\n",
       "      <td>10.233647</td>\n",
       "    </tr>\n",
       "    <tr>\n",
       "      <th>20383</th>\n",
       "      <td>BX842568.3</td>\n",
       "      <td>-3.040474</td>\n",
       "      <td>...</td>\n",
       "      <td>8.082240</td>\n",
       "      <td>10.106602</td>\n",
       "    </tr>\n",
       "    <tr>\n",
       "      <th>15306</th>\n",
       "      <td>AL354714.3</td>\n",
       "      <td>-0.389296</td>\n",
       "      <td>...</td>\n",
       "      <td>8.071914</td>\n",
       "      <td>10.079219</td>\n",
       "    </tr>\n",
       "    <tr>\n",
       "      <th>36754</th>\n",
       "      <td>MYBPHL</td>\n",
       "      <td>0.181291</td>\n",
       "      <td>...</td>\n",
       "      <td>6.172928</td>\n",
       "      <td>10.055557</td>\n",
       "    </tr>\n",
       "    <tr>\n",
       "      <th>31214</th>\n",
       "      <td>LINC00163</td>\n",
       "      <td>-1.632262</td>\n",
       "      <td>...</td>\n",
       "      <td>6.972058</td>\n",
       "      <td>9.944216</td>\n",
       "    </tr>\n",
       "    <tr>\n",
       "      <th>32139</th>\n",
       "      <td>LINC01625</td>\n",
       "      <td>-3.541576</td>\n",
       "      <td>...</td>\n",
       "      <td>7.298003</td>\n",
       "      <td>9.880353</td>\n",
       "    </tr>\n",
       "    <tr>\n",
       "      <th>13493</th>\n",
       "      <td>AL049634.1</td>\n",
       "      <td>-2.615583</td>\n",
       "      <td>...</td>\n",
       "      <td>6.687573</td>\n",
       "      <td>9.862954</td>\n",
       "    </tr>\n",
       "    <tr>\n",
       "      <th>32128</th>\n",
       "      <td>LINC01612</td>\n",
       "      <td>0.958156</td>\n",
       "      <td>...</td>\n",
       "      <td>8.436354</td>\n",
       "      <td>9.862219</td>\n",
       "    </tr>\n",
       "    <tr>\n",
       "      <th>3602</th>\n",
       "      <td>AC012511.1</td>\n",
       "      <td>-0.294518</td>\n",
       "      <td>...</td>\n",
       "      <td>5.841859</td>\n",
       "      <td>9.856618</td>\n",
       "    </tr>\n",
       "    <tr>\n",
       "      <th>37484</th>\n",
       "      <td>NKX2-1-AS1</td>\n",
       "      <td>1.169382</td>\n",
       "      <td>...</td>\n",
       "      <td>5.849730</td>\n",
       "      <td>9.813690</td>\n",
       "    </tr>\n",
       "    <tr>\n",
       "      <th>25391</th>\n",
       "      <td>F11</td>\n",
       "      <td>1.177153</td>\n",
       "      <td>...</td>\n",
       "      <td>6.506020</td>\n",
       "      <td>9.786670</td>\n",
       "    </tr>\n",
       "    <tr>\n",
       "      <th>249</th>\n",
       "      <td>AC002451.1</td>\n",
       "      <td>-1.998062</td>\n",
       "      <td>...</td>\n",
       "      <td>7.353941</td>\n",
       "      <td>9.645676</td>\n",
       "    </tr>\n",
       "    <tr>\n",
       "      <th>39818</th>\n",
       "      <td>PGM5-AS1</td>\n",
       "      <td>-1.048309</td>\n",
       "      <td>...</td>\n",
       "      <td>7.922052</td>\n",
       "      <td>9.638036</td>\n",
       "    </tr>\n",
       "    <tr>\n",
       "      <th>45637</th>\n",
       "      <td>RNF126P1</td>\n",
       "      <td>-2.478798</td>\n",
       "      <td>...</td>\n",
       "      <td>6.571011</td>\n",
       "      <td>9.598444</td>\n",
       "    </tr>\n",
       "    <tr>\n",
       "      <th>38338</th>\n",
       "      <td>OR1L8</td>\n",
       "      <td>-2.639527</td>\n",
       "      <td>...</td>\n",
       "      <td>7.184983</td>\n",
       "      <td>9.568890</td>\n",
       "    </tr>\n",
       "    <tr>\n",
       "      <th>3042</th>\n",
       "      <td>AC010890.1</td>\n",
       "      <td>-1.916292</td>\n",
       "      <td>...</td>\n",
       "      <td>6.671754</td>\n",
       "      <td>9.487519</td>\n",
       "    </tr>\n",
       "    <tr>\n",
       "      <th>8278</th>\n",
       "      <td>AC092691.1</td>\n",
       "      <td>0.123127</td>\n",
       "      <td>...</td>\n",
       "      <td>8.240222</td>\n",
       "      <td>9.454354</td>\n",
       "    </tr>\n",
       "    <tr>\n",
       "      <th>2245</th>\n",
       "      <td>AC008897.3</td>\n",
       "      <td>-1.001924</td>\n",
       "      <td>...</td>\n",
       "      <td>4.981883</td>\n",
       "      <td>9.436555</td>\n",
       "    </tr>\n",
       "    <tr>\n",
       "      <th>34112</th>\n",
       "      <td>MIA2</td>\n",
       "      <td>-3.585152</td>\n",
       "      <td>...</td>\n",
       "      <td>6.917209</td>\n",
       "      <td>9.415453</td>\n",
       "    </tr>\n",
       "    <tr>\n",
       "      <th>32977</th>\n",
       "      <td>LINC02489</td>\n",
       "      <td>1.982037</td>\n",
       "      <td>...</td>\n",
       "      <td>8.363608</td>\n",
       "      <td>9.295270</td>\n",
       "    </tr>\n",
       "    <tr>\n",
       "      <th>15437</th>\n",
       "      <td>AL355355.1</td>\n",
       "      <td>-2.763505</td>\n",
       "      <td>...</td>\n",
       "      <td>7.259975</td>\n",
       "      <td>9.251649</td>\n",
       "    </tr>\n",
       "    <tr>\n",
       "      <th>5705</th>\n",
       "      <td>AC027449.1</td>\n",
       "      <td>-1.801585</td>\n",
       "      <td>...</td>\n",
       "      <td>8.052539</td>\n",
       "      <td>9.240696</td>\n",
       "    </tr>\n",
       "    <tr>\n",
       "      <th>28259</th>\n",
       "      <td>HLX-AS1</td>\n",
       "      <td>-1.620793</td>\n",
       "      <td>...</td>\n",
       "      <td>7.853277</td>\n",
       "      <td>9.237601</td>\n",
       "    </tr>\n",
       "    <tr>\n",
       "      <th>3022</th>\n",
       "      <td>AC010776.2</td>\n",
       "      <td>-0.468854</td>\n",
       "      <td>...</td>\n",
       "      <td>7.782350</td>\n",
       "      <td>9.234190</td>\n",
       "    </tr>\n",
       "    <tr>\n",
       "      <th>31716</th>\n",
       "      <td>LINC01081</td>\n",
       "      <td>-1.710544</td>\n",
       "      <td>...</td>\n",
       "      <td>8.659409</td>\n",
       "      <td>9.213477</td>\n",
       "    </tr>\n",
       "    <tr>\n",
       "      <th>8609</th>\n",
       "      <td>AC093772.1</td>\n",
       "      <td>-1.248533</td>\n",
       "      <td>...</td>\n",
       "      <td>7.591667</td>\n",
       "      <td>9.206737</td>\n",
       "    </tr>\n",
       "    <tr>\n",
       "      <th>41940</th>\n",
       "      <td>RBMXL2</td>\n",
       "      <td>-5.246332</td>\n",
       "      <td>...</td>\n",
       "      <td>7.048846</td>\n",
       "      <td>9.198104</td>\n",
       "    </tr>\n",
       "  </tbody>\n",
       "</table>\n",
       "<p>50 rows × 6 columns</p>\n",
       "</div>"
      ],
      "text/plain": [
       "             NAME  Norm_mean  ...  Tumor_std   stdratio\n",
       "39821      PGM5P4   0.501840  ...   7.792972  14.249742\n",
       "46064    RNU5B-4P   0.449240  ...   8.969577  12.597440\n",
       "14319  AL136452.1   1.328496  ...   8.283594  12.526865\n",
       "39820  PGM5P3-AS1  -2.623688  ...   7.273343  12.189945\n",
       "39822  PGM5P4-AS1  -2.306742  ...   7.446278  11.753980\n",
       "13008  AL008733.1  -0.548366  ...   8.332124  11.667950\n",
       "27111       GLOD5   0.021836  ...   5.129703  11.483851\n",
       "27080        GKN2   4.736892  ...   6.978927  11.264977\n",
       "12715  AF186192.1  -1.183763  ...   7.107154  11.247891\n",
       "13731  AL109741.3  -0.741398  ...   7.162730  11.117462\n",
       "1065   AC005884.1  -0.144821  ...   8.061596  11.079987\n",
       "49748       SFTA3   5.097280  ...   5.227402  10.856845\n",
       "8706   AC096531.2   0.147007  ...   6.958371  10.801590\n",
       "34093   MGAT3-AS1  -0.951417  ...   8.164390  10.692957\n",
       "14779  AL158055.1  -2.821824  ...   7.737949  10.690223\n",
       "8196   AC092569.1  -1.119437  ...   8.053268  10.679629\n",
       "5667   AC027288.1   0.391026  ...   6.282366  10.584467\n",
       "10576  AC116312.1  -1.011872  ...   8.396823  10.535489\n",
       "30670       KRT27  -1.868850  ...   7.086526  10.468309\n",
       "32603   LINC02104  -0.799729  ...   6.380297  10.436955\n",
       "14061  AL132857.1  -1.380650  ...   7.638083  10.395375\n",
       "10904  AC124854.1  -2.368592  ...   8.068921  10.329760\n",
       "31241   LINC00261   2.081175  ...   5.534742  10.249661\n",
       "48711    RPS29P11   3.445407  ...   7.888660  10.233647\n",
       "20383  BX842568.3  -3.040474  ...   8.082240  10.106602\n",
       "15306  AL354714.3  -0.389296  ...   8.071914  10.079219\n",
       "36754      MYBPHL   0.181291  ...   6.172928  10.055557\n",
       "31214   LINC00163  -1.632262  ...   6.972058   9.944216\n",
       "32139   LINC01625  -3.541576  ...   7.298003   9.880353\n",
       "13493  AL049634.1  -2.615583  ...   6.687573   9.862954\n",
       "32128   LINC01612   0.958156  ...   8.436354   9.862219\n",
       "3602   AC012511.1  -0.294518  ...   5.841859   9.856618\n",
       "37484  NKX2-1-AS1   1.169382  ...   5.849730   9.813690\n",
       "25391         F11   1.177153  ...   6.506020   9.786670\n",
       "249    AC002451.1  -1.998062  ...   7.353941   9.645676\n",
       "39818    PGM5-AS1  -1.048309  ...   7.922052   9.638036\n",
       "45637    RNF126P1  -2.478798  ...   6.571011   9.598444\n",
       "38338       OR1L8  -2.639527  ...   7.184983   9.568890\n",
       "3042   AC010890.1  -1.916292  ...   6.671754   9.487519\n",
       "8278   AC092691.1   0.123127  ...   8.240222   9.454354\n",
       "2245   AC008897.3  -1.001924  ...   4.981883   9.436555\n",
       "34112        MIA2  -3.585152  ...   6.917209   9.415453\n",
       "32977   LINC02489   1.982037  ...   8.363608   9.295270\n",
       "15437  AL355355.1  -2.763505  ...   7.259975   9.251649\n",
       "5705   AC027449.1  -1.801585  ...   8.052539   9.240696\n",
       "28259     HLX-AS1  -1.620793  ...   7.853277   9.237601\n",
       "3022   AC010776.2  -0.468854  ...   7.782350   9.234190\n",
       "31716   LINC01081  -1.710544  ...   8.659409   9.213477\n",
       "8609   AC093772.1  -1.248533  ...   7.591667   9.206737\n",
       "41940      RBMXL2  -5.246332  ...   7.048846   9.198104\n",
       "\n",
       "[50 rows x 6 columns]"
      ]
     },
     "execution_count": 34,
     "metadata": {},
     "output_type": "execute_result"
    }
   ],
   "source": [
    "filtered_final = finaldf[finaldf['Norm_std'] > 1e-6]  #adding a tiny value to avoid NANs later\n",
    "filtered_final.sort_values(by=['stdratio'], ascending=False).nlargest(50,'stdratio')"
   ]
  },
  {
   "cell_type": "code",
   "execution_count": 35,
   "id": "63315f45-15cb-408d-b097-72ffcb919b6f",
   "metadata": {},
   "outputs": [
    {
     "data": {
      "text/plain": [
       "(49604, 6)"
      ]
     },
     "execution_count": 35,
     "metadata": {},
     "output_type": "execute_result"
    }
   ],
   "source": [
    "filtered_final.shape"
   ]
  },
  {
   "cell_type": "markdown",
   "id": "7fb834b3-9c39-4c1f-a00f-c332bd5cd822",
   "metadata": {},
   "source": [
    "### Summary\n",
    "\n",
    "Now it is clear that a lot of genes weren't being expressed in the normal samples (about 7000 or so).  These were filtered out indirectly: we could have removed genes for which Norm_mean was zero, but those genes would also have a standard deviation of zero.  Either way, they are no longer included in the analysis."
   ]
  },
  {
   "cell_type": "markdown",
   "id": "d3f1c8bd-7c9c-4bd5-857c-89eb9d0dd1ac",
   "metadata": {},
   "source": [
    "## Informing feature selection"
   ]
  },
  {
   "cell_type": "markdown",
   "id": "6feda0ba-62a2-4148-88ae-0cf7d407e4d1",
   "metadata": {},
   "source": [
    "Most oncogenes are NOT specific to a particular cancer, and because it is so important to know if a tumor is primary or secondary, the search for truly unique oncogenes that are only expressed in one, or a handful of related cancer types, is very useful.  Certain oncogenes may thus be rejected for use in the final model, due to lack of specificity, but we will analyze this more in depth after we have added annotations.\n",
    "\n",
    "As noted earlier there are more non-coding transcripts to be excluded as well.  For instance:\n",
    "\n",
    "Certain LincRNAs are upregulated in 13 cancers--above we see a number of them strongly upregulated.  See also 'The functions and unique features of long intergenic non-coding RNA'\n",
    "Julia D. Ransohoff,1 Yuning Wei,1 and Paul A. Khavari1,2  in Nat Rev Mol Cell Biol. Author manuscript; available in PMC 2018 Apr 6.\n",
    "Published in final edited form as:\n",
    "Nat Rev Mol Cell Biol. 2018 Mar; 19(3): 143–157.\n",
    "Published online 2017 Nov 15. doi: 10.1038/nrm.2017.104"
   ]
  },
  {
   "cell_type": "markdown",
   "id": "7ea359b8-5d2c-43be-b44b-f1838d9c6a4e",
   "metadata": {},
   "source": [
    "## Conclusions:  LUSC dataset wrangling"
   ]
  },
  {
   "cell_type": "markdown",
   "id": "10151bbd-a497-4c77-bf2e-1bf0fd0b5a25",
   "metadata": {},
   "source": [
    "At first glance we can see some strong differences in expression variance between normal and tumor genes; that said, we have some 57000 genes in the dataset, and while we have gene names, we don't have functions.  Adding gene function information is essential in understanding what may be actually significant versus random noise.  Recall that, by conservative estimates, 51.8% of the human genome is transcribed, but only 1.2% encodes proteins!  As a path forward, while it is interesting to note what is going on with LINCrnas and other non-protein coding RNAs, it will be essential from an analysis standpoint to narrow the array data to protein-coding genes that are active in healthy lung tissue samples.\n",
    "\n",
    "In the next section we add gene annotations, and attempt to downselect to roughly 25 genes *based entirely on biological considerations for normal activity*, that is, we will strenuously avoid using direct knowledge of tumor data as we choose candidate genes. The model will use these to predict tumor vs normal.  (We can also compare performance with sets of *known* oncogenes or biomarkers of disease as predictors).\n"
   ]
  },
  {
   "cell_type": "markdown",
   "id": "64a33f54-24c8-4bf6-b464-b1d5eacb140e",
   "metadata": {},
   "source": [
    "## 2. Data wrangling, continued: Adding gene annotations to narrow down feature selection"
   ]
  },
  {
   "cell_type": "markdown",
   "id": "dd3d8738-041c-4324-8ed9-919e5320665e",
   "metadata": {},
   "source": [
    "Now we will use annotations of human genes from the following source: https://www.alliancegenome.org/downloads#gene-descriptions\n",
    "which was found through this article: https://www.ncbi.nlm.nih.gov/pmc/articles/PMC7304461/ on automated gene annotation.\n",
    "\n",
    "The file will need to be parsed and then matched to existing genes in the expression database.  The high level goal is to select a relatively small number of human genes--preferably related to healthy lung cell function--so that the use of expression data is properly limited to prevent overfitting, and hopefully, to improve the explainability of the model.  The compressed file was downloaded and unzipped to the working directory. "
   ]
  },
  {
   "cell_type": "code",
   "execution_count": 36,
   "id": "7d75e933-16eb-4f0e-8a59-10987bb595a3",
   "metadata": {},
   "outputs": [
    {
     "name": "stdout",
     "output_type": "stream",
     "text": [
      "C:\\Users\\Owner\\Downloads\\archive (3)\n"
     ]
    },
    {
     "data": {
      "text/plain": [
       "['.ipynb_checkpoints',\n",
       " 'GENE-DESCRIPTION-JSON_HUMAN.json',\n",
       " 'GENE-DESCRIPTION-TSV_HUMAN.tsv',\n",
       " 'GENE-DES_HUMAN.txt',\n",
       " 'LUSCexpfile.csv',\n",
       " 'LUSC_TLK.ipynb']"
      ]
     },
     "execution_count": 36,
     "metadata": {},
     "output_type": "execute_result"
    }
   ],
   "source": [
    "import os\n",
    "current_path = os.getcwd()\n",
    "print(current_path)\n",
    "\n",
    "os.listdir()"
   ]
  },
  {
   "cell_type": "markdown",
   "id": "6b0e3c39-8e56-4091-8617-766889a76292",
   "metadata": {},
   "source": [
    "To read a TSV (Tab-Separated Values) file into a pandas DataFrame, you can use the pd.read_csv() function with the sep parameter set to ‘\\t’ to specify that the file is tab-separated:"
   ]
  },
  {
   "cell_type": "code",
   "execution_count": 37,
   "id": "b96b913c-a83f-4a2f-a50a-2ea6214fc497",
   "metadata": {},
   "outputs": [
    {
     "name": "stdout",
     "output_type": "stream",
     "text": [
      "         CODE   NAME                                        DESCRIPTION\n",
      "0    HGNC:100  ASIC1  Enables pH-gated monoatomic ion channel activi...\n",
      "1  HGNC:10000   RGS4  Predicted to enable GTPase activator activity;...\n",
      "2  HGNC:10001   RGS5  Predicted to enable GTPase activator activity ...\n",
      "3  HGNC:10002   RGS6  Enables GTPase activator activity. Predicted t...\n",
      "4  HGNC:10003   RGS7  Enables G-protein alpha-subunit binding activi...\n"
     ]
    }
   ],
   "source": [
    "#let's try it.\n",
    "Annot_df = pd.read_csv('GENE-DESCRIPTION-TSV_HUMAN.tsv', skiprows=14, sep='\\t', names =['CODE', 'NAME', 'DESCRIPTION'])\n",
    "print(Annot_df.head())"
   ]
  },
  {
   "cell_type": "code",
   "execution_count": 38,
   "id": "b5776f6f-4e98-481f-a284-24b4a8dfac1a",
   "metadata": {},
   "outputs": [
    {
     "data": {
      "text/plain": [
       "(43404, 3)"
      ]
     },
     "execution_count": 38,
     "metadata": {},
     "output_type": "execute_result"
    }
   ],
   "source": [
    "#what have we here...\n",
    "Annot_df.shape"
   ]
  },
  {
   "cell_type": "markdown",
   "id": "768e61e3-7ea2-4f20-86f1-16fdc467d836",
   "metadata": {},
   "source": [
    "The goal now is to pull only those rows where the description includes the word 'Lung'.  Note that there are genes for which there is 'no description available'.  Those, perhaps, can be examined separately, if time permits."
   ]
  },
  {
   "cell_type": "code",
   "execution_count": 39,
   "id": "973856ef-652d-42db-af5d-ace6a131353b",
   "metadata": {},
   "outputs": [
    {
     "name": "stdout",
     "output_type": "stream",
     "text": [
      "           CODE   NAME                                        DESCRIPTION\n",
      "263   HGNC:1033   BDNF  Predicted to enable growth factor activity and...\n",
      "375  HGNC:10451   RRM1  Enables identical protein binding activity and...\n",
      "376  HGNC:10452   RRM2  Predicted to enable ribonucleoside-diphosphate...\n",
      "390  HGNC:10471  RUNX1  Enables several functions, including DNA-bindi...\n",
      "391  HGNC:10472  RUNX2  Enables sequence-specific double-stranded DNA ...\n"
     ]
    }
   ],
   "source": [
    "filtered_df = Annot_df[Annot_df[\"DESCRIPTION\"].str.contains(\"lung\")]\n",
    "print(filtered_df.head())"
   ]
  },
  {
   "cell_type": "code",
   "execution_count": 40,
   "id": "6dae24a7-1628-4c8b-8df0-07ea19909c2c",
   "metadata": {},
   "outputs": [
    {
     "data": {
      "text/plain": [
       "(425, 3)"
      ]
     },
     "execution_count": 40,
     "metadata": {},
     "output_type": "execute_result"
    }
   ],
   "source": [
    "filtered_df.shape"
   ]
  },
  {
   "cell_type": "markdown",
   "id": "4dd81a00-16d7-4fb0-af9d-2be3e9c7ce46",
   "metadata": {},
   "source": [
    "Excellent!  The total number of genes is much more manageable now, and we can filter further.\n",
    "\n",
    "We will proceed by matching with the 'finaldf' which may contain genes with zero expression in normal samples--this is a note of caution."
   ]
  },
  {
   "cell_type": "code",
   "execution_count": 41,
   "id": "e483d54e-490b-4218-a342-940b487be944",
   "metadata": {},
   "outputs": [
    {
     "name": "stdout",
     "output_type": "stream",
     "text": [
      "       NAME  Norm_mean  ...  Tumor_std  stdratio\n",
      "0      A1BG  -3.678356  ...   1.582747  1.936906\n",
      "1  A1BG-AS1  -0.181150  ...   1.106743  2.070087\n",
      "2      A1CF -12.826603  ...   5.886855  1.017487\n",
      "3       A2M   9.506983  ...   1.281895  2.290412\n",
      "4   A2M-AS1  -0.314353  ...   0.937864  2.250421\n",
      "\n",
      "[5 rows x 6 columns]\n"
     ]
    }
   ],
   "source": [
    "print(finaldf.head())"
   ]
  },
  {
   "cell_type": "code",
   "execution_count": 42,
   "id": "556938ae-d287-4418-a1a9-c4a0db84f41e",
   "metadata": {},
   "outputs": [
    {
     "name": "stdout",
     "output_type": "stream",
     "text": [
      "    NAME  Norm_mean  ...        CODE  \\\n",
      "0   BDNF  -0.078699  ...   HGNC:1033   \n",
      "1   RRM1   3.111166  ...  HGNC:10451   \n",
      "2   RRM2  -0.078324  ...  HGNC:10452   \n",
      "3  RUNX1   2.695032  ...  HGNC:10471   \n",
      "4  RUNX2  -0.255691  ...  HGNC:10472   \n",
      "\n",
      "                                         DESCRIPTION  \n",
      "0  Predicted to enable growth factor activity and...  \n",
      "1  Enables identical protein binding activity and...  \n",
      "2  Predicted to enable ribonucleoside-diphosphate...  \n",
      "3  Enables several functions, including DNA-bindi...  \n",
      "4  Enables sequence-specific double-stranded DNA ...  \n",
      "\n",
      "[5 rows x 8 columns]\n"
     ]
    }
   ],
   "source": [
    "merged_df = pd.merge(finaldf, filtered_df, on='NAME', how='right') \n",
    "print(merged_df.head())"
   ]
  },
  {
   "cell_type": "code",
   "execution_count": 43,
   "id": "88d69451-fab0-4d3a-89f3-e7cde0d44144",
   "metadata": {},
   "outputs": [
    {
     "data": {
      "text/plain": [
       "(425, 8)"
      ]
     },
     "execution_count": 43,
     "metadata": {},
     "output_type": "execute_result"
    }
   ],
   "source": [
    "merged_df.shape"
   ]
  },
  {
   "cell_type": "markdown",
   "id": "bd961b37-b72d-4d41-bfe1-5bf440affad0",
   "metadata": {},
   "source": [
    "All of the genes matched.  Perhaps some are inactive in the normal tissue.  We can filter as before to check:"
   ]
  },
  {
   "cell_type": "code",
   "execution_count": 44,
   "id": "fa22072b-f7e5-43df-8772-dcbe41bf88f6",
   "metadata": {},
   "outputs": [
    {
     "data": {
      "text/plain": [
       "(406, 8)"
      ]
     },
     "execution_count": 44,
     "metadata": {},
     "output_type": "execute_result"
    }
   ],
   "source": [
    "filtered_merged = merged_df[merged_df['Norm_std'] > 1e-6]  \n",
    "filtered_merged.shape"
   ]
  },
  {
   "cell_type": "markdown",
   "id": "66b2155b-8927-4daa-9a00-10c9e2d49a8d",
   "metadata": {},
   "source": [
    "Ok:  19 genes off the list.  At this point we have gone through several iterations of the dataframe, and it is worth summarizing what we have."
   ]
  },
  {
   "cell_type": "markdown",
   "id": "d4fab47f-2239-47a1-b807-cfccdad6040b",
   "metadata": {},
   "source": [
    "### Summary of current dataframes:\n",
    "\n",
    "filtered_merged:  This dataframe contains ONLY lung genes with non-zero expression in normal tissue, plus annotations and summary statistics.\n",
    "logdf:  this dataframe contains the log expression values (with 1e-6 added), which will be needed in our analysis."
   ]
  },
  {
   "cell_type": "markdown",
   "id": "e2e21b4e-9a21-407b-9940-9933d41a9628",
   "metadata": {},
   "source": [
    "### More filtering:\n",
    "We don't want to include KNOWN biomarkers of disease, so let's remove those from consideration: "
   ]
  },
  {
   "cell_type": "code",
   "execution_count": 45,
   "id": "07ae6833-18fd-4dd0-97ac-f621f4656fbb",
   "metadata": {},
   "outputs": [
    {
     "name": "stdout",
     "output_type": "stream",
     "text": [
      "           NAME  Norm_mean  ...        CODE  \\\n",
      "18         SDHC   2.252911  ...  HGNC:10682   \n",
      "27        SHOX2  -5.147524  ...  HGNC:10854   \n",
      "28         SIM2  -2.986670  ...  HGNC:10883   \n",
      "50      SULT1A1   2.343635  ...  HGNC:11453   \n",
      "51         TBX4   3.392331  ...  HGNC:11603   \n",
      "52        DAGLA   0.729317  ...   HGNC:1165   \n",
      "65        TRPC4  -1.367478  ...  HGNC:12336   \n",
      "74         ZIC3 -16.524010  ...  HGNC:12874   \n",
      "75       ZNF157  -4.162069  ...  HGNC:12942   \n",
      "89       CHRNA9  -6.707083  ...  HGNC:14079   \n",
      "91          CIC   3.277328  ...  HGNC:14214   \n",
      "105       RTEL1  -2.851685  ...  HGNC:15888   \n",
      "108       NCOA6   2.381360  ...  HGNC:15936   \n",
      "136     NKIRAS2   2.731888  ...  HGNC:17898   \n",
      "137     NKIRAS1   1.523857  ...  HGNC:17899   \n",
      "139       CMPK1   5.360355  ...  HGNC:18170   \n",
      "140       ASXL1   3.033214  ...  HGNC:18318   \n",
      "147       DPPA2 -17.706303  ...  HGNC:19197   \n",
      "148       DPPA4  -7.029122  ...  HGNC:19200   \n",
      "153       RXFP1   0.675455  ...  HGNC:19718   \n",
      "157       TRPC7 -18.928888  ...  HGNC:20754   \n",
      "158        PAOX   1.126756  ...  HGNC:20837   \n",
      "162       STK40   4.139050  ...  HGNC:21373   \n",
      "168       PHF14   1.758414  ...  HGNC:22203   \n",
      "169        COPA   5.114477  ...   HGNC:2230   \n",
      "181     TMEM38B   1.197102  ...  HGNC:25535   \n",
      "188      CCDC40  -0.174904  ...  HGNC:26090   \n",
      "190     CCDC116  -3.821066  ...  HGNC:26688   \n",
      "193       MPZL3   2.652505  ...  HGNC:27279   \n",
      "208       STRAP   5.229397  ...  HGNC:30796   \n",
      "209        DVL3   3.568958  ...   HGNC:3087   \n",
      "229      MIR367 -18.432784  ...  HGNC:31781   \n",
      "243      SNHG20   0.124062  ...  HGNC:33099   \n",
      "245      ATXN1L   2.987904  ...  HGNC:33279   \n",
      "250       CFC1B -18.581555  ...  HGNC:33983   \n",
      "263         FES   3.069147  ...   HGNC:3657   \n",
      "264       FGF10  -0.326056  ...   HGNC:3666   \n",
      "268          FH   4.173180  ...   HGNC:3700   \n",
      "271  MIRLET7BHG  -1.572545  ...  HGNC:37189   \n",
      "274       FOXJ1   2.883319  ...   HGNC:3816   \n",
      "285      FENDRR   2.784248  ...  HGNC:43894   \n",
      "306      HS3ST2   1.973635  ...   HGNC:5195   \n",
      "313       AP3B1   2.838824  ...    HGNC:566   \n",
      "339       LAMA3   3.410678  ...   HGNC:6483   \n",
      "348      MAN1A2   2.360571  ...   HGNC:6822   \n",
      "349      MAN2A1   1.996711  ...   HGNC:6824   \n",
      "356       MAT2A   5.184159  ...   HGNC:6904   \n",
      "357         MAX   3.776226  ...   HGNC:6913   \n",
      "358        MBD1   2.960976  ...   HGNC:6916   \n",
      "359        MBD4   3.346776  ...   HGNC:6919   \n",
      "\n",
      "                                           DESCRIPTION  \n",
      "18   Predicted to enable heme binding activity. Pre...  \n",
      "27   Predicted to enable DNA-binding transcription ...  \n",
      "28   Predicted to enable DNA-binding transcription ...  \n",
      "50   Enables 3'-phosphoadenosine 5'-phosphosulfate ...  \n",
      "51   Predicted to enable DNA-binding transcription ...  \n",
      "52   Predicted to enable lipoprotein lipase activit...  \n",
      "65   Enables beta-catenin binding activity; cadheri...  \n",
      "74   Enables DNA-binding transcription activator ac...  \n",
      "75   Predicted to enable DNA-binding transcription ...  \n",
      "89   Enables acetylcholine-gated monoatomic cation-...  \n",
      "91   Predicted to enable DNA-binding transcription ...  \n",
      "105  Enables ATP binding activity and DNA helicase ...  \n",
      "108  Enables enzyme binding activity; nuclear recep...  \n",
      "136  Predicted to enable GTPase activating protein ...  \n",
      "137  Predicted to enable GTPase activating protein ...  \n",
      "139  Enables UMP kinase activity and nucleoside dip...  \n",
      "140  Predicted to enable several functions, includi...  \n",
      "147  Predicted to enable chromatin binding activity...  \n",
      "148  Predicted to enable chromatin binding activity...  \n",
      "153  Enables G protein-coupled receptor activity. P...  \n",
      "157  Predicted to enable inositol 1,4,5 trisphospha...  \n",
      "158  Enables polyamine oxidase activity. Involved i...  \n",
      "162  Predicted to enable ATP binding activity; prot...  \n",
      "168  Enables histone binding activity. Predicted to...  \n",
      "169  Predicted to enable mRNA binding activity. Act...  \n",
      "181  Predicted to enable potassium channel activity...  \n",
      "188  Involved in axonemal dynein complex assembly; ...  \n",
      "190  Located in centrosome. Implicated in lung cancer.  \n",
      "193  Predicted to be involved in cell adhesion. Pre...  \n",
      "208  Enables RNA binding activity. Involved in main...  \n",
      "209  Enables beta-catenin binding activity; enzyme ...  \n",
      "229  Predicted to be involved in miRNA-mediated pos...  \n",
      "243  Predicted to be involved in cellular response ...  \n",
      "245  Predicted to enable DNA binding activity; POZ ...  \n",
      "250  Predicted to enable activin receptor binding a...  \n",
      "263  Enables immunoglobulin receptor binding activi...  \n",
      "264  Enables heparin binding activity; receptor lig...  \n",
      "268  Enables fumarate hydratase activity and histon...  \n",
      "271  Predicted to be involved in miRNA-mediated pos...  \n",
      "274  Enables transcription cis-regulatory region bi...  \n",
      "285  Predicted to enable core promoter sequence-spe...  \n",
      "306  Enables [heparan sulfate]-glucosamine 3-sulfot...  \n",
      "313  Enables GTP-dependent protein binding activity...  \n",
      "339  Predicted to enable integrin binding activity....  \n",
      "348  Predicted to enable mannosyl-oligosaccharide 1...  \n",
      "349  Predicted to enable alpha-mannosidase activity...  \n",
      "356  Enables identical protein binding activity; me...  \n",
      "357  Enables several functions, including DNA-bindi...  \n",
      "358  Enables DNA binding activity and zinc ion bind...  \n",
      "359  Enables pyrimidine-specific mismatch base pair...  \n",
      "\n",
      "[50 rows x 8 columns]\n"
     ]
    }
   ],
   "source": [
    "possible_targets = filtered_merged[~filtered_merged[\"DESCRIPTION\"].str.contains(\"Biomarker\")]\n",
    "print(possible_targets.head(50))"
   ]
  },
  {
   "cell_type": "code",
   "execution_count": 46,
   "id": "f97dafde-f33b-474c-a701-f3e31912f5b7",
   "metadata": {},
   "outputs": [
    {
     "data": {
      "text/plain": [
       "(58, 8)"
      ]
     },
     "execution_count": 46,
     "metadata": {},
     "output_type": "execute_result"
    }
   ],
   "source": [
    "possible_targets.shape"
   ]
  },
  {
   "cell_type": "markdown",
   "id": "8175b9bf-74ba-4422-9241-6521846b0893",
   "metadata": {},
   "source": [
    "Ok now we are down to 58 candidate genes.  Let's remove the known genes where the description includes 'Enables'.\n",
    "\n",
    "The reason for this step is two-fold.  First, we'd like to get the number of variables down to roughly 25; secondly, we'd like to avoid using known genes (in the hopes that some biomarker discovery is a useful byproduct of the analysis)."
   ]
  },
  {
   "cell_type": "code",
   "execution_count": 47,
   "id": "a95b9d02-393e-4b4a-adbf-c06a2c1a4912",
   "metadata": {},
   "outputs": [
    {
     "name": "stdout",
     "output_type": "stream",
     "text": [
      "           NAME  Norm_mean  ...        CODE  \\\n",
      "18         SDHC   2.252911  ...  HGNC:10682   \n",
      "27        SHOX2  -5.147524  ...  HGNC:10854   \n",
      "28         SIM2  -2.986670  ...  HGNC:10883   \n",
      "51         TBX4   3.392331  ...  HGNC:11603   \n",
      "52        DAGLA   0.729317  ...   HGNC:1165   \n",
      "75       ZNF157  -4.162069  ...  HGNC:12942   \n",
      "91          CIC   3.277328  ...  HGNC:14214   \n",
      "136     NKIRAS2   2.731888  ...  HGNC:17898   \n",
      "137     NKIRAS1   1.523857  ...  HGNC:17899   \n",
      "140       ASXL1   3.033214  ...  HGNC:18318   \n",
      "147       DPPA2 -17.706303  ...  HGNC:19197   \n",
      "148       DPPA4  -7.029122  ...  HGNC:19200   \n",
      "157       TRPC7 -18.928888  ...  HGNC:20754   \n",
      "162       STK40   4.139050  ...  HGNC:21373   \n",
      "169        COPA   5.114477  ...   HGNC:2230   \n",
      "181     TMEM38B   1.197102  ...  HGNC:25535   \n",
      "188      CCDC40  -0.174904  ...  HGNC:26090   \n",
      "190     CCDC116  -3.821066  ...  HGNC:26688   \n",
      "193       MPZL3   2.652505  ...  HGNC:27279   \n",
      "229      MIR367 -18.432784  ...  HGNC:31781   \n",
      "243      SNHG20   0.124062  ...  HGNC:33099   \n",
      "245      ATXN1L   2.987904  ...  HGNC:33279   \n",
      "250       CFC1B -18.581555  ...  HGNC:33983   \n",
      "271  MIRLET7BHG  -1.572545  ...  HGNC:37189   \n",
      "285      FENDRR   2.784248  ...  HGNC:43894   \n",
      "339       LAMA3   3.410678  ...   HGNC:6483   \n",
      "348      MAN1A2   2.360571  ...   HGNC:6822   \n",
      "349      MAN2A1   1.996711  ...   HGNC:6824   \n",
      "376        MSH5  -2.524527  ...   HGNC:7328   \n",
      "381        NAT2  -3.506457  ...   HGNC:7646   \n",
      "407     PPP2R1B   2.077881  ...   HGNC:9303   \n",
      "\n",
      "                                           DESCRIPTION  \n",
      "18   Predicted to enable heme binding activity. Pre...  \n",
      "27   Predicted to enable DNA-binding transcription ...  \n",
      "28   Predicted to enable DNA-binding transcription ...  \n",
      "51   Predicted to enable DNA-binding transcription ...  \n",
      "52   Predicted to enable lipoprotein lipase activit...  \n",
      "75   Predicted to enable DNA-binding transcription ...  \n",
      "91   Predicted to enable DNA-binding transcription ...  \n",
      "136  Predicted to enable GTPase activating protein ...  \n",
      "137  Predicted to enable GTPase activating protein ...  \n",
      "140  Predicted to enable several functions, includi...  \n",
      "147  Predicted to enable chromatin binding activity...  \n",
      "148  Predicted to enable chromatin binding activity...  \n",
      "157  Predicted to enable inositol 1,4,5 trisphospha...  \n",
      "162  Predicted to enable ATP binding activity; prot...  \n",
      "169  Predicted to enable mRNA binding activity. Act...  \n",
      "181  Predicted to enable potassium channel activity...  \n",
      "188  Involved in axonemal dynein complex assembly; ...  \n",
      "190  Located in centrosome. Implicated in lung cancer.  \n",
      "193  Predicted to be involved in cell adhesion. Pre...  \n",
      "229  Predicted to be involved in miRNA-mediated pos...  \n",
      "243  Predicted to be involved in cellular response ...  \n",
      "245  Predicted to enable DNA binding activity; POZ ...  \n",
      "250  Predicted to enable activin receptor binding a...  \n",
      "271  Predicted to be involved in miRNA-mediated pos...  \n",
      "285  Predicted to enable core promoter sequence-spe...  \n",
      "339  Predicted to enable integrin binding activity....  \n",
      "348  Predicted to enable mannosyl-oligosaccharide 1...  \n",
      "349  Predicted to enable alpha-mannosidase activity...  \n",
      "376  Predicted to enable double-stranded DNA bindin...  \n",
      "381  Predicted to enable arylamine N-acetyltransfer...  \n",
      "407  Predicted to enable protein phosphatase regula...  \n",
      "\n",
      "[31 rows x 8 columns]\n"
     ]
    }
   ],
   "source": [
    "final_targets = possible_targets[~possible_targets[\"DESCRIPTION\"].str.contains(\"Enables\")]\n",
    "print(final_targets.head(50))"
   ]
  },
  {
   "cell_type": "code",
   "execution_count": 48,
   "id": "68b68b7a-d62c-41b6-9b8e-def02485372f",
   "metadata": {},
   "outputs": [
    {
     "name": "stdout",
     "output_type": "stream",
     "text": [
      "        NAME  Norm_mean  ...        CODE  \\\n",
      "18      SDHC   2.252911  ...  HGNC:10682   \n",
      "28      SIM2  -2.986670  ...  HGNC:10883   \n",
      "51      TBX4   3.392331  ...  HGNC:11603   \n",
      "75    ZNF157  -4.162069  ...  HGNC:12942   \n",
      "91       CIC   3.277328  ...  HGNC:14214   \n",
      "136  NKIRAS2   2.731888  ...  HGNC:17898   \n",
      "137  NKIRAS1   1.523857  ...  HGNC:17899   \n",
      "140    ASXL1   3.033214  ...  HGNC:18318   \n",
      "147    DPPA2 -17.706303  ...  HGNC:19197   \n",
      "148    DPPA4  -7.029122  ...  HGNC:19200   \n",
      "162    STK40   4.139050  ...  HGNC:21373   \n",
      "169     COPA   5.114477  ...   HGNC:2230   \n",
      "181  TMEM38B   1.197102  ...  HGNC:25535   \n",
      "188   CCDC40  -0.174904  ...  HGNC:26090   \n",
      "229   MIR367 -18.432784  ...  HGNC:31781   \n",
      "243   SNHG20   0.124062  ...  HGNC:33099   \n",
      "245   ATXN1L   2.987904  ...  HGNC:33279   \n",
      "250    CFC1B -18.581555  ...  HGNC:33983   \n",
      "285   FENDRR   2.784248  ...  HGNC:43894   \n",
      "339    LAMA3   3.410678  ...   HGNC:6483   \n",
      "348   MAN1A2   2.360571  ...   HGNC:6822   \n",
      "349   MAN2A1   1.996711  ...   HGNC:6824   \n",
      "376     MSH5  -2.524527  ...   HGNC:7328   \n",
      "381     NAT2  -3.506457  ...   HGNC:7646   \n",
      "\n",
      "                                           DESCRIPTION  \n",
      "18   Predicted to enable heme binding activity. Pre...  \n",
      "28   Predicted to enable DNA-binding transcription ...  \n",
      "51   Predicted to enable DNA-binding transcription ...  \n",
      "75   Predicted to enable DNA-binding transcription ...  \n",
      "91   Predicted to enable DNA-binding transcription ...  \n",
      "136  Predicted to enable GTPase activating protein ...  \n",
      "137  Predicted to enable GTPase activating protein ...  \n",
      "140  Predicted to enable several functions, includi...  \n",
      "147  Predicted to enable chromatin binding activity...  \n",
      "148  Predicted to enable chromatin binding activity...  \n",
      "162  Predicted to enable ATP binding activity; prot...  \n",
      "169  Predicted to enable mRNA binding activity. Act...  \n",
      "181  Predicted to enable potassium channel activity...  \n",
      "188  Involved in axonemal dynein complex assembly; ...  \n",
      "229  Predicted to be involved in miRNA-mediated pos...  \n",
      "243  Predicted to be involved in cellular response ...  \n",
      "245  Predicted to enable DNA binding activity; POZ ...  \n",
      "250  Predicted to enable activin receptor binding a...  \n",
      "285  Predicted to enable core promoter sequence-spe...  \n",
      "339  Predicted to enable integrin binding activity....  \n",
      "348  Predicted to enable mannosyl-oligosaccharide 1...  \n",
      "349  Predicted to enable alpha-mannosidase activity...  \n",
      "376  Predicted to enable double-stranded DNA bindin...  \n",
      "381  Predicted to enable arylamine N-acetyltransfer...  \n",
      "\n",
      "[24 rows x 8 columns]\n"
     ]
    }
   ],
   "source": [
    "#Looking a lot better.  That said, consider row 190: 'Implicated in lung cancer'. We should apply another filter:\n",
    "final_targets2 = final_targets[~final_targets[\"DESCRIPTION\"].str.contains(\"cancer\")]\n",
    "print(final_targets2.head(50))"
   ]
  },
  {
   "cell_type": "markdown",
   "id": "3edfac2e-57bd-43ba-923a-00f01c64a08b",
   "metadata": {},
   "source": [
    "Now the dataset is approaching a small enough number to work with.  The other seven genes can be held out for now, and added back later if needed."
   ]
  },
  {
   "cell_type": "code",
   "execution_count": 49,
   "id": "f31dabce-a62b-4e17-b679-a77d6b1c8eb8",
   "metadata": {},
   "outputs": [
    {
     "name": "stdout",
     "output_type": "stream",
     "text": [
      "           NAME  Norm_mean  ...        CODE  \\\n",
      "27        SHOX2  -5.147524  ...  HGNC:10854   \n",
      "52        DAGLA   0.729317  ...   HGNC:1165   \n",
      "157       TRPC7 -18.928888  ...  HGNC:20754   \n",
      "190     CCDC116  -3.821066  ...  HGNC:26688   \n",
      "193       MPZL3   2.652505  ...  HGNC:27279   \n",
      "271  MIRLET7BHG  -1.572545  ...  HGNC:37189   \n",
      "407     PPP2R1B   2.077881  ...   HGNC:9303   \n",
      "\n",
      "                                           DESCRIPTION  \n",
      "27   Predicted to enable DNA-binding transcription ...  \n",
      "52   Predicted to enable lipoprotein lipase activit...  \n",
      "157  Predicted to enable inositol 1,4,5 trisphospha...  \n",
      "190  Located in centrosome. Implicated in lung cancer.  \n",
      "193  Predicted to be involved in cell adhesion. Pre...  \n",
      "271  Predicted to be involved in miRNA-mediated pos...  \n",
      "407  Predicted to enable protein phosphatase regula...  \n",
      "\n",
      "[7 rows x 8 columns]\n"
     ]
    }
   ],
   "source": [
    "final_targets3 = final_targets[final_targets[\"DESCRIPTION\"].str.contains(\"cancer\")]\n",
    "print(final_targets3.head(50))"
   ]
  },
  {
   "cell_type": "markdown",
   "id": "e4177d74-8d36-47f2-8de7-9cc821c76306",
   "metadata": {},
   "source": [
    "## Finalizing predictor gene sets"
   ]
  },
  {
   "cell_type": "markdown",
   "id": "66737680-5327-418b-ae24-f34f0a9f26a6",
   "metadata": {},
   "source": [
    "After merging the gene expression data with gene annotations, and filtering to include only genes active in normal lung tissue, removing those known to be biomarkers of disease, and separating those already implicated in cancer, we arrived at two datasets.\n",
    "The first contains 24 genes with some predicted functions; the second set contains 7 which are implicated in lung cancer.  We will use the second set as needed if the performance of the first set is weak."
   ]
  },
  {
   "cell_type": "markdown",
   "id": "83d0c451-610e-46f4-9442-f3413dad6c01",
   "metadata": {},
   "source": [
    "Another note of caution on the gene set we have now.  Many of them are predicted to play some role in carcinomas:"
   ]
  },
  {
   "cell_type": "code",
   "execution_count": 50,
   "id": "46a0ec9d-ad70-49df-9a41-c7d25138d833",
   "metadata": {},
   "outputs": [
    {
     "name": "stdout",
     "output_type": "stream",
     "text": [
      "        NAME  Norm_mean  ...        CODE  \\\n",
      "28      SIM2  -2.986670  ...  HGNC:10883   \n",
      "51      TBX4   3.392331  ...  HGNC:11603   \n",
      "75    ZNF157  -4.162069  ...  HGNC:12942   \n",
      "91       CIC   3.277328  ...  HGNC:14214   \n",
      "136  NKIRAS2   2.731888  ...  HGNC:17898   \n",
      "\n",
      "                                           DESCRIPTION  \n",
      "28   Predicted to enable DNA-binding transcription ...  \n",
      "51   Predicted to enable DNA-binding transcription ...  \n",
      "75   Predicted to enable DNA-binding transcription ...  \n",
      "91   Predicted to enable DNA-binding transcription ...  \n",
      "136  Predicted to enable GTPase activating protein ...  \n",
      "\n",
      "[5 rows x 8 columns]\n"
     ]
    }
   ],
   "source": [
    "slim_final=final_targets2[~final_targets2[\"DESCRIPTION\"].str.contains(\"carcinoma\")]\n",
    "print(slim_final.head())"
   ]
  },
  {
   "cell_type": "markdown",
   "id": "f7c15fc2-b61b-4353-ae5a-92d01fc5272d",
   "metadata": {},
   "source": [
    "Again, this is something we may return to later. As an aside, MPZL3 is involved in cell adhesion--we speculate its role could be akin to a virulence factor, where (mal)expression of that gene leads to poor cell adherence and thus metastatic cancer.  And finally--one more look at what the annotations are telling us:"
   ]
  },
  {
   "cell_type": "code",
   "execution_count": 52,
   "id": "c11914c4-cee3-48b0-93f4-0a5cfae210fd",
   "metadata": {},
   "outputs": [
    {
     "name": "stdout",
     "output_type": "stream",
     "text": [
      "       NAME  Norm_mean  ...        CODE  \\\n",
      "18     SDHC   2.252911  ...  HGNC:10682   \n",
      "89   CHRNA9  -6.707083  ...  HGNC:14079   \n",
      "105   RTEL1  -2.851685  ...  HGNC:15888   \n",
      "139   CMPK1   5.360355  ...  HGNC:18170   \n",
      "158    PAOX   1.126756  ...  HGNC:20837   \n",
      "208   STRAP   5.229397  ...  HGNC:30796   \n",
      "243  SNHG20   0.124062  ...  HGNC:33099   \n",
      "263     FES   3.069147  ...   HGNC:3657   \n",
      "268      FH   4.173180  ...   HGNC:3700   \n",
      "306  HS3ST2   1.973635  ...   HGNC:5195   \n",
      "339   LAMA3   3.410678  ...   HGNC:6483   \n",
      "357     MAX   3.776226  ...   HGNC:6913   \n",
      "359    MBD4   3.346776  ...   HGNC:6919   \n",
      "375    MSH3   1.624633  ...   HGNC:7326   \n",
      "376    MSH5  -2.524527  ...   HGNC:7328   \n",
      "381    NAT2  -3.506457  ...   HGNC:7646   \n",
      "416   PTPRJ   2.675292  ...   HGNC:9673   \n",
      "420    RARB   1.370408  ...   HGNC:9865   \n",
      "\n",
      "                                           DESCRIPTION  \n",
      "18   Predicted to enable heme binding activity. Pre...  \n",
      "89   Enables acetylcholine-gated monoatomic cation-...  \n",
      "105  Enables ATP binding activity and DNA helicase ...  \n",
      "139  Enables UMP kinase activity and nucleoside dip...  \n",
      "158  Enables polyamine oxidase activity. Involved i...  \n",
      "208  Enables RNA binding activity. Involved in main...  \n",
      "243  Predicted to be involved in cellular response ...  \n",
      "263  Enables immunoglobulin receptor binding activi...  \n",
      "268  Enables fumarate hydratase activity and histon...  \n",
      "306  Enables [heparan sulfate]-glucosamine 3-sulfot...  \n",
      "339  Predicted to enable integrin binding activity....  \n",
      "357  Enables several functions, including DNA-bindi...  \n",
      "359  Enables pyrimidine-specific mismatch base pair...  \n",
      "375  Enables enzyme binding activity. Contributes t...  \n",
      "376  Predicted to enable double-stranded DNA bindin...  \n",
      "381  Predicted to enable arylamine N-acetyltransfer...  \n",
      "416  Enables several functions, including beta-cate...  \n",
      "420  Enables nuclear receptor activity and sequence...  \n",
      "\n",
      "[18 rows x 8 columns]\n"
     ]
    }
   ],
   "source": [
    "other_targets = possible_targets[possible_targets[\"DESCRIPTION\"].str.contains(\"carcinoma\")]  #how many of these have 'carcinoma' in them\n",
    "print(other_targets.head(50))"
   ]
  },
  {
   "cell_type": "markdown",
   "id": "453e895a-3995-481a-bbc5-7242295ac5bf",
   "metadata": {},
   "source": [
    "## Section 2 summary and conclusion"
   ]
  },
  {
   "cell_type": "markdown",
   "id": "d7ee4ec4-8ee9-4bd5-b98c-cb695ae45a73",
   "metadata": {},
   "source": [
    "We will now proceed to analyze 'final_targets2' which contains the genes matching the following filtering criteria:\n",
    "--active in normal lung tissue\n",
    "--genes with potential for bio marker discovery (that is, not known biomarkers of cancer or other disease, though some may be suspected to play a role in cancer or carcinomas)\n",
    "--genes with predicted functions (not unknown, but also not definitively characterized).\n",
    "\n",
    "We also have additional 'short lists'  and variations of the key set, above, which may be experimented on as we explore models later.\n",
    "\n",
    "At this stage we have a small enough set of target genes to proceed with EDA, preprocessing, and model building.\n",
    "\n",
    "(Finally, we note that a great many other avenues were explored, and later rejected: the above search for candidate genes is the best found so far)."
   ]
  },
  {
   "cell_type": "markdown",
   "id": "26acc937-3ab0-49bb-a337-d08890d899b1",
   "metadata": {},
   "source": [
    "# 3. EDA with candidate gene sets "
   ]
  },
  {
   "cell_type": "markdown",
   "id": "e3455d63-54b7-4bac-9c0e-d8bb76cf2121",
   "metadata": {},
   "source": [
    "Earlier we looked at a few random genes and compared the normal vs cancer expression levels.  It would be good to do the same with the candidate genes from section 2."
   ]
  },
  {
   "cell_type": "code",
   "execution_count": 53,
   "id": "938265a9-ed31-495b-9f82-b0e7037773d2",
   "metadata": {},
   "outputs": [
    {
     "data": {
      "image/png": "[encoded data removed]",
      "text/plain": [
       "<Figure size 640x480 with 1 Axes>"
      ]
     },
     "metadata": {},
     "output_type": "display_data"
    }
   ],
   "source": [
    "sns.kdeplot(data=df4, x='SDHC', hue=\"SampleType\", fill=True, common_norm=False, alpha=1)  #just using the prior df4 dataframe\n",
    "plt.show()"
   ]
  },
  {
   "cell_type": "markdown",
   "id": "47c24a43-0e20-4caa-8bf5-6f61ba236375",
   "metadata": {},
   "source": [
    "TBD: let's plot or list the std_ratios and mean expression differences/normal gene std."
   ]
  },
  {
   "cell_type": "code",
   "execution_count": 54,
   "id": "15b2a599-60ad-46c0-b361-dcdef0d5f552",
   "metadata": {},
   "outputs": [
    {
     "name": "stdout",
     "output_type": "stream",
     "text": [
      "['SDHC', 'SIM2', 'TBX4', 'ZNF157', 'CIC', 'NKIRAS2', 'NKIRAS1', 'ASXL1', 'DPPA2', 'DPPA4', 'STK40', 'COPA', 'TMEM38B', 'CCDC40', 'MIR367', 'SNHG20', 'ATXN1L', 'CFC1B', 'FENDRR', 'LAMA3', 'MAN1A2', 'MAN2A1', 'MSH5', 'NAT2']\n"
     ]
    }
   ],
   "source": [
    "#create list of candidate genes from earlier.\n",
    "Gene_list = list(final_targets2['NAME'])  #I only want the names for now\n",
    "print(Gene_list)"
   ]
  },
  {
   "cell_type": "markdown",
   "id": "b72d18bb-b992-4909-9232-396211d6be2a",
   "metadata": {},
   "source": [
    "OK:  next we perform a sanity check to see what the candidate genes might be doing in normal vs tumor tissue\n",
    "We have to be careful that Norm_delta does not enter the picture later in the model.  It is only for exploration.\n",
    "\n",
    "The variable 'Norm-Delta' is the difference in mean expression for each gene between normal and tumor tissue.  In the model, we anticipate using the ratio of expression level to the NORMAL tissue type standard deviation."
   ]
  },
  {
   "cell_type": "code",
   "execution_count": 55,
   "id": "c8fb131a-2c63-4d54-9e7e-b7602b1843c9",
   "metadata": {},
   "outputs": [
    {
     "name": "stdout",
     "output_type": "stream",
     "text": [
      "       NAME  Norm_mean  Tumor_mean  Norm_std  Tumor_std  stdratio  Norm_delta\n",
      "0      A1BG  -3.678356   -3.750148  0.817152   1.582747  1.936906   -0.087856\n",
      "1  A1BG-AS1  -0.181150   -0.658819  0.534636   1.106743  2.070087   -0.893447\n",
      "2      A1CF -12.826603  -11.492063  5.785683   5.886855  1.017487    0.230663\n",
      "3       A2M   9.506983    5.746430  0.559679   1.281895  2.290412   -6.719130\n",
      "4   A2M-AS1  -0.314353   -0.910212  0.416750   0.937864  2.250421   -1.429774\n"
     ]
    }
   ],
   "source": [
    "#Next do a calculation for ALL genes, since our target list may vary\n",
    "finaldf['Norm_delta'] = (finaldf['Tumor_mean'] - finaldf['Norm_mean'])/finaldf['Norm_std']\n",
    "pd.set_option('display.max_columns', 1000) #now I want to see the columns more clearly\n",
    "pd.set_option('display.width', 1000)\n",
    "print(finaldf.head())"
   ]
  },
  {
   "cell_type": "markdown",
   "id": "f45c10f9-88b7-4c09-b0c2-96448f5bf081",
   "metadata": {},
   "source": [
    "## A brief interlude for more data wrangling before proceeding with EDA:"
   ]
  },
  {
   "cell_type": "markdown",
   "id": "3fe06d96-b42f-4ac0-a6a6-59b36a05826f",
   "metadata": {},
   "source": [
    "I want a simpler dataframe to work with, that's easier to read, etc, for analysis.  I'm going to construct an EDA dataframe, which is based on the gene list of final targets, above."
   ]
  },
  {
   "cell_type": "code",
   "execution_count": 56,
   "id": "5aa2f09c-9809-4b9d-9c28-ee34ccaa6e71",
   "metadata": {},
   "outputs": [
    {
     "name": "stdout",
     "output_type": "stream",
     "text": [
      "          NAME  Norm_mean  Tumor_mean  Norm_std  Tumor_std  stdratio  Norm_delta\n",
      "19392    ASXL1   3.033214    2.965735  0.331737   0.568385  1.713361   -0.203412\n",
      "19631   ATXN1L   2.987904    2.577886  0.395435   0.585538  1.480744   -1.036879\n",
      "21338   CCDC40  -0.174904   -1.459606  1.190263   1.151161  0.967149   -1.079344\n",
      "22022    CFC1B -18.581555  -19.570268  4.052522   2.221798  0.548251   -0.243975\n",
      "22222      CIC   3.277328    3.462740  0.442868   0.785067  1.772689    0.418660\n",
      "22668     COPA   5.114477    5.545745  0.219132   0.442652  2.020019    1.968067\n",
      "24278    DPPA2 -17.706303   -9.603190  5.095698   8.993804  1.764980    1.590187\n",
      "24287    DPPA4  -7.029122   -7.972699  4.061045   4.782399  1.177628   -0.232348\n",
      "26087   FENDRR   2.784248   -1.935167  0.890335   1.820095  2.044281   -5.300719\n",
      "30921    LAMA3   3.410678    3.201375  0.699877   1.656641  2.367046   -0.299058\n",
      "33596   MAN1A2   2.360571    2.624083  0.347194   0.590257  1.700078    0.758974\n",
      "33601   MAN2A1   1.996711    2.043456  0.343070   0.649092  1.892011    0.136256\n",
      "34603   MIR367 -18.432784  -18.957262  5.086235   4.092002  0.804525   -0.103117\n",
      "36120     MSH5  -2.524527   -1.087734  1.105124   1.227619  1.110843    1.300119\n",
      "37005     NAT2  -3.506457   -7.168037  2.592463   6.526202  2.517375   -1.412394\n",
      "37476  NKIRAS1   1.523857    1.091286  0.284232   0.471304  1.658166   -1.521895\n",
      "37477  NKIRAS2   2.731888    3.524384  0.200198   0.458122  2.288342    3.958553\n",
      "49425     SDHC   2.252911    2.826615  0.198894   0.459122  2.308381    2.884476\n",
      "49927     SIM2  -2.986670   -0.474648  0.483191   1.707957  3.534748    5.198822\n",
      "50702   SNHG20   0.124062    1.054194  0.579025   0.915609  1.581294    1.606377\n",
      "51945    STK40   4.139050    3.567809  0.376918   0.647699  1.718406   -1.515557\n",
      "52467     TBX4   3.392331   -0.254923  0.705874   1.553770  2.201200   -5.167006\n",
      "53207  TMEM38B   1.197102    2.058172  0.500399   1.024133  2.046632    1.720764\n",
      "56218   ZNF157  -4.162069   -4.498144  2.581526   4.081157  1.580909   -0.130185\n"
     ]
    }
   ],
   "source": [
    "#ok, let's see if this helps. \n",
    "mask = finaldf['NAME'].isin(Gene_list)\n",
    "EDA_data = finaldf[mask]\n",
    "\n",
    "print(EDA_data.head(30))"
   ]
  },
  {
   "cell_type": "markdown",
   "id": "53a7bfdf-a301-404b-bd39-13dcb9991d6e",
   "metadata": {},
   "source": [
    "### Important wrangling step before we proceed:  clean up the indices in some of the dataframes from earlier"
   ]
  },
  {
   "cell_type": "code",
   "execution_count": 57,
   "id": "af20e1f4-72c0-4feb-bde2-7a06aa099832",
   "metadata": {},
   "outputs": [
    {
     "name": "stdout",
     "output_type": "stream",
     "text": [
      "          Norm_mean  Tumor_mean  Norm_std  Tumor_std  stdratio  Norm_delta\n",
      "NAME                                                                      \n",
      "A1BG      -3.678356   -3.750148  0.817152   1.582747  1.936906   -0.087856\n",
      "A1BG-AS1  -0.181150   -0.658819  0.534636   1.106743  2.070087   -0.893447\n",
      "A1CF     -12.826603  -11.492063  5.785683   5.886855  1.017487    0.230663\n",
      "A2M        9.506983    5.746430  0.559679   1.281895  2.290412   -6.719130\n",
      "A2M-AS1   -0.314353   -0.910212  0.416750   0.937864  2.250421   -1.429774\n"
     ]
    }
   ],
   "source": [
    "#Ok I will now set the index to NAME in 'finaldf' so I can pull out genes more easily\n",
    "finaldf.set_index('NAME', inplace=True)\n",
    "print(finaldf.head())"
   ]
  },
  {
   "cell_type": "code",
   "execution_count": 58,
   "id": "ca2811cb-5a31-4adc-815c-e9e2aa0ad2d2",
   "metadata": {},
   "outputs": [
    {
     "name": "stdout",
     "output_type": "stream",
     "text": [
      "        Norm_mean  Tumor_mean  Norm_std  Tumor_std  stdratio        CODE                                        DESCRIPTION\n",
      "NAME                                                                                                                       \n",
      "SDHC     2.252911    2.826615  0.198894   0.459122  2.308381  HGNC:10682  Predicted to enable heme binding activity. Pre...\n",
      "SIM2    -2.986670   -0.474648  0.483191   1.707957  3.534748  HGNC:10883  Predicted to enable DNA-binding transcription ...\n",
      "TBX4     3.392331   -0.254923  0.705874   1.553770  2.201200  HGNC:11603  Predicted to enable DNA-binding transcription ...\n",
      "ZNF157  -4.162069   -4.498144  2.581526   4.081157  1.580909  HGNC:12942  Predicted to enable DNA-binding transcription ...\n",
      "CIC      3.277328    3.462740  0.442868   0.785067  1.772689  HGNC:14214  Predicted to enable DNA-binding transcription ...\n"
     ]
    }
   ],
   "source": [
    "#let's do that with the annotations too...\n",
    "final_targets2.set_index('NAME', inplace = True)\n",
    "print(final_targets2.head())"
   ]
  },
  {
   "cell_type": "code",
   "execution_count": 59,
   "id": "f00121a0-3180-43d6-a3fa-c13e5d2030f7",
   "metadata": {},
   "outputs": [
    {
     "name": "stdout",
     "output_type": "stream",
     "text": [
      "        Norm_mean  Tumor_mean  Norm_std  Tumor_std  stdratio  Norm_delta\n",
      "NAME                                                                    \n",
      "ASXL1    3.033214    2.965735  0.331737   0.568385  1.713361   -0.203412\n",
      "ATXN1L   2.987904    2.577886  0.395435   0.585538  1.480744   -1.036879\n",
      "CCDC40  -0.174904   -1.459606  1.190263   1.151161  0.967149   -1.079344\n",
      "CFC1B  -18.581555  -19.570268  4.052522   2.221798  0.548251   -0.243975\n",
      "CIC      3.277328    3.462740  0.442868   0.785067  1.772689    0.418660\n"
     ]
    }
   ],
   "source": [
    "#now once more:\n",
    "EDA_data.set_index('NAME', inplace=True)\n",
    "\n",
    "print(EDA_data.head())"
   ]
  },
  {
   "cell_type": "code",
   "execution_count": 60,
   "id": "27725926-2672-4ab6-a3c1-e5a78504c8d2",
   "metadata": {},
   "outputs": [
    {
     "name": "stdout",
     "output_type": "stream",
     "text": [
      "[3.392331231466092 -0.2549229077671009 0.7058737641016737\n",
      " 1.5537696752684174 2.2012004897870283 'HGNC:11603'\n",
      " 'Predicted to enable DNA-binding transcription factor activity, RNA polymerase II-specific and RNA polymerase II cis-regulatory region sequence-specific DNA binding activity. Involved in embryonic hindlimb morphogenesis; embryonic lung development; and skeletal system morphogenesis. Predicted to be part of chromatin. Predicted to be active in nucleus. Implicated in arthropathy and ischiocoxopodopatellar syndrome.']\n"
     ]
    }
   ],
   "source": [
    "print(final_targets2.loc['TBX4'].values) "
   ]
  },
  {
   "cell_type": "markdown",
   "id": "0a22fe53-360a-4199-aeac-704475bb5a04",
   "metadata": {},
   "source": [
    "## Returning to EDA"
   ]
  },
  {
   "cell_type": "code",
   "execution_count": 61,
   "id": "3ea1fcac-77d1-4265-b77f-1f15f05e20ba",
   "metadata": {},
   "outputs": [
    {
     "name": "stdout",
     "output_type": "stream",
     "text": [
      "         Norm_mean  Tumor_mean  Norm_std  Tumor_std  stdratio  Norm_delta\n",
      "NAME                                                                     \n",
      "SIM2     -2.986670   -0.474648  0.483191   1.707957  3.534748    5.198822\n",
      "NKIRAS2   2.731888    3.524384  0.200198   0.458122  2.288342    3.958553\n",
      "SDHC      2.252911    2.826615  0.198894   0.459122  2.308381    2.884476\n",
      "COPA      5.114477    5.545745  0.219132   0.442652  2.020019    1.968067\n",
      "TMEM38B   1.197102    2.058172  0.500399   1.024133  2.046632    1.720764\n",
      "SNHG20    0.124062    1.054194  0.579025   0.915609  1.581294    1.606377\n",
      "DPPA2   -17.706303   -9.603190  5.095698   8.993804  1.764980    1.590187\n",
      "MSH5     -2.524527   -1.087734  1.105124   1.227619  1.110843    1.300119\n",
      "MAN1A2    2.360571    2.624083  0.347194   0.590257  1.700078    0.758974\n",
      "CIC       3.277328    3.462740  0.442868   0.785067  1.772689    0.418660\n",
      "MAN2A1    1.996711    2.043456  0.343070   0.649092  1.892011    0.136256\n",
      "MIR367  -18.432784  -18.957262  5.086235   4.092002  0.804525   -0.103117\n",
      "ZNF157   -4.162069   -4.498144  2.581526   4.081157  1.580909   -0.130185\n",
      "ASXL1     3.033214    2.965735  0.331737   0.568385  1.713361   -0.203412\n",
      "DPPA4    -7.029122   -7.972699  4.061045   4.782399  1.177628   -0.232348\n",
      "CFC1B   -18.581555  -19.570268  4.052522   2.221798  0.548251   -0.243975\n",
      "LAMA3     3.410678    3.201375  0.699877   1.656641  2.367046   -0.299058\n",
      "ATXN1L    2.987904    2.577886  0.395435   0.585538  1.480744   -1.036879\n",
      "CCDC40   -0.174904   -1.459606  1.190263   1.151161  0.967149   -1.079344\n",
      "NAT2     -3.506457   -7.168037  2.592463   6.526202  2.517375   -1.412394\n"
     ]
    }
   ],
   "source": [
    "#I want to see the ranked list of targets:\n",
    "print(EDA_data.sort_values(by=['Norm_delta'], ascending=False).nlargest(20,'Norm_delta'))"
   ]
  },
  {
   "cell_type": "code",
   "execution_count": 62,
   "id": "19088c4a-672f-4332-be4d-96955355efc9",
   "metadata": {},
   "outputs": [
    {
     "name": "stdout",
     "output_type": "stream",
     "text": [
      "[-2.986669521076872 -0.47464785040660773 0.4831905783460199\n",
      " 1.7079571152546102 3.5347483825140253 'HGNC:10883'\n",
      " 'Predicted to enable DNA-binding transcription factor activity, RNA polymerase II-specific and RNA polymerase II transcription regulatory region sequence-specific DNA binding activity. Predicted to be involved in regulation of transcription by RNA polymerase II. Predicted to act upstream of or within embryonic pattern specification; lung development; and negative regulation of transcription by RNA polymerase II. Located in nuclear body.']\n"
     ]
    }
   ],
   "source": [
    "#ok, this is useful; 4 genes have 2stds difference or more, 11 have at least 1 std difference.  I wonder what SIM2 is doing:\n",
    "print(final_targets2.loc['SIM2'].values) "
   ]
  },
  {
   "cell_type": "markdown",
   "id": "bf66d3b0-6e89-4e9f-88ee-ac93c266da8d",
   "metadata": {},
   "source": [
    "It looks like we are on the right track; I'd like to look ata plot of the ranked absolute value of this ratio next."
   ]
  },
  {
   "cell_type": "code",
   "execution_count": 78,
   "id": "e50a8e3b-b509-4318-a683-27ff68749b70",
   "metadata": {},
   "outputs": [
    {
     "data": {
      "image/png": "[encoded data removed]",
      "text/plain": [
       "<Figure size 640x480 with 1 Axes>"
      ]
     },
     "metadata": {},
     "output_type": "display_data"
    }
   ],
   "source": [
    "abs_ND = EDA_data['Norm_delta'].abs()  #Here we are comparing absolute values for easier visualization\n",
    "Names = list(EDA_data.index)\n",
    "plt.bar(Names, abs_ND)\n",
    "plt.xticks(rotation='vertical')\n",
    "plt.show()"
   ]
  },
  {
   "cell_type": "markdown",
   "id": "5363d070-532b-4c50-88d3-bd10bb19c38e",
   "metadata": {},
   "source": [
    "Now we can see that many of these genes do look rather suspicious, with mean expression in tumor tissue many standard deviations out of line with the normal tissue expression levels.  In particular, FENDRR, SIM2 and TBX4 seem dramatically different in their behavior.  "
   ]
  },
  {
   "cell_type": "code",
   "execution_count": 79,
   "id": "dcce73b9-cd63-4e31-99fd-a20887b4ca39",
   "metadata": {},
   "outputs": [
    {
     "data": {
      "image/png": "[encoded data removed]",
      "text/plain": [
       "<Figure size 640x480 with 1 Axes>"
      ]
     },
     "metadata": {},
     "output_type": "display_data"
    }
   ],
   "source": [
    "sns.kdeplot(data=df4, x='FENDRR', hue=\"SampleType\", fill=True, common_norm=False, alpha=1)  #just using the prior df4 dataframe\n",
    "plt.show()"
   ]
  },
  {
   "cell_type": "code",
   "execution_count": 80,
   "id": "31b0c62f-5a07-41c5-a7ab-16ad6fb9d670",
   "metadata": {},
   "outputs": [
    {
     "data": {
      "image/png": "[encoded data removed]",
      "text/plain": [
       "<Figure size 640x480 with 1 Axes>"
      ]
     },
     "metadata": {},
     "output_type": "display_data"
    }
   ],
   "source": [
    "sns.kdeplot(data=df4, x='SIM2', hue=\"SampleType\", fill=True, common_norm=False, alpha=1)  #just using the prior df4 dataframe\n",
    "plt.show()"
   ]
  },
  {
   "cell_type": "code",
   "execution_count": 81,
   "id": "8ba69662-c4d2-4040-8d4c-56875769afa6",
   "metadata": {},
   "outputs": [
    {
     "data": {
      "image/png": "[encoded data removed]",
      "text/plain": [
       "<Figure size 640x480 with 1 Axes>"
      ]
     },
     "metadata": {},
     "output_type": "display_data"
    }
   ],
   "source": [
    "sns.kdeplot(data=df4, x='TBX4', hue=\"SampleType\", fill=True, common_norm=False, alpha=1)  #just using the prior df4 dataframe\n",
    "plt.show()"
   ]
  },
  {
   "cell_type": "markdown",
   "id": "8cd70c12-5db1-4abe-b3fb-5ba409abb5ad",
   "metadata": {},
   "source": [
    "# Summary:  Data Wrangling and EDA"
   ]
  },
  {
   "cell_type": "markdown",
   "id": "a21e8c8b-2091-442e-b751-200ac1ec5805",
   "metadata": {},
   "source": [
    "Thus far we have narrowed down our candidate gene set based on biological considerations using the annotations, and have shown that our hypothesis (that expression levels between normal and tumor tissue should differ markedly) appears to be true for most of the genes in our candidate set.  Next we will proceed with pre-processing and model development.  We may choose to add or remove some genes, but for now, will proceed with what we have found in 'final_targets2' for model development.  \n",
    "\n",
    "Note that for the above gene set, some of the genes are suppressed in tumor tissue; TBX4, for instance (recall that '0' is normal, and '1' is tumor. SIM2 is being activated in tumors, whereas TBX4 and FENDRR are being suppressed.  We expected to see up- and down-regulation of genes for the different tissue types.\n",
    "\n",
    "Entering this list of genes in the gene ontology resource (https://geneontology.org/) gives a number of key biological processes these genes are involved in:\n",
    "\n",
    "1) MutSgamma complex\tA heterodimer involved in the stabilization of DNA recombination intermediates, the promotion of crossover recombination, and the proper assembly of the synaptonemal complex in meiotic prophase nuclei. \n",
    "\n",
    "2) \tPR-DUB complex\tA multimeric protein complex that removes monoubiquitin from histone H2A. In Drosophila and mammals, the core of the complex is composed of Calypso/BAP1 and Asx/ASXL1, respectively. \n",
    "\n",
    "3) \tPolycomb repressive deubiquitinase complex\t\t7-dehydrocholesterol reductase activity\tCatalysis of the reaction: cholesterol + NADP+ = 7-dehydrocholesterol + H+ + NADyy\n",
    " \n",
    "4) \n",
    "\tinferior colliculus developme.nt\tThe process whose specific outcome is the progression of the inferior colliculus over time, from its formation to the mature structure. The inferior colliculus (IC) (Latin, lower hill) is the principal midbrain nucleus of the auditory pathway and receives input from several more peripheral brainstem nuclei in the auditory pathway, as well as inputs from the auditory ctex.\n",
    "\n",
    "The last is a curious find, to say the least.ss"
   ]
  },
  {
   "cell_type": "markdown",
   "id": "f605312d-5835-4593-a9ca-c373ce78039f",
   "metadata": {},
   "source": [
    "# 4. Preprocessing (under construction)"
   ]
  },
  {
   "cell_type": "markdown",
   "id": "f0b789cf-fdfc-4987-93cb-5d3a5b17af09",
   "metadata": {},
   "source": [
    "First we need to construct the analysis dataframe, which should contain: gene name, log expression level, label (cancer/normal), normal stdev of expression and ratio of expression level/norm std, which is the variable we will model on.  Once that is done, we need to make the train/test split.  (The log of expression level was already done). There is a mismatch at this point between the number of genes (columns) in our dataframes because...\n",
    "\n",
    "During modeling we will mask to work only with the limited set of final genes.  "
   ]
  },
  {
   "cell_type": "markdown",
   "id": "db370b1d-046f-4aa1-9f50-13260e4dfb01",
   "metadata": {},
   "source": [
    "Recall that 'filteredfinal' is tall and contains gene name and various stats, such as  but 'logdf' contains 57000 columns with genes, sample type, and expression values (551 rows).  THe desired final dataframe should have 551 rows; with 24 columns determined by the downselected list; each cell should have the log exp data/stdev for normal. The final column will be 'sample type' and the first (key) column will be 'NAME'."
   ]
  },
  {
   "cell_type": "code",
   "execution_count": 290,
   "id": "56f9d20d-2c8a-4db7-8359-04f15b10e276",
   "metadata": {},
   "outputs": [
    {
     "name": "stdout",
     "output_type": "stream",
     "text": [
      "       NAME  Norm_mean  Tumor_mean  Norm_std  Tumor_std  stdratio\n",
      "0      A1BG  -2.438014   -2.381063  0.335400   0.528722  1.576396\n",
      "1  A1BG-AS1  -0.016994   -0.392295  0.475384   0.909640  1.913485\n",
      "2      A1CF  -3.283804   -3.219717  0.063599   0.395336  6.216121\n",
      "3       A2M   9.507198    5.750409  0.559586   1.278331  2.284421\n",
      "4   A2M-AS1  -0.139210   -0.619217  0.366558   0.763418  2.082663\n"
     ]
    }
   ],
   "source": [
    "print(filtered_final.head())"
   ]
  },
  {
   "cell_type": "code",
   "execution_count": 291,
   "id": "8c12e8b3-2c51-46ff-8e32-a71941924ed6",
   "metadata": {},
   "outputs": [
    {
     "name": "stdout",
     "output_type": "stream",
     "text": [
      "               0         1         2      ...     56903     56904     56906\n",
      "NAME            A1BG  A1BG-AS1      A1CF  ...    ZYG11B       ZYX     ZZEF1\n",
      "Norm_mean  -2.438014 -0.016994 -3.283804  ...  2.432076  6.631654  2.282536\n",
      "Tumor_mean -2.381063 -0.392295 -3.219717  ...  1.983033    5.8252  1.564559\n",
      "Norm_std      0.3354  0.475384  0.063599  ...  0.375555   0.35182  0.421173\n",
      "Tumor_std   0.528722   0.90964  0.395336  ...  0.425208  0.680403  0.636457\n",
      "\n",
      "[5 rows x 49604 columns]\n"
     ]
    }
   ],
   "source": [
    "#ah.  So...ok, I want norm std from this.\n",
    "temp_df = filtered_final.T\n",
    "print(temp_df.head())"
   ]
  },
  {
   "cell_type": "markdown",
   "id": "6463043f-b2d6-488e-9952-0f41ad3f0eff",
   "metadata": {},
   "source": [
    "Hey wait!  Why are there not almost the same number of columns in temp_df and filtered_final?  Shouldn't we have all the same columns?"
   ]
  },
  {
   "cell_type": "code",
   "execution_count": null,
   "id": "16745ef7-5c2c-42f4-ae76-7d927889b588",
   "metadata": {},
   "outputs": [],
   "source": [
    "#ok, now the above has all the genes with Norm_std, which is fine; I want these to stack vertically so that the stats are at the bottom.\n",
    "#combined_df = pd.concat([logdf,temp_df])  #I don't care about the index and will fix it later\n",
    "#print(combined_df.head()"
   ]
  }
 ],
 "metadata": {
  "kernelspec": {
   "display_name": "Python 3 (ipykernel)",
   "language": "python",
   "name": "python3"
  },
  "language_info": {
   "codemirror_mode": {
    "name": "ipython",
    "version": 3
   },
   "file_extension": ".py",
   "mimetype": "text/x-python",
   "name": "python",
   "nbconvert_exporter": "python",
   "pygments_lexer": "ipython3",
   "version": "3.11.9"
  }
 },
 "nbformat": 4,
 "nbformat_minor": 5
}
